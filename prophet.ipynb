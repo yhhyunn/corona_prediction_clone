{
 "metadata": {
  "language_info": {
   "codemirror_mode": {
    "name": "ipython",
    "version": 3
   },
   "file_extension": ".py",
   "mimetype": "text/x-python",
   "name": "python",
   "nbconvert_exporter": "python",
   "pygments_lexer": "ipython3",
   "version": "3.7.7-final"
  },
  "orig_nbformat": 2,
  "kernelspec": {
   "name": "python_defaultSpec_1598084508003",
   "display_name": "Python 3.7.7 64-bit (conda)"
  }
 },
 "nbformat": 4,
 "nbformat_minor": 2,
 "cells": [
  {
   "cell_type": "code",
   "execution_count": 2,
   "metadata": {
    "tags": []
   },
   "outputs": [
    {
     "output_type": "stream",
     "name": "stdout",
     "text": "1 Physical GPUs, 1 Logical GPUs\n"
    }
   ],
   "source": [
    "# Memory Allocation for using GPU \n",
    "import tensorflow as tf \n",
    "gpus = tf.config.experimental.list_physical_devices('GPU')\n",
    "if gpus:\n",
    "  try:\n",
    "    # Currently, memory growth needs to be the same across GPUs\n",
    "    for gpu in gpus:\n",
    "      tf.config.experimental.set_memory_growth(gpu, True)\n",
    "    logical_gpus = tf.config.experimental.list_logical_devices('GPU')\n",
    "    print(len(gpus), \"Physical GPUs,\", len(logical_gpus), \"Logical GPUs\")\n",
    "  except RuntimeError as e:\n",
    "    # Memory growth must be set before GPUs have been initialized\n",
    "    print(e)\n",
    "\n",
    "import pandas as pd\n",
    "import plotly.graph_objs as go\n",
    "import plotly.offline as py\n",
    "from fbprophet import Prophet\n",
    "from fbprophet.plot import plot_plotly, add_changepoints_to_plot\n",
    "import numpy as np\n",
    "import os\n"
   ]
  },
  {
   "cell_type": "markdown",
   "metadata": {},
   "source": [
    "## Load Dataset"
   ]
  },
  {
   "cell_type": "code",
   "execution_count": 26,
   "metadata": {
    "tags": []
   },
   "outputs": [
    {
     "output_type": "execute_result",
     "data": {
      "text/plain": "         Date Country/Region Province/State  ...  Confirmed  Recovered  Deaths\n0  2020-01-22    Afghanistan            NaN  ...        0.0        0.0     0.0\n1  2020-01-23    Afghanistan            NaN  ...        0.0        0.0     0.0\n2  2020-01-24    Afghanistan            NaN  ...        0.0        0.0     0.0\n3  2020-01-25    Afghanistan            NaN  ...        0.0        0.0     0.0\n4  2020-01-26    Afghanistan            NaN  ...        0.0        0.0     0.0\n\n[5 rows x 8 columns]",
      "text/html": "<div>\n<style scoped>\n    .dataframe tbody tr th:only-of-type {\n        vertical-align: middle;\n    }\n\n    .dataframe tbody tr th {\n        vertical-align: top;\n    }\n\n    .dataframe thead th {\n        text-align: right;\n    }\n</style>\n<table border=\"1\" class=\"dataframe\">\n  <thead>\n    <tr style=\"text-align: right;\">\n      <th></th>\n      <th>Date</th>\n      <th>Country/Region</th>\n      <th>Province/State</th>\n      <th>Lat</th>\n      <th>Long</th>\n      <th>Confirmed</th>\n      <th>Recovered</th>\n      <th>Deaths</th>\n    </tr>\n  </thead>\n  <tbody>\n    <tr>\n      <th>0</th>\n      <td>2020-01-22</td>\n      <td>Afghanistan</td>\n      <td>NaN</td>\n      <td>33.93911</td>\n      <td>67.709953</td>\n      <td>0.0</td>\n      <td>0.0</td>\n      <td>0.0</td>\n    </tr>\n    <tr>\n      <th>1</th>\n      <td>2020-01-23</td>\n      <td>Afghanistan</td>\n      <td>NaN</td>\n      <td>33.93911</td>\n      <td>67.709953</td>\n      <td>0.0</td>\n      <td>0.0</td>\n      <td>0.0</td>\n    </tr>\n    <tr>\n      <th>2</th>\n      <td>2020-01-24</td>\n      <td>Afghanistan</td>\n      <td>NaN</td>\n      <td>33.93911</td>\n      <td>67.709953</td>\n      <td>0.0</td>\n      <td>0.0</td>\n      <td>0.0</td>\n    </tr>\n    <tr>\n      <th>3</th>\n      <td>2020-01-25</td>\n      <td>Afghanistan</td>\n      <td>NaN</td>\n      <td>33.93911</td>\n      <td>67.709953</td>\n      <td>0.0</td>\n      <td>0.0</td>\n      <td>0.0</td>\n    </tr>\n    <tr>\n      <th>4</th>\n      <td>2020-01-26</td>\n      <td>Afghanistan</td>\n      <td>NaN</td>\n      <td>33.93911</td>\n      <td>67.709953</td>\n      <td>0.0</td>\n      <td>0.0</td>\n      <td>0.0</td>\n    </tr>\n  </tbody>\n</table>\n</div>"
     },
     "metadata": {},
     "execution_count": 26
    }
   ],
   "source": [
    "# Project Path \n",
    "BASE_PATH = os.path.abspath(\".\")\n",
    "DATA_PATH = os.path.abspath(\"..\\\\..\\\\00_MLDL\\\\00_BreadBrother\\\\07_Corona_Prediction\")\n",
    "\n",
    "# Confimation, recovery and death data sets by region worldwide\n",
    "URL = \"https://raw.githubusercontent.com/datasets/covid-19/master/data/time-series-19-covid-combined.csv\"\n",
    "\n",
    "\n",
    "data = pd.read_csv(URL, error_bad_lines=False) # 오류나는 데이터 생략\n",
    "#data1 = pd.read_csv(URL, error_bad_lines=True)\n",
    "\n",
    "data.head()"
   ]
  },
  {
   "cell_type": "markdown",
   "metadata": {},
   "source": [
    "## Pre-process"
   ]
  },
  {
   "cell_type": "code",
   "execution_count": 70,
   "metadata": {
    "tags": []
   },
   "outputs": [
    {
     "output_type": "stream",
     "name": "stdout",
     "text": "Date  Confirmed\ncount          210      210.0\nunique         210      197.0\ntop     2020-08-14       28.0\nfreq             1        5.0\n              Date  Confirmed\ncount          210      210.0\nunique         210      197.0\ntop     2020-08-14       28.0\nfreq             1        5.0\n           Date Confirmed\n205  2020-08-14     15039\n206  2020-08-15     15318\n207  2020-08-16     15515\n208  2020-08-17     15761\n209  2020-08-18     16058\n"
    }
   ],
   "source": [
    "# Korea's confirmed case\n",
    "\n",
    "# Row processing\n",
    "df_korea = data[data[\"Country/Region\"]==\"Korea, South\"] # Korea인 Row만 가져오기\n",
    "\n",
    "# Column processing\n",
    "df_korea = np.column_stack([df_korea.Date, df_korea.Confirmed]) # 필요한 Column만 추출\n",
    "\n",
    "# change type to DataFrame\n",
    "df_korea2 = pd.DataFrame(df_korea, columns=[\"Date\", \"Confirmed\"])\n",
    "\n",
    "df_korea = pd.DataFrame(df_korea)\n",
    "df_korea = df_korea.reset_index().rename(columns={0:\"Date\", 1:\"Confirmed\"}) # index column 생성\n",
    "df_korea = df_korea.drop(\"index\", axis=1)\n",
    "\n",
    "print(df_korea.describe())\n",
    "print(df_korea2.describe())\n",
    "print(df_korea.tail())\n"
   ]
  },
  {
   "cell_type": "markdown",
   "metadata": {},
   "source": [
    "## Plot"
   ]
  },
  {
   "cell_type": "code",
   "execution_count": 71,
   "metadata": {},
   "outputs": [
    {
     "output_type": "display_data",
     "data": {
      "application/vnd.plotly.v1+json": {
       "config": {
        "plotlyServerURL": "https://plot.ly"
       },
       "data": [
        {
         "name": "Confirmed cases in Korea",
         "type": "scatter",
         "x": [
          "2020-01-22",
          "2020-01-23",
          "2020-01-24",
          "2020-01-25",
          "2020-01-26",
          "2020-01-27",
          "2020-01-28",
          "2020-01-29",
          "2020-01-30",
          "2020-01-31",
          "2020-02-01",
          "2020-02-02",
          "2020-02-03",
          "2020-02-04",
          "2020-02-05",
          "2020-02-06",
          "2020-02-07",
          "2020-02-08",
          "2020-02-09",
          "2020-02-10",
          "2020-02-11",
          "2020-02-12",
          "2020-02-13",
          "2020-02-14",
          "2020-02-15",
          "2020-02-16",
          "2020-02-17",
          "2020-02-18",
          "2020-02-19",
          "2020-02-20",
          "2020-02-21",
          "2020-02-22",
          "2020-02-23",
          "2020-02-24",
          "2020-02-25",
          "2020-02-26",
          "2020-02-27",
          "2020-02-28",
          "2020-02-29",
          "2020-03-01",
          "2020-03-02",
          "2020-03-03",
          "2020-03-04",
          "2020-03-05",
          "2020-03-06",
          "2020-03-07",
          "2020-03-08",
          "2020-03-09",
          "2020-03-10",
          "2020-03-11",
          "2020-03-12",
          "2020-03-13",
          "2020-03-14",
          "2020-03-15",
          "2020-03-16",
          "2020-03-17",
          "2020-03-18",
          "2020-03-19",
          "2020-03-20",
          "2020-03-21",
          "2020-03-22",
          "2020-03-23",
          "2020-03-24",
          "2020-03-25",
          "2020-03-26",
          "2020-03-27",
          "2020-03-28",
          "2020-03-29",
          "2020-03-30",
          "2020-03-31",
          "2020-04-01",
          "2020-04-02",
          "2020-04-03",
          "2020-04-04",
          "2020-04-05",
          "2020-04-06",
          "2020-04-07",
          "2020-04-08",
          "2020-04-09",
          "2020-04-10",
          "2020-04-11",
          "2020-04-12",
          "2020-04-13",
          "2020-04-14",
          "2020-04-15",
          "2020-04-16",
          "2020-04-17",
          "2020-04-18",
          "2020-04-19",
          "2020-04-20",
          "2020-04-21",
          "2020-04-22",
          "2020-04-23",
          "2020-04-24",
          "2020-04-25",
          "2020-04-26",
          "2020-04-27",
          "2020-04-28",
          "2020-04-29",
          "2020-04-30",
          "2020-05-01",
          "2020-05-02",
          "2020-05-03",
          "2020-05-04",
          "2020-05-05",
          "2020-05-06",
          "2020-05-07",
          "2020-05-08",
          "2020-05-09",
          "2020-05-10",
          "2020-05-11",
          "2020-05-12",
          "2020-05-13",
          "2020-05-14",
          "2020-05-15",
          "2020-05-16",
          "2020-05-17",
          "2020-05-18",
          "2020-05-19",
          "2020-05-20",
          "2020-05-21",
          "2020-05-22",
          "2020-05-23",
          "2020-05-24",
          "2020-05-25",
          "2020-05-26",
          "2020-05-27",
          "2020-05-28",
          "2020-05-29",
          "2020-05-30",
          "2020-05-31",
          "2020-06-01",
          "2020-06-02",
          "2020-06-03",
          "2020-06-04",
          "2020-06-05",
          "2020-06-06",
          "2020-06-07",
          "2020-06-08",
          "2020-06-09",
          "2020-06-10",
          "2020-06-11",
          "2020-06-12",
          "2020-06-13",
          "2020-06-14",
          "2020-06-15",
          "2020-06-16",
          "2020-06-17",
          "2020-06-18",
          "2020-06-19",
          "2020-06-20",
          "2020-06-21",
          "2020-06-22",
          "2020-06-23",
          "2020-06-24",
          "2020-06-25",
          "2020-06-26",
          "2020-06-27",
          "2020-06-28",
          "2020-06-29",
          "2020-06-30",
          "2020-07-01",
          "2020-07-02",
          "2020-07-03",
          "2020-07-04",
          "2020-07-05",
          "2020-07-06",
          "2020-07-07",
          "2020-07-08",
          "2020-07-09",
          "2020-07-10",
          "2020-07-11",
          "2020-07-12",
          "2020-07-13",
          "2020-07-14",
          "2020-07-15",
          "2020-07-16",
          "2020-07-17",
          "2020-07-18",
          "2020-07-19",
          "2020-07-20",
          "2020-07-21",
          "2020-07-22",
          "2020-07-23",
          "2020-07-24",
          "2020-07-25",
          "2020-07-26",
          "2020-07-27",
          "2020-07-28",
          "2020-07-29",
          "2020-07-30",
          "2020-07-31",
          "2020-08-01",
          "2020-08-02",
          "2020-08-03",
          "2020-08-04",
          "2020-08-05",
          "2020-08-06",
          "2020-08-07",
          "2020-08-08",
          "2020-08-09",
          "2020-08-10",
          "2020-08-11",
          "2020-08-12",
          "2020-08-13",
          "2020-08-14",
          "2020-08-15",
          "2020-08-16",
          "2020-08-17",
          "2020-08-18"
         ],
         "y": [
          1,
          1,
          2,
          2,
          3,
          4,
          4,
          4,
          4,
          11,
          12,
          15,
          15,
          16,
          19,
          23,
          24,
          24,
          25,
          27,
          28,
          28,
          28,
          28,
          28,
          29,
          30,
          31,
          31,
          104,
          204,
          433,
          602,
          833,
          977,
          1261,
          1766,
          2337,
          3150,
          3736,
          4335,
          5186,
          5621,
          6088,
          6593,
          7041,
          7314,
          7478,
          7513,
          7755,
          7869,
          7979,
          8086,
          8162,
          8236,
          8320,
          8413,
          8565,
          8652,
          8799,
          8961,
          8961,
          9037,
          9137,
          9241,
          9332,
          9478,
          9583,
          9661,
          9786,
          9887,
          9976,
          10062,
          10156,
          10237,
          10284,
          10331,
          10384,
          10423,
          10450,
          10480,
          10512,
          10537,
          10564,
          10591,
          10613,
          10635,
          10653,
          10661,
          10674,
          10683,
          10694,
          10708,
          10718,
          10728,
          10738,
          10752,
          10761,
          10765,
          10774,
          10780,
          10793,
          10801,
          10804,
          10806,
          10810,
          10822,
          10840,
          10874,
          10909,
          10936,
          10962,
          10991,
          11018,
          11037,
          11050,
          11065,
          11078,
          11110,
          11122,
          11142,
          11165,
          11190,
          11206,
          11225,
          11265,
          11344,
          11402,
          11441,
          11468,
          11503,
          11541,
          11590,
          11629,
          11668,
          11719,
          11776,
          11814,
          11852,
          11902,
          11947,
          12003,
          12051,
          12085,
          12121,
          12155,
          12198,
          12257,
          12306,
          12373,
          12421,
          12438,
          12484,
          12535,
          12563,
          12602,
          12653,
          12715,
          12757,
          12800,
          12850,
          12904,
          12967,
          13030,
          13091,
          13137,
          13181,
          13244,
          13293,
          13338,
          13373,
          13417,
          13479,
          13512,
          13551,
          13612,
          13672,
          13711,
          13745,
          13771,
          13816,
          13879,
          13938,
          13979,
          14092,
          14150,
          14175,
          14203,
          14251,
          14269,
          14305,
          14336,
          14366,
          14389,
          14423,
          14456,
          14499,
          14519,
          14562,
          14598,
          14626,
          14660,
          14714,
          14770,
          14873,
          15039,
          15318,
          15515,
          15761,
          16058
         ]
        }
       ],
       "layout": {
        "template": {
         "data": {
          "bar": [
           {
            "error_x": {
             "color": "#2a3f5f"
            },
            "error_y": {
             "color": "#2a3f5f"
            },
            "marker": {
             "line": {
              "color": "#E5ECF6",
              "width": 0.5
             }
            },
            "type": "bar"
           }
          ],
          "barpolar": [
           {
            "marker": {
             "line": {
              "color": "#E5ECF6",
              "width": 0.5
             }
            },
            "type": "barpolar"
           }
          ],
          "carpet": [
           {
            "aaxis": {
             "endlinecolor": "#2a3f5f",
             "gridcolor": "white",
             "linecolor": "white",
             "minorgridcolor": "white",
             "startlinecolor": "#2a3f5f"
            },
            "baxis": {
             "endlinecolor": "#2a3f5f",
             "gridcolor": "white",
             "linecolor": "white",
             "minorgridcolor": "white",
             "startlinecolor": "#2a3f5f"
            },
            "type": "carpet"
           }
          ],
          "choropleth": [
           {
            "colorbar": {
             "outlinewidth": 0,
             "ticks": ""
            },
            "type": "choropleth"
           }
          ],
          "contour": [
           {
            "colorbar": {
             "outlinewidth": 0,
             "ticks": ""
            },
            "colorscale": [
             [
              0,
              "#0d0887"
             ],
             [
              0.1111111111111111,
              "#46039f"
             ],
             [
              0.2222222222222222,
              "#7201a8"
             ],
             [
              0.3333333333333333,
              "#9c179e"
             ],
             [
              0.4444444444444444,
              "#bd3786"
             ],
             [
              0.5555555555555556,
              "#d8576b"
             ],
             [
              0.6666666666666666,
              "#ed7953"
             ],
             [
              0.7777777777777778,
              "#fb9f3a"
             ],
             [
              0.8888888888888888,
              "#fdca26"
             ],
             [
              1,
              "#f0f921"
             ]
            ],
            "type": "contour"
           }
          ],
          "contourcarpet": [
           {
            "colorbar": {
             "outlinewidth": 0,
             "ticks": ""
            },
            "type": "contourcarpet"
           }
          ],
          "heatmap": [
           {
            "colorbar": {
             "outlinewidth": 0,
             "ticks": ""
            },
            "colorscale": [
             [
              0,
              "#0d0887"
             ],
             [
              0.1111111111111111,
              "#46039f"
             ],
             [
              0.2222222222222222,
              "#7201a8"
             ],
             [
              0.3333333333333333,
              "#9c179e"
             ],
             [
              0.4444444444444444,
              "#bd3786"
             ],
             [
              0.5555555555555556,
              "#d8576b"
             ],
             [
              0.6666666666666666,
              "#ed7953"
             ],
             [
              0.7777777777777778,
              "#fb9f3a"
             ],
             [
              0.8888888888888888,
              "#fdca26"
             ],
             [
              1,
              "#f0f921"
             ]
            ],
            "type": "heatmap"
           }
          ],
          "heatmapgl": [
           {
            "colorbar": {
             "outlinewidth": 0,
             "ticks": ""
            },
            "colorscale": [
             [
              0,
              "#0d0887"
             ],
             [
              0.1111111111111111,
              "#46039f"
             ],
             [
              0.2222222222222222,
              "#7201a8"
             ],
             [
              0.3333333333333333,
              "#9c179e"
             ],
             [
              0.4444444444444444,
              "#bd3786"
             ],
             [
              0.5555555555555556,
              "#d8576b"
             ],
             [
              0.6666666666666666,
              "#ed7953"
             ],
             [
              0.7777777777777778,
              "#fb9f3a"
             ],
             [
              0.8888888888888888,
              "#fdca26"
             ],
             [
              1,
              "#f0f921"
             ]
            ],
            "type": "heatmapgl"
           }
          ],
          "histogram": [
           {
            "marker": {
             "colorbar": {
              "outlinewidth": 0,
              "ticks": ""
             }
            },
            "type": "histogram"
           }
          ],
          "histogram2d": [
           {
            "colorbar": {
             "outlinewidth": 0,
             "ticks": ""
            },
            "colorscale": [
             [
              0,
              "#0d0887"
             ],
             [
              0.1111111111111111,
              "#46039f"
             ],
             [
              0.2222222222222222,
              "#7201a8"
             ],
             [
              0.3333333333333333,
              "#9c179e"
             ],
             [
              0.4444444444444444,
              "#bd3786"
             ],
             [
              0.5555555555555556,
              "#d8576b"
             ],
             [
              0.6666666666666666,
              "#ed7953"
             ],
             [
              0.7777777777777778,
              "#fb9f3a"
             ],
             [
              0.8888888888888888,
              "#fdca26"
             ],
             [
              1,
              "#f0f921"
             ]
            ],
            "type": "histogram2d"
           }
          ],
          "histogram2dcontour": [
           {
            "colorbar": {
             "outlinewidth": 0,
             "ticks": ""
            },
            "colorscale": [
             [
              0,
              "#0d0887"
             ],
             [
              0.1111111111111111,
              "#46039f"
             ],
             [
              0.2222222222222222,
              "#7201a8"
             ],
             [
              0.3333333333333333,
              "#9c179e"
             ],
             [
              0.4444444444444444,
              "#bd3786"
             ],
             [
              0.5555555555555556,
              "#d8576b"
             ],
             [
              0.6666666666666666,
              "#ed7953"
             ],
             [
              0.7777777777777778,
              "#fb9f3a"
             ],
             [
              0.8888888888888888,
              "#fdca26"
             ],
             [
              1,
              "#f0f921"
             ]
            ],
            "type": "histogram2dcontour"
           }
          ],
          "mesh3d": [
           {
            "colorbar": {
             "outlinewidth": 0,
             "ticks": ""
            },
            "type": "mesh3d"
           }
          ],
          "parcoords": [
           {
            "line": {
             "colorbar": {
              "outlinewidth": 0,
              "ticks": ""
             }
            },
            "type": "parcoords"
           }
          ],
          "pie": [
           {
            "automargin": true,
            "type": "pie"
           }
          ],
          "scatter": [
           {
            "marker": {
             "colorbar": {
              "outlinewidth": 0,
              "ticks": ""
             }
            },
            "type": "scatter"
           }
          ],
          "scatter3d": [
           {
            "line": {
             "colorbar": {
              "outlinewidth": 0,
              "ticks": ""
             }
            },
            "marker": {
             "colorbar": {
              "outlinewidth": 0,
              "ticks": ""
             }
            },
            "type": "scatter3d"
           }
          ],
          "scattercarpet": [
           {
            "marker": {
             "colorbar": {
              "outlinewidth": 0,
              "ticks": ""
             }
            },
            "type": "scattercarpet"
           }
          ],
          "scattergeo": [
           {
            "marker": {
             "colorbar": {
              "outlinewidth": 0,
              "ticks": ""
             }
            },
            "type": "scattergeo"
           }
          ],
          "scattergl": [
           {
            "marker": {
             "colorbar": {
              "outlinewidth": 0,
              "ticks": ""
             }
            },
            "type": "scattergl"
           }
          ],
          "scattermapbox": [
           {
            "marker": {
             "colorbar": {
              "outlinewidth": 0,
              "ticks": ""
             }
            },
            "type": "scattermapbox"
           }
          ],
          "scatterpolar": [
           {
            "marker": {
             "colorbar": {
              "outlinewidth": 0,
              "ticks": ""
             }
            },
            "type": "scatterpolar"
           }
          ],
          "scatterpolargl": [
           {
            "marker": {
             "colorbar": {
              "outlinewidth": 0,
              "ticks": ""
             }
            },
            "type": "scatterpolargl"
           }
          ],
          "scatterternary": [
           {
            "marker": {
             "colorbar": {
              "outlinewidth": 0,
              "ticks": ""
             }
            },
            "type": "scatterternary"
           }
          ],
          "surface": [
           {
            "colorbar": {
             "outlinewidth": 0,
             "ticks": ""
            },
            "colorscale": [
             [
              0,
              "#0d0887"
             ],
             [
              0.1111111111111111,
              "#46039f"
             ],
             [
              0.2222222222222222,
              "#7201a8"
             ],
             [
              0.3333333333333333,
              "#9c179e"
             ],
             [
              0.4444444444444444,
              "#bd3786"
             ],
             [
              0.5555555555555556,
              "#d8576b"
             ],
             [
              0.6666666666666666,
              "#ed7953"
             ],
             [
              0.7777777777777778,
              "#fb9f3a"
             ],
             [
              0.8888888888888888,
              "#fdca26"
             ],
             [
              1,
              "#f0f921"
             ]
            ],
            "type": "surface"
           }
          ],
          "table": [
           {
            "cells": {
             "fill": {
              "color": "#EBF0F8"
             },
             "line": {
              "color": "white"
             }
            },
            "header": {
             "fill": {
              "color": "#C8D4E3"
             },
             "line": {
              "color": "white"
             }
            },
            "type": "table"
           }
          ]
         },
         "layout": {
          "annotationdefaults": {
           "arrowcolor": "#2a3f5f",
           "arrowhead": 0,
           "arrowwidth": 1
          },
          "coloraxis": {
           "colorbar": {
            "outlinewidth": 0,
            "ticks": ""
           }
          },
          "colorscale": {
           "diverging": [
            [
             0,
             "#8e0152"
            ],
            [
             0.1,
             "#c51b7d"
            ],
            [
             0.2,
             "#de77ae"
            ],
            [
             0.3,
             "#f1b6da"
            ],
            [
             0.4,
             "#fde0ef"
            ],
            [
             0.5,
             "#f7f7f7"
            ],
            [
             0.6,
             "#e6f5d0"
            ],
            [
             0.7,
             "#b8e186"
            ],
            [
             0.8,
             "#7fbc41"
            ],
            [
             0.9,
             "#4d9221"
            ],
            [
             1,
             "#276419"
            ]
           ],
           "sequential": [
            [
             0,
             "#0d0887"
            ],
            [
             0.1111111111111111,
             "#46039f"
            ],
            [
             0.2222222222222222,
             "#7201a8"
            ],
            [
             0.3333333333333333,
             "#9c179e"
            ],
            [
             0.4444444444444444,
             "#bd3786"
            ],
            [
             0.5555555555555556,
             "#d8576b"
            ],
            [
             0.6666666666666666,
             "#ed7953"
            ],
            [
             0.7777777777777778,
             "#fb9f3a"
            ],
            [
             0.8888888888888888,
             "#fdca26"
            ],
            [
             1,
             "#f0f921"
            ]
           ],
           "sequentialminus": [
            [
             0,
             "#0d0887"
            ],
            [
             0.1111111111111111,
             "#46039f"
            ],
            [
             0.2222222222222222,
             "#7201a8"
            ],
            [
             0.3333333333333333,
             "#9c179e"
            ],
            [
             0.4444444444444444,
             "#bd3786"
            ],
            [
             0.5555555555555556,
             "#d8576b"
            ],
            [
             0.6666666666666666,
             "#ed7953"
            ],
            [
             0.7777777777777778,
             "#fb9f3a"
            ],
            [
             0.8888888888888888,
             "#fdca26"
            ],
            [
             1,
             "#f0f921"
            ]
           ]
          },
          "colorway": [
           "#636efa",
           "#EF553B",
           "#00cc96",
           "#ab63fa",
           "#FFA15A",
           "#19d3f3",
           "#FF6692",
           "#B6E880",
           "#FF97FF",
           "#FECB52"
          ],
          "font": {
           "color": "#2a3f5f"
          },
          "geo": {
           "bgcolor": "white",
           "lakecolor": "white",
           "landcolor": "#E5ECF6",
           "showlakes": true,
           "showland": true,
           "subunitcolor": "white"
          },
          "hoverlabel": {
           "align": "left"
          },
          "hovermode": "closest",
          "mapbox": {
           "style": "light"
          },
          "paper_bgcolor": "white",
          "plot_bgcolor": "#E5ECF6",
          "polar": {
           "angularaxis": {
            "gridcolor": "white",
            "linecolor": "white",
            "ticks": ""
           },
           "bgcolor": "#E5ECF6",
           "radialaxis": {
            "gridcolor": "white",
            "linecolor": "white",
            "ticks": ""
           }
          },
          "scene": {
           "xaxis": {
            "backgroundcolor": "#E5ECF6",
            "gridcolor": "white",
            "gridwidth": 2,
            "linecolor": "white",
            "showbackground": true,
            "ticks": "",
            "zerolinecolor": "white"
           },
           "yaxis": {
            "backgroundcolor": "#E5ECF6",
            "gridcolor": "white",
            "gridwidth": 2,
            "linecolor": "white",
            "showbackground": true,
            "ticks": "",
            "zerolinecolor": "white"
           },
           "zaxis": {
            "backgroundcolor": "#E5ECF6",
            "gridcolor": "white",
            "gridwidth": 2,
            "linecolor": "white",
            "showbackground": true,
            "ticks": "",
            "zerolinecolor": "white"
           }
          },
          "shapedefaults": {
           "line": {
            "color": "#2a3f5f"
           }
          },
          "ternary": {
           "aaxis": {
            "gridcolor": "white",
            "linecolor": "white",
            "ticks": ""
           },
           "baxis": {
            "gridcolor": "white",
            "linecolor": "white",
            "ticks": ""
           },
           "bgcolor": "#E5ECF6",
           "caxis": {
            "gridcolor": "white",
            "linecolor": "white",
            "ticks": ""
           }
          },
          "title": {
           "x": 0.05
          },
          "xaxis": {
           "automargin": true,
           "gridcolor": "white",
           "linecolor": "white",
           "ticks": "",
           "title": {
            "standoff": 15
           },
           "zerolinecolor": "white",
           "zerolinewidth": 2
          },
          "yaxis": {
           "automargin": true,
           "gridcolor": "white",
           "linecolor": "white",
           "ticks": "",
           "title": {
            "standoff": 15
           },
           "zerolinecolor": "white",
           "zerolinewidth": 2
          }
         }
        }
       }
      }
     },
     "metadata": {}
    }
   ],
   "source": [
    "# Plot Korea's COVID-19 confirmed cases\n",
    "\n",
    "fig = go.Figure()\n",
    "\n",
    "fig.add_trace(\n",
    "    go.Scatter(\n",
    "        x = df_korea.Date,\n",
    "        y = df_korea.Confirmed,\n",
    "        name = \"Confirmed cases in Korea\"\n",
    "    )\n",
    ")\n",
    "\n",
    "fig"
   ]
  },
  {
   "cell_type": "markdown",
   "metadata": {},
   "source": [
    "## Facebook Prophet Pre-processing"
   ]
  },
  {
   "cell_type": "code",
   "execution_count": 73,
   "metadata": {},
   "outputs": [
    {
     "output_type": "execute_result",
     "data": {
      "text/plain": "             ds      y\n205  2020-08-14  15039\n206  2020-08-15  15318\n207  2020-08-16  15515\n208  2020-08-17  15761\n209  2020-08-18  16058",
      "text/html": "<div>\n<style scoped>\n    .dataframe tbody tr th:only-of-type {\n        vertical-align: middle;\n    }\n\n    .dataframe tbody tr th {\n        vertical-align: top;\n    }\n\n    .dataframe thead th {\n        text-align: right;\n    }\n</style>\n<table border=\"1\" class=\"dataframe\">\n  <thead>\n    <tr style=\"text-align: right;\">\n      <th></th>\n      <th>ds</th>\n      <th>y</th>\n    </tr>\n  </thead>\n  <tbody>\n    <tr>\n      <th>205</th>\n      <td>2020-08-14</td>\n      <td>15039</td>\n    </tr>\n    <tr>\n      <th>206</th>\n      <td>2020-08-15</td>\n      <td>15318</td>\n    </tr>\n    <tr>\n      <th>207</th>\n      <td>2020-08-16</td>\n      <td>15515</td>\n    </tr>\n    <tr>\n      <th>208</th>\n      <td>2020-08-17</td>\n      <td>15761</td>\n    </tr>\n    <tr>\n      <th>209</th>\n      <td>2020-08-18</td>\n      <td>16058</td>\n    </tr>\n  </tbody>\n</table>\n</div>"
     },
     "metadata": {},
     "execution_count": 73
    }
   ],
   "source": [
    "# Make dataframe for Facebook Prophet prediction mode\n",
    "df_prophet = df_korea.rename(\n",
    "    columns={\n",
    "        \"Date\": \"ds\",\n",
    "        \"Confirmed\": \"y\"\n",
    "    }\n",
    ")\n",
    "\n",
    "df_prophet.tail()"
   ]
  },
  {
   "cell_type": "markdown",
   "metadata": {},
   "source": [
    "## Create Model\n",
    "### Add change points to make more flexible\n",
    "- https://facebook.github.io/prophet/docs/trend_changepoints.html"
   ]
  },
  {
   "cell_type": "code",
   "execution_count": 105,
   "metadata": {
    "tags": []
   },
   "outputs": [
    {
     "output_type": "display_data",
     "data": {
      "application/vnd.plotly.v1+json": {
       "config": {
        "linkText": "Export to plot.ly",
        "plotlyServerURL": "https://plot.ly",
        "showLink": false
       },
       "data": [
        {
         "marker": {
          "color": "black",
          "size": 4
         },
         "mode": "markers",
         "name": "Actual",
         "type": "scatter",
         "x": [
          "2020-01-22T00:00:00",
          "2020-01-23T00:00:00",
          "2020-01-24T00:00:00",
          "2020-01-25T00:00:00",
          "2020-01-26T00:00:00",
          "2020-01-27T00:00:00",
          "2020-01-28T00:00:00",
          "2020-01-29T00:00:00",
          "2020-01-30T00:00:00",
          "2020-01-31T00:00:00",
          "2020-02-01T00:00:00",
          "2020-02-02T00:00:00",
          "2020-02-03T00:00:00",
          "2020-02-04T00:00:00",
          "2020-02-05T00:00:00",
          "2020-02-06T00:00:00",
          "2020-02-07T00:00:00",
          "2020-02-08T00:00:00",
          "2020-02-09T00:00:00",
          "2020-02-10T00:00:00",
          "2020-02-11T00:00:00",
          "2020-02-12T00:00:00",
          "2020-02-13T00:00:00",
          "2020-02-14T00:00:00",
          "2020-02-15T00:00:00",
          "2020-02-16T00:00:00",
          "2020-02-17T00:00:00",
          "2020-02-18T00:00:00",
          "2020-02-19T00:00:00",
          "2020-02-20T00:00:00",
          "2020-02-21T00:00:00",
          "2020-02-22T00:00:00",
          "2020-02-23T00:00:00",
          "2020-02-24T00:00:00",
          "2020-02-25T00:00:00",
          "2020-02-26T00:00:00",
          "2020-02-27T00:00:00",
          "2020-02-28T00:00:00",
          "2020-02-29T00:00:00",
          "2020-03-01T00:00:00",
          "2020-03-02T00:00:00",
          "2020-03-03T00:00:00",
          "2020-03-04T00:00:00",
          "2020-03-05T00:00:00",
          "2020-03-06T00:00:00",
          "2020-03-07T00:00:00",
          "2020-03-08T00:00:00",
          "2020-03-09T00:00:00",
          "2020-03-10T00:00:00",
          "2020-03-11T00:00:00",
          "2020-03-12T00:00:00",
          "2020-03-13T00:00:00",
          "2020-03-14T00:00:00",
          "2020-03-15T00:00:00",
          "2020-03-16T00:00:00",
          "2020-03-17T00:00:00",
          "2020-03-18T00:00:00",
          "2020-03-19T00:00:00",
          "2020-03-20T00:00:00",
          "2020-03-21T00:00:00",
          "2020-03-22T00:00:00",
          "2020-03-23T00:00:00",
          "2020-03-24T00:00:00",
          "2020-03-25T00:00:00",
          "2020-03-26T00:00:00",
          "2020-03-27T00:00:00",
          "2020-03-28T00:00:00",
          "2020-03-29T00:00:00",
          "2020-03-30T00:00:00",
          "2020-03-31T00:00:00",
          "2020-04-01T00:00:00",
          "2020-04-02T00:00:00",
          "2020-04-03T00:00:00",
          "2020-04-04T00:00:00",
          "2020-04-05T00:00:00",
          "2020-04-06T00:00:00",
          "2020-04-07T00:00:00",
          "2020-04-08T00:00:00",
          "2020-04-09T00:00:00",
          "2020-04-10T00:00:00",
          "2020-04-11T00:00:00",
          "2020-04-12T00:00:00",
          "2020-04-13T00:00:00",
          "2020-04-14T00:00:00",
          "2020-04-15T00:00:00",
          "2020-04-16T00:00:00",
          "2020-04-17T00:00:00",
          "2020-04-18T00:00:00",
          "2020-04-19T00:00:00",
          "2020-04-20T00:00:00",
          "2020-04-21T00:00:00",
          "2020-04-22T00:00:00",
          "2020-04-23T00:00:00",
          "2020-04-24T00:00:00",
          "2020-04-25T00:00:00",
          "2020-04-26T00:00:00",
          "2020-04-27T00:00:00",
          "2020-04-28T00:00:00",
          "2020-04-29T00:00:00",
          "2020-04-30T00:00:00",
          "2020-05-01T00:00:00",
          "2020-05-02T00:00:00",
          "2020-05-03T00:00:00",
          "2020-05-04T00:00:00",
          "2020-05-05T00:00:00",
          "2020-05-06T00:00:00",
          "2020-05-07T00:00:00",
          "2020-05-08T00:00:00",
          "2020-05-09T00:00:00",
          "2020-05-10T00:00:00",
          "2020-05-11T00:00:00",
          "2020-05-12T00:00:00",
          "2020-05-13T00:00:00",
          "2020-05-14T00:00:00",
          "2020-05-15T00:00:00",
          "2020-05-16T00:00:00",
          "2020-05-17T00:00:00",
          "2020-05-18T00:00:00",
          "2020-05-19T00:00:00",
          "2020-05-20T00:00:00",
          "2020-05-21T00:00:00",
          "2020-05-22T00:00:00",
          "2020-05-23T00:00:00",
          "2020-05-24T00:00:00",
          "2020-05-25T00:00:00",
          "2020-05-26T00:00:00",
          "2020-05-27T00:00:00",
          "2020-05-28T00:00:00",
          "2020-05-29T00:00:00",
          "2020-05-30T00:00:00",
          "2020-05-31T00:00:00",
          "2020-06-01T00:00:00",
          "2020-06-02T00:00:00",
          "2020-06-03T00:00:00",
          "2020-06-04T00:00:00",
          "2020-06-05T00:00:00",
          "2020-06-06T00:00:00",
          "2020-06-07T00:00:00",
          "2020-06-08T00:00:00",
          "2020-06-09T00:00:00",
          "2020-06-10T00:00:00",
          "2020-06-11T00:00:00",
          "2020-06-12T00:00:00",
          "2020-06-13T00:00:00",
          "2020-06-14T00:00:00",
          "2020-06-15T00:00:00",
          "2020-06-16T00:00:00",
          "2020-06-17T00:00:00",
          "2020-06-18T00:00:00",
          "2020-06-19T00:00:00",
          "2020-06-20T00:00:00",
          "2020-06-21T00:00:00",
          "2020-06-22T00:00:00",
          "2020-06-23T00:00:00",
          "2020-06-24T00:00:00",
          "2020-06-25T00:00:00",
          "2020-06-26T00:00:00",
          "2020-06-27T00:00:00",
          "2020-06-28T00:00:00",
          "2020-06-29T00:00:00",
          "2020-06-30T00:00:00",
          "2020-07-01T00:00:00",
          "2020-07-02T00:00:00",
          "2020-07-03T00:00:00",
          "2020-07-04T00:00:00",
          "2020-07-05T00:00:00",
          "2020-07-06T00:00:00",
          "2020-07-07T00:00:00",
          "2020-07-08T00:00:00",
          "2020-07-09T00:00:00",
          "2020-07-10T00:00:00",
          "2020-07-11T00:00:00",
          "2020-07-12T00:00:00",
          "2020-07-13T00:00:00",
          "2020-07-14T00:00:00",
          "2020-07-15T00:00:00",
          "2020-07-16T00:00:00",
          "2020-07-17T00:00:00",
          "2020-07-18T00:00:00",
          "2020-07-19T00:00:00",
          "2020-07-20T00:00:00",
          "2020-07-21T00:00:00",
          "2020-07-22T00:00:00",
          "2020-07-23T00:00:00",
          "2020-07-24T00:00:00",
          "2020-07-25T00:00:00",
          "2020-07-26T00:00:00",
          "2020-07-27T00:00:00",
          "2020-07-28T00:00:00",
          "2020-07-29T00:00:00",
          "2020-07-30T00:00:00",
          "2020-07-31T00:00:00",
          "2020-08-01T00:00:00",
          "2020-08-02T00:00:00",
          "2020-08-03T00:00:00",
          "2020-08-04T00:00:00",
          "2020-08-05T00:00:00",
          "2020-08-06T00:00:00",
          "2020-08-07T00:00:00",
          "2020-08-08T00:00:00",
          "2020-08-09T00:00:00",
          "2020-08-10T00:00:00",
          "2020-08-11T00:00:00",
          "2020-08-12T00:00:00",
          "2020-08-13T00:00:00",
          "2020-08-14T00:00:00",
          "2020-08-15T00:00:00",
          "2020-08-16T00:00:00",
          "2020-08-17T00:00:00",
          "2020-08-18T00:00:00"
         ],
         "y": [
          1,
          1,
          2,
          2,
          3,
          4,
          4,
          4,
          4,
          11,
          12,
          15,
          15,
          16,
          19,
          23,
          24,
          24,
          25,
          27,
          28,
          28,
          28,
          28,
          28,
          29,
          30,
          31,
          31,
          104,
          204,
          433,
          602,
          833,
          977,
          1261,
          1766,
          2337,
          3150,
          3736,
          4335,
          5186,
          5621,
          6088,
          6593,
          7041,
          7314,
          7478,
          7513,
          7755,
          7869,
          7979,
          8086,
          8162,
          8236,
          8320,
          8413,
          8565,
          8652,
          8799,
          8961,
          8961,
          9037,
          9137,
          9241,
          9332,
          9478,
          9583,
          9661,
          9786,
          9887,
          9976,
          10062,
          10156,
          10237,
          10284,
          10331,
          10384,
          10423,
          10450,
          10480,
          10512,
          10537,
          10564,
          10591,
          10613,
          10635,
          10653,
          10661,
          10674,
          10683,
          10694,
          10708,
          10718,
          10728,
          10738,
          10752,
          10761,
          10765,
          10774,
          10780,
          10793,
          10801,
          10804,
          10806,
          10810,
          10822,
          10840,
          10874,
          10909,
          10936,
          10962,
          10991,
          11018,
          11037,
          11050,
          11065,
          11078,
          11110,
          11122,
          11142,
          11165,
          11190,
          11206,
          11225,
          11265,
          11344,
          11402,
          11441,
          11468,
          11503,
          11541,
          11590,
          11629,
          11668,
          11719,
          11776,
          11814,
          11852,
          11902,
          11947,
          12003,
          12051,
          12085,
          12121,
          12155,
          12198,
          12257,
          12306,
          12373,
          12421,
          12438,
          12484,
          12535,
          12563,
          12602,
          12653,
          12715,
          12757,
          12800,
          12850,
          12904,
          12967,
          13030,
          13091,
          13137,
          13181,
          13244,
          13293,
          13338,
          13373,
          13417,
          13479,
          13512,
          13551,
          13612,
          13672,
          13711,
          13745,
          13771,
          13816,
          13879,
          13938,
          13979,
          14092,
          14150,
          14175,
          14203,
          14251,
          14269,
          14305,
          14336,
          14366,
          14389,
          14423,
          14456,
          14499,
          14519,
          14562,
          14598,
          14626,
          14660,
          14714,
          14770,
          14873,
          15039,
          15318,
          15515,
          15761,
          16058
         ]
        },
        {
         "hoverinfo": "skip",
         "line": {
          "width": 0
         },
         "mode": "lines",
         "type": "scatter",
         "x": [
          "2020-01-22T00:00:00",
          "2020-01-23T00:00:00",
          "2020-01-24T00:00:00",
          "2020-01-25T00:00:00",
          "2020-01-26T00:00:00",
          "2020-01-27T00:00:00",
          "2020-01-28T00:00:00",
          "2020-01-29T00:00:00",
          "2020-01-30T00:00:00",
          "2020-01-31T00:00:00",
          "2020-02-01T00:00:00",
          "2020-02-02T00:00:00",
          "2020-02-03T00:00:00",
          "2020-02-04T00:00:00",
          "2020-02-05T00:00:00",
          "2020-02-06T00:00:00",
          "2020-02-07T00:00:00",
          "2020-02-08T00:00:00",
          "2020-02-09T00:00:00",
          "2020-02-10T00:00:00",
          "2020-02-11T00:00:00",
          "2020-02-12T00:00:00",
          "2020-02-13T00:00:00",
          "2020-02-14T00:00:00",
          "2020-02-15T00:00:00",
          "2020-02-16T00:00:00",
          "2020-02-17T00:00:00",
          "2020-02-18T00:00:00",
          "2020-02-19T00:00:00",
          "2020-02-20T00:00:00",
          "2020-02-21T00:00:00",
          "2020-02-22T00:00:00",
          "2020-02-23T00:00:00",
          "2020-02-24T00:00:00",
          "2020-02-25T00:00:00",
          "2020-02-26T00:00:00",
          "2020-02-27T00:00:00",
          "2020-02-28T00:00:00",
          "2020-02-29T00:00:00",
          "2020-03-01T00:00:00",
          "2020-03-02T00:00:00",
          "2020-03-03T00:00:00",
          "2020-03-04T00:00:00",
          "2020-03-05T00:00:00",
          "2020-03-06T00:00:00",
          "2020-03-07T00:00:00",
          "2020-03-08T00:00:00",
          "2020-03-09T00:00:00",
          "2020-03-10T00:00:00",
          "2020-03-11T00:00:00",
          "2020-03-12T00:00:00",
          "2020-03-13T00:00:00",
          "2020-03-14T00:00:00",
          "2020-03-15T00:00:00",
          "2020-03-16T00:00:00",
          "2020-03-17T00:00:00",
          "2020-03-18T00:00:00",
          "2020-03-19T00:00:00",
          "2020-03-20T00:00:00",
          "2020-03-21T00:00:00",
          "2020-03-22T00:00:00",
          "2020-03-23T00:00:00",
          "2020-03-24T00:00:00",
          "2020-03-25T00:00:00",
          "2020-03-26T00:00:00",
          "2020-03-27T00:00:00",
          "2020-03-28T00:00:00",
          "2020-03-29T00:00:00",
          "2020-03-30T00:00:00",
          "2020-03-31T00:00:00",
          "2020-04-01T00:00:00",
          "2020-04-02T00:00:00",
          "2020-04-03T00:00:00",
          "2020-04-04T00:00:00",
          "2020-04-05T00:00:00",
          "2020-04-06T00:00:00",
          "2020-04-07T00:00:00",
          "2020-04-08T00:00:00",
          "2020-04-09T00:00:00",
          "2020-04-10T00:00:00",
          "2020-04-11T00:00:00",
          "2020-04-12T00:00:00",
          "2020-04-13T00:00:00",
          "2020-04-14T00:00:00",
          "2020-04-15T00:00:00",
          "2020-04-16T00:00:00",
          "2020-04-17T00:00:00",
          "2020-04-18T00:00:00",
          "2020-04-19T00:00:00",
          "2020-04-20T00:00:00",
          "2020-04-21T00:00:00",
          "2020-04-22T00:00:00",
          "2020-04-23T00:00:00",
          "2020-04-24T00:00:00",
          "2020-04-25T00:00:00",
          "2020-04-26T00:00:00",
          "2020-04-27T00:00:00",
          "2020-04-28T00:00:00",
          "2020-04-29T00:00:00",
          "2020-04-30T00:00:00",
          "2020-05-01T00:00:00",
          "2020-05-02T00:00:00",
          "2020-05-03T00:00:00",
          "2020-05-04T00:00:00",
          "2020-05-05T00:00:00",
          "2020-05-06T00:00:00",
          "2020-05-07T00:00:00",
          "2020-05-08T00:00:00",
          "2020-05-09T00:00:00",
          "2020-05-10T00:00:00",
          "2020-05-11T00:00:00",
          "2020-05-12T00:00:00",
          "2020-05-13T00:00:00",
          "2020-05-14T00:00:00",
          "2020-05-15T00:00:00",
          "2020-05-16T00:00:00",
          "2020-05-17T00:00:00",
          "2020-05-18T00:00:00",
          "2020-05-19T00:00:00",
          "2020-05-20T00:00:00",
          "2020-05-21T00:00:00",
          "2020-05-22T00:00:00",
          "2020-05-23T00:00:00",
          "2020-05-24T00:00:00",
          "2020-05-25T00:00:00",
          "2020-05-26T00:00:00",
          "2020-05-27T00:00:00",
          "2020-05-28T00:00:00",
          "2020-05-29T00:00:00",
          "2020-05-30T00:00:00",
          "2020-05-31T00:00:00",
          "2020-06-01T00:00:00",
          "2020-06-02T00:00:00",
          "2020-06-03T00:00:00",
          "2020-06-04T00:00:00",
          "2020-06-05T00:00:00",
          "2020-06-06T00:00:00",
          "2020-06-07T00:00:00",
          "2020-06-08T00:00:00",
          "2020-06-09T00:00:00",
          "2020-06-10T00:00:00",
          "2020-06-11T00:00:00",
          "2020-06-12T00:00:00",
          "2020-06-13T00:00:00",
          "2020-06-14T00:00:00",
          "2020-06-15T00:00:00",
          "2020-06-16T00:00:00",
          "2020-06-17T00:00:00",
          "2020-06-18T00:00:00",
          "2020-06-19T00:00:00",
          "2020-06-20T00:00:00",
          "2020-06-21T00:00:00",
          "2020-06-22T00:00:00",
          "2020-06-23T00:00:00",
          "2020-06-24T00:00:00",
          "2020-06-25T00:00:00",
          "2020-06-26T00:00:00",
          "2020-06-27T00:00:00",
          "2020-06-28T00:00:00",
          "2020-06-29T00:00:00",
          "2020-06-30T00:00:00",
          "2020-07-01T00:00:00",
          "2020-07-02T00:00:00",
          "2020-07-03T00:00:00",
          "2020-07-04T00:00:00",
          "2020-07-05T00:00:00",
          "2020-07-06T00:00:00",
          "2020-07-07T00:00:00",
          "2020-07-08T00:00:00",
          "2020-07-09T00:00:00",
          "2020-07-10T00:00:00",
          "2020-07-11T00:00:00",
          "2020-07-12T00:00:00",
          "2020-07-13T00:00:00",
          "2020-07-14T00:00:00",
          "2020-07-15T00:00:00",
          "2020-07-16T00:00:00",
          "2020-07-17T00:00:00",
          "2020-07-18T00:00:00",
          "2020-07-19T00:00:00",
          "2020-07-20T00:00:00",
          "2020-07-21T00:00:00",
          "2020-07-22T00:00:00",
          "2020-07-23T00:00:00",
          "2020-07-24T00:00:00",
          "2020-07-25T00:00:00",
          "2020-07-26T00:00:00",
          "2020-07-27T00:00:00",
          "2020-07-28T00:00:00",
          "2020-07-29T00:00:00",
          "2020-07-30T00:00:00",
          "2020-07-31T00:00:00",
          "2020-08-01T00:00:00",
          "2020-08-02T00:00:00",
          "2020-08-03T00:00:00",
          "2020-08-04T00:00:00",
          "2020-08-05T00:00:00",
          "2020-08-06T00:00:00",
          "2020-08-07T00:00:00",
          "2020-08-08T00:00:00",
          "2020-08-09T00:00:00",
          "2020-08-10T00:00:00",
          "2020-08-11T00:00:00",
          "2020-08-12T00:00:00",
          "2020-08-13T00:00:00",
          "2020-08-14T00:00:00",
          "2020-08-15T00:00:00",
          "2020-08-16T00:00:00",
          "2020-08-17T00:00:00",
          "2020-08-18T00:00:00",
          "2020-08-19T00:00:00",
          "2020-08-20T00:00:00",
          "2020-08-21T00:00:00",
          "2020-08-22T00:00:00",
          "2020-08-23T00:00:00",
          "2020-08-24T00:00:00",
          "2020-08-25T00:00:00"
         ],
         "y": [
          -117.89471205994089,
          -121.22284994499692,
          -120.35702880922699,
          -112.08770751334356,
          -108.90421419489672,
          -115.9658915372399,
          -111.72391051322006,
          -102.28229494138861,
          -106.29471955168144,
          -108.99521338678572,
          -106.80423583200087,
          -104.8365477033247,
          -115.80768951451986,
          -113.31921841328142,
          -94.43129975018816,
          -109.49432498509154,
          -93.21641724644306,
          -96.93636570869157,
          -104.72604437222384,
          -105.91992679443479,
          -106.73555047084479,
          -111.92315010406799,
          -103.83438090069161,
          -118.52388071675003,
          -117.49004364443077,
          -78.48343497598404,
          -38.48742129141007,
          -7.652594891056616,
          40.81676653819564,
          76.61873880034614,
          108.03468924327946,
          159.4122151258519,
          184.10564409238134,
          225.8966166684441,
          822.7817508670303,
          1432.6776915153446,
          2031.8234472908994,
          2626.256158542124,
          3231.625138961639,
          3833.369990861361,
          4429.543384963972,
          5034.494683959796,
          5394.928347542442,
          5747.664695085713,
          6106.168412919365,
          6455.265685550374,
          6808.284279459071,
          7164.5616675953515,
          7521.251987207838,
          7877.136365243287,
          7939.540655782586,
          8005.303768907629,
          8076.900325893097,
          8129.4361204652505,
          8205.220342960134,
          8271.565227201994,
          8334.26512416641,
          8394.736024462884,
          8510.042074083507,
          8601.573605932139,
          8716.422740504684,
          8826.744389299593,
          8930.99865197386,
          9037.848987279918,
          9140.457224022848,
          9242.947732843588,
          9348.70362675931,
          9450.058930496634,
          9558.079092663884,
          9665.709715699202,
          9756.424087373094,
          9864.672240136742,
          9956.95747420979,
          10073.682263691171,
          10112.08761254699,
          10159.100390806703,
          10193.103555590098,
          10245.481319276336,
          10287.317804308346,
          10323.453876299305,
          10362.560096761837,
          10401.64345361308,
          10455.233270930134,
          10459.933652807067,
          10477.251637054453,
          10500.571689085034,
          10504.806591887711,
          10517.616286237875,
          10543.144544597522,
          10560.597451943555,
          10578.354364321762,
          10573.19813849815,
          10583.253124948913,
          10602.460722128399,
          10610.355062832536,
          10622.560524803977,
          10626.934141732792,
          10641.738550014037,
          10632.974974876604,
          10660.219788792501,
          10673.38225376356,
          10677.150656029482,
          10693.662481513435,
          10694.427759000337,
          10701.566816605846,
          10714.533830273576,
          10733.603015815328,
          10747.046128215115,
          10762.794503491445,
          10791.841271735755,
          10810.796397664084,
          10829.56122968952,
          10855.406192405253,
          10878.681142189378,
          10898.116482223479,
          10915.777641274723,
          10937.898365410852,
          10954.553145225706,
          10978.730228354982,
          11000.085171026489,
          11024.17637733131,
          11046.768624823058,
          11076.455531978641,
          11098.97366804764,
          11150.799265159805,
          11197.171382169832,
          11226.433268123197,
          11268.226278929225,
          11303.220539925827,
          11353.271505050028,
          11398.976215126975,
          11443.749501543109,
          11472.184623277755,
          11519.04576946481,
          11552.09719680066,
          11591.550906117238,
          11644.587772405142,
          11693.513952477508,
          11742.465392859014,
          11784.299835775006,
          11838.124926481349,
          11880.202747548685,
          11922.489936339056,
          11970.770504806113,
          12009.078477528821,
          12053.538946266593,
          12095.31528536976,
          12141.486097323505,
          12189.048769169232,
          12227.611964017844,
          12281.522753555584,
          12325.635070700448,
          12366.643595044563,
          12402.659970611428,
          12462.412208818487,
          12499.260499468617,
          12548.105207429771,
          12608.84201193967,
          12665.373895844688,
          12699.412726800652,
          12744.94952284489,
          12790.816933122762,
          12852.284913504369,
          12901.767609347804,
          12952.625498200243,
          12997.527087647695,
          13062.168649250329,
          13098.341439918519,
          13150.68953989057,
          13209.86169155771,
          13253.192989524603,
          13298.397715297227,
          13354.396793035445,
          13406.026264317981,
          13448.99713449235,
          13490.467750275528,
          13548.413545947195,
          13594.748514373237,
          13638.375886101054,
          13696.38018862637,
          13745.742654662721,
          13783.952873302913,
          13842.843328736913,
          13883.430284522337,
          13935.8273787914,
          13977.37004615659,
          14031.24735921012,
          14075.363523760005,
          14134.631481970242,
          14158.130419869782,
          14188.59652765229,
          14214.747468086782,
          14252.583548267168,
          14270.633968046312,
          14295.939466499802,
          14326.423776733443,
          14357.01463533382,
          14409.377217967723,
          14454.120541854956,
          14495.933636679209,
          14532.772900097621,
          14590.99513246525,
          14638.034003325414,
          14676.739327544743,
          14723.534138366878,
          14956.943299945535,
          15184.35947267671,
          15410.11621667732,
          15644.0702262659,
          15868.92658601913,
          16099.900739578474,
          16328.873248980533,
          16545.93919843193,
          16750.647044846737,
          16959.46195079149,
          17150.0567901169,
          17313.922041968195
         ]
        },
        {
         "fill": "tonexty",
         "fillcolor": "rgba(0, 114, 178, 0.2)",
         "line": {
          "color": "#0072B2",
          "width": 2
         },
         "mode": "lines",
         "name": "Predicted",
         "type": "scatter",
         "x": [
          "2020-01-22T00:00:00",
          "2020-01-23T00:00:00",
          "2020-01-24T00:00:00",
          "2020-01-25T00:00:00",
          "2020-01-26T00:00:00",
          "2020-01-27T00:00:00",
          "2020-01-28T00:00:00",
          "2020-01-29T00:00:00",
          "2020-01-30T00:00:00",
          "2020-01-31T00:00:00",
          "2020-02-01T00:00:00",
          "2020-02-02T00:00:00",
          "2020-02-03T00:00:00",
          "2020-02-04T00:00:00",
          "2020-02-05T00:00:00",
          "2020-02-06T00:00:00",
          "2020-02-07T00:00:00",
          "2020-02-08T00:00:00",
          "2020-02-09T00:00:00",
          "2020-02-10T00:00:00",
          "2020-02-11T00:00:00",
          "2020-02-12T00:00:00",
          "2020-02-13T00:00:00",
          "2020-02-14T00:00:00",
          "2020-02-15T00:00:00",
          "2020-02-16T00:00:00",
          "2020-02-17T00:00:00",
          "2020-02-18T00:00:00",
          "2020-02-19T00:00:00",
          "2020-02-20T00:00:00",
          "2020-02-21T00:00:00",
          "2020-02-22T00:00:00",
          "2020-02-23T00:00:00",
          "2020-02-24T00:00:00",
          "2020-02-25T00:00:00",
          "2020-02-26T00:00:00",
          "2020-02-27T00:00:00",
          "2020-02-28T00:00:00",
          "2020-02-29T00:00:00",
          "2020-03-01T00:00:00",
          "2020-03-02T00:00:00",
          "2020-03-03T00:00:00",
          "2020-03-04T00:00:00",
          "2020-03-05T00:00:00",
          "2020-03-06T00:00:00",
          "2020-03-07T00:00:00",
          "2020-03-08T00:00:00",
          "2020-03-09T00:00:00",
          "2020-03-10T00:00:00",
          "2020-03-11T00:00:00",
          "2020-03-12T00:00:00",
          "2020-03-13T00:00:00",
          "2020-03-14T00:00:00",
          "2020-03-15T00:00:00",
          "2020-03-16T00:00:00",
          "2020-03-17T00:00:00",
          "2020-03-18T00:00:00",
          "2020-03-19T00:00:00",
          "2020-03-20T00:00:00",
          "2020-03-21T00:00:00",
          "2020-03-22T00:00:00",
          "2020-03-23T00:00:00",
          "2020-03-24T00:00:00",
          "2020-03-25T00:00:00",
          "2020-03-26T00:00:00",
          "2020-03-27T00:00:00",
          "2020-03-28T00:00:00",
          "2020-03-29T00:00:00",
          "2020-03-30T00:00:00",
          "2020-03-31T00:00:00",
          "2020-04-01T00:00:00",
          "2020-04-02T00:00:00",
          "2020-04-03T00:00:00",
          "2020-04-04T00:00:00",
          "2020-04-05T00:00:00",
          "2020-04-06T00:00:00",
          "2020-04-07T00:00:00",
          "2020-04-08T00:00:00",
          "2020-04-09T00:00:00",
          "2020-04-10T00:00:00",
          "2020-04-11T00:00:00",
          "2020-04-12T00:00:00",
          "2020-04-13T00:00:00",
          "2020-04-14T00:00:00",
          "2020-04-15T00:00:00",
          "2020-04-16T00:00:00",
          "2020-04-17T00:00:00",
          "2020-04-18T00:00:00",
          "2020-04-19T00:00:00",
          "2020-04-20T00:00:00",
          "2020-04-21T00:00:00",
          "2020-04-22T00:00:00",
          "2020-04-23T00:00:00",
          "2020-04-24T00:00:00",
          "2020-04-25T00:00:00",
          "2020-04-26T00:00:00",
          "2020-04-27T00:00:00",
          "2020-04-28T00:00:00",
          "2020-04-29T00:00:00",
          "2020-04-30T00:00:00",
          "2020-05-01T00:00:00",
          "2020-05-02T00:00:00",
          "2020-05-03T00:00:00",
          "2020-05-04T00:00:00",
          "2020-05-05T00:00:00",
          "2020-05-06T00:00:00",
          "2020-05-07T00:00:00",
          "2020-05-08T00:00:00",
          "2020-05-09T00:00:00",
          "2020-05-10T00:00:00",
          "2020-05-11T00:00:00",
          "2020-05-12T00:00:00",
          "2020-05-13T00:00:00",
          "2020-05-14T00:00:00",
          "2020-05-15T00:00:00",
          "2020-05-16T00:00:00",
          "2020-05-17T00:00:00",
          "2020-05-18T00:00:00",
          "2020-05-19T00:00:00",
          "2020-05-20T00:00:00",
          "2020-05-21T00:00:00",
          "2020-05-22T00:00:00",
          "2020-05-23T00:00:00",
          "2020-05-24T00:00:00",
          "2020-05-25T00:00:00",
          "2020-05-26T00:00:00",
          "2020-05-27T00:00:00",
          "2020-05-28T00:00:00",
          "2020-05-29T00:00:00",
          "2020-05-30T00:00:00",
          "2020-05-31T00:00:00",
          "2020-06-01T00:00:00",
          "2020-06-02T00:00:00",
          "2020-06-03T00:00:00",
          "2020-06-04T00:00:00",
          "2020-06-05T00:00:00",
          "2020-06-06T00:00:00",
          "2020-06-07T00:00:00",
          "2020-06-08T00:00:00",
          "2020-06-09T00:00:00",
          "2020-06-10T00:00:00",
          "2020-06-11T00:00:00",
          "2020-06-12T00:00:00",
          "2020-06-13T00:00:00",
          "2020-06-14T00:00:00",
          "2020-06-15T00:00:00",
          "2020-06-16T00:00:00",
          "2020-06-17T00:00:00",
          "2020-06-18T00:00:00",
          "2020-06-19T00:00:00",
          "2020-06-20T00:00:00",
          "2020-06-21T00:00:00",
          "2020-06-22T00:00:00",
          "2020-06-23T00:00:00",
          "2020-06-24T00:00:00",
          "2020-06-25T00:00:00",
          "2020-06-26T00:00:00",
          "2020-06-27T00:00:00",
          "2020-06-28T00:00:00",
          "2020-06-29T00:00:00",
          "2020-06-30T00:00:00",
          "2020-07-01T00:00:00",
          "2020-07-02T00:00:00",
          "2020-07-03T00:00:00",
          "2020-07-04T00:00:00",
          "2020-07-05T00:00:00",
          "2020-07-06T00:00:00",
          "2020-07-07T00:00:00",
          "2020-07-08T00:00:00",
          "2020-07-09T00:00:00",
          "2020-07-10T00:00:00",
          "2020-07-11T00:00:00",
          "2020-07-12T00:00:00",
          "2020-07-13T00:00:00",
          "2020-07-14T00:00:00",
          "2020-07-15T00:00:00",
          "2020-07-16T00:00:00",
          "2020-07-17T00:00:00",
          "2020-07-18T00:00:00",
          "2020-07-19T00:00:00",
          "2020-07-20T00:00:00",
          "2020-07-21T00:00:00",
          "2020-07-22T00:00:00",
          "2020-07-23T00:00:00",
          "2020-07-24T00:00:00",
          "2020-07-25T00:00:00",
          "2020-07-26T00:00:00",
          "2020-07-27T00:00:00",
          "2020-07-28T00:00:00",
          "2020-07-29T00:00:00",
          "2020-07-30T00:00:00",
          "2020-07-31T00:00:00",
          "2020-08-01T00:00:00",
          "2020-08-02T00:00:00",
          "2020-08-03T00:00:00",
          "2020-08-04T00:00:00",
          "2020-08-05T00:00:00",
          "2020-08-06T00:00:00",
          "2020-08-07T00:00:00",
          "2020-08-08T00:00:00",
          "2020-08-09T00:00:00",
          "2020-08-10T00:00:00",
          "2020-08-11T00:00:00",
          "2020-08-12T00:00:00",
          "2020-08-13T00:00:00",
          "2020-08-14T00:00:00",
          "2020-08-15T00:00:00",
          "2020-08-16T00:00:00",
          "2020-08-17T00:00:00",
          "2020-08-18T00:00:00",
          "2020-08-19T00:00:00",
          "2020-08-20T00:00:00",
          "2020-08-21T00:00:00",
          "2020-08-22T00:00:00",
          "2020-08-23T00:00:00",
          "2020-08-24T00:00:00",
          "2020-08-25T00:00:00"
         ],
         "y": [
          3.5904525954215885,
          4.2135293381304315,
          4.836606080839265,
          5.459682823548108,
          6.082759566256946,
          6.705836308965789,
          7.328913051674621,
          7.951989794383465,
          8.575066537092301,
          9.194622839046103,
          9.814179140999903,
          10.433735442953708,
          11.053291744907504,
          11.67284804686131,
          12.292404348815111,
          12.911960650768917,
          13.531516952722711,
          12.751986553788385,
          11.97245615485405,
          11.192925755919715,
          10.413395356985388,
          9.633864958051058,
          8.854334559116731,
          8.074804160182392,
          7.2952737612480245,
          44.11537139377956,
          80.93546902631122,
          117.75556665884287,
          154.5756642913744,
          191.39576192390618,
          228.21585955643772,
          265.03595718896923,
          301.856054821501,
          338.6761524540361,
          940.4913777993808,
          1542.306603144729,
          2144.1218284900774,
          2745.9370538354224,
          3347.7522791807705,
          3949.5675045261155,
          4551.382729871463,
          5153.19795521681,
          5508.506848495451,
          5863.815741774091,
          6219.124635052732,
          6574.433528331377,
          6929.742421610017,
          7285.0513148886575,
          7640.360208167298,
          7995.669101445941,
          8060.811938152997,
          8125.954774860052,
          8191.0976115671065,
          8256.24044827416,
          8321.383284981217,
          8386.52612168827,
          8451.668958395327,
          8516.811795102381,
          8622.746508559507,
          8728.681222016634,
          8834.615935473761,
          8940.55064893089,
          9046.485362388015,
          9152.420075845142,
          9258.354789302271,
          9364.289502759397,
          9467.142642618253,
          9569.995782477114,
          9672.848922335968,
          9775.702062194827,
          9878.555202053683,
          9981.40834191254,
          10084.261481771398,
          10187.114621630253,
          10229.179489631439,
          10271.24435763262,
          10313.309225633804,
          10355.37409363499,
          10397.438961636171,
          10439.503829637355,
          10481.568697638539,
          10523.633565639722,
          10565.698433640906,
          10580.67623853093,
          10595.654043420955,
          10610.631848310979,
          10625.609653201003,
          10640.587458091028,
          10655.565262981052,
          10670.543067871076,
          10685.5208727611,
          10695.37312155688,
          10705.225370352659,
          10715.077619148436,
          10724.929867944216,
          10734.782116739994,
          10744.634365535772,
          10754.486614331552,
          10764.338863127328,
          10774.190917563757,
          10784.042972000187,
          10793.895026436616,
          10803.747080873045,
          10813.599135309474,
          10823.451189745903,
          10833.303244182332,
          10843.155298618762,
          10864.4825960111,
          10885.809893403439,
          10907.137190795776,
          10928.464488188114,
          10949.791785580452,
          10971.119082972788,
          10992.446380365125,
          11013.773677757465,
          11035.070169028528,
          11056.366660299593,
          11077.663151570656,
          11098.959642841719,
          11120.256134112784,
          11141.552625383849,
          11162.849116654912,
          11184.145607925977,
          11224.104398666754,
          11264.063189407529,
          11304.021980148304,
          11343.98077088908,
          11383.939561629853,
          11423.89835237063,
          11463.857143111403,
          11503.81593385218,
          11543.774724592955,
          11588.541670839773,
          11633.308617086592,
          11678.07556333341,
          11722.84250958023,
          11767.609455827047,
          11812.376402073867,
          11857.143348320686,
          11901.910294567502,
          11946.739979303487,
          11991.569664039469,
          12036.399348775452,
          12081.229033511436,
          12126.05871824742,
          12170.8884029834,
          12215.718087719384,
          12260.547772455368,
          12305.3797326634,
          12350.211692871433,
          12395.043653079467,
          12439.8756132875,
          12484.707573495532,
          12529.539533703566,
          12574.3714939116,
          12619.203454119634,
          12669.192821756644,
          12719.182189393656,
          12769.171557030666,
          12819.16092466768,
          12869.150292304692,
          12919.139659941704,
          12969.129027578716,
          13019.118395215728,
          13069.107505741236,
          13119.09661626675,
          13169.085726792258,
          13219.07483731777,
          13269.06394784328,
          13319.053058368792,
          13369.0421688943,
          13419.031279419813,
          13467.587251109257,
          13516.143222798702,
          13564.699194488148,
          13613.255166177592,
          13661.811137867038,
          13710.367109556482,
          13758.923081245928,
          13807.479052935374,
          13856.035024624818,
          13904.633426608083,
          13953.231828591348,
          14001.830230574613,
          14050.428632557876,
          14099.027034541139,
          14147.625436524404,
          14196.223838507667,
          14244.822240490934,
          14273.596486652003,
          14302.370732813073,
          14331.144978974144,
          14359.919225135214,
          14388.693471296283,
          14417.467717457354,
          14446.241963618424,
          14475.016209779495,
          14520.527414250979,
          14566.038618722463,
          14611.54982319395,
          14657.061027665435,
          14702.57223213692,
          14748.083436608404,
          14793.59464107989,
          14839.105845551376,
          15069.4229166139,
          15299.739987676423,
          15530.057058738947,
          15760.374129801468,
          15990.691200863992,
          16221.008271926508,
          16451.32534298904,
          16681.642414051563,
          16911.959485114094,
          17142.27655617661,
          17372.593627239134,
          17602.91069830166
         ]
        },
        {
         "fill": "tonexty",
         "fillcolor": "rgba(0, 114, 178, 0.2)",
         "hoverinfo": "skip",
         "line": {
          "width": 0
         },
         "mode": "lines",
         "type": "scatter",
         "x": [
          "2020-01-22T00:00:00",
          "2020-01-23T00:00:00",
          "2020-01-24T00:00:00",
          "2020-01-25T00:00:00",
          "2020-01-26T00:00:00",
          "2020-01-27T00:00:00",
          "2020-01-28T00:00:00",
          "2020-01-29T00:00:00",
          "2020-01-30T00:00:00",
          "2020-01-31T00:00:00",
          "2020-02-01T00:00:00",
          "2020-02-02T00:00:00",
          "2020-02-03T00:00:00",
          "2020-02-04T00:00:00",
          "2020-02-05T00:00:00",
          "2020-02-06T00:00:00",
          "2020-02-07T00:00:00",
          "2020-02-08T00:00:00",
          "2020-02-09T00:00:00",
          "2020-02-10T00:00:00",
          "2020-02-11T00:00:00",
          "2020-02-12T00:00:00",
          "2020-02-13T00:00:00",
          "2020-02-14T00:00:00",
          "2020-02-15T00:00:00",
          "2020-02-16T00:00:00",
          "2020-02-17T00:00:00",
          "2020-02-18T00:00:00",
          "2020-02-19T00:00:00",
          "2020-02-20T00:00:00",
          "2020-02-21T00:00:00",
          "2020-02-22T00:00:00",
          "2020-02-23T00:00:00",
          "2020-02-24T00:00:00",
          "2020-02-25T00:00:00",
          "2020-02-26T00:00:00",
          "2020-02-27T00:00:00",
          "2020-02-28T00:00:00",
          "2020-02-29T00:00:00",
          "2020-03-01T00:00:00",
          "2020-03-02T00:00:00",
          "2020-03-03T00:00:00",
          "2020-03-04T00:00:00",
          "2020-03-05T00:00:00",
          "2020-03-06T00:00:00",
          "2020-03-07T00:00:00",
          "2020-03-08T00:00:00",
          "2020-03-09T00:00:00",
          "2020-03-10T00:00:00",
          "2020-03-11T00:00:00",
          "2020-03-12T00:00:00",
          "2020-03-13T00:00:00",
          "2020-03-14T00:00:00",
          "2020-03-15T00:00:00",
          "2020-03-16T00:00:00",
          "2020-03-17T00:00:00",
          "2020-03-18T00:00:00",
          "2020-03-19T00:00:00",
          "2020-03-20T00:00:00",
          "2020-03-21T00:00:00",
          "2020-03-22T00:00:00",
          "2020-03-23T00:00:00",
          "2020-03-24T00:00:00",
          "2020-03-25T00:00:00",
          "2020-03-26T00:00:00",
          "2020-03-27T00:00:00",
          "2020-03-28T00:00:00",
          "2020-03-29T00:00:00",
          "2020-03-30T00:00:00",
          "2020-03-31T00:00:00",
          "2020-04-01T00:00:00",
          "2020-04-02T00:00:00",
          "2020-04-03T00:00:00",
          "2020-04-04T00:00:00",
          "2020-04-05T00:00:00",
          "2020-04-06T00:00:00",
          "2020-04-07T00:00:00",
          "2020-04-08T00:00:00",
          "2020-04-09T00:00:00",
          "2020-04-10T00:00:00",
          "2020-04-11T00:00:00",
          "2020-04-12T00:00:00",
          "2020-04-13T00:00:00",
          "2020-04-14T00:00:00",
          "2020-04-15T00:00:00",
          "2020-04-16T00:00:00",
          "2020-04-17T00:00:00",
          "2020-04-18T00:00:00",
          "2020-04-19T00:00:00",
          "2020-04-20T00:00:00",
          "2020-04-21T00:00:00",
          "2020-04-22T00:00:00",
          "2020-04-23T00:00:00",
          "2020-04-24T00:00:00",
          "2020-04-25T00:00:00",
          "2020-04-26T00:00:00",
          "2020-04-27T00:00:00",
          "2020-04-28T00:00:00",
          "2020-04-29T00:00:00",
          "2020-04-30T00:00:00",
          "2020-05-01T00:00:00",
          "2020-05-02T00:00:00",
          "2020-05-03T00:00:00",
          "2020-05-04T00:00:00",
          "2020-05-05T00:00:00",
          "2020-05-06T00:00:00",
          "2020-05-07T00:00:00",
          "2020-05-08T00:00:00",
          "2020-05-09T00:00:00",
          "2020-05-10T00:00:00",
          "2020-05-11T00:00:00",
          "2020-05-12T00:00:00",
          "2020-05-13T00:00:00",
          "2020-05-14T00:00:00",
          "2020-05-15T00:00:00",
          "2020-05-16T00:00:00",
          "2020-05-17T00:00:00",
          "2020-05-18T00:00:00",
          "2020-05-19T00:00:00",
          "2020-05-20T00:00:00",
          "2020-05-21T00:00:00",
          "2020-05-22T00:00:00",
          "2020-05-23T00:00:00",
          "2020-05-24T00:00:00",
          "2020-05-25T00:00:00",
          "2020-05-26T00:00:00",
          "2020-05-27T00:00:00",
          "2020-05-28T00:00:00",
          "2020-05-29T00:00:00",
          "2020-05-30T00:00:00",
          "2020-05-31T00:00:00",
          "2020-06-01T00:00:00",
          "2020-06-02T00:00:00",
          "2020-06-03T00:00:00",
          "2020-06-04T00:00:00",
          "2020-06-05T00:00:00",
          "2020-06-06T00:00:00",
          "2020-06-07T00:00:00",
          "2020-06-08T00:00:00",
          "2020-06-09T00:00:00",
          "2020-06-10T00:00:00",
          "2020-06-11T00:00:00",
          "2020-06-12T00:00:00",
          "2020-06-13T00:00:00",
          "2020-06-14T00:00:00",
          "2020-06-15T00:00:00",
          "2020-06-16T00:00:00",
          "2020-06-17T00:00:00",
          "2020-06-18T00:00:00",
          "2020-06-19T00:00:00",
          "2020-06-20T00:00:00",
          "2020-06-21T00:00:00",
          "2020-06-22T00:00:00",
          "2020-06-23T00:00:00",
          "2020-06-24T00:00:00",
          "2020-06-25T00:00:00",
          "2020-06-26T00:00:00",
          "2020-06-27T00:00:00",
          "2020-06-28T00:00:00",
          "2020-06-29T00:00:00",
          "2020-06-30T00:00:00",
          "2020-07-01T00:00:00",
          "2020-07-02T00:00:00",
          "2020-07-03T00:00:00",
          "2020-07-04T00:00:00",
          "2020-07-05T00:00:00",
          "2020-07-06T00:00:00",
          "2020-07-07T00:00:00",
          "2020-07-08T00:00:00",
          "2020-07-09T00:00:00",
          "2020-07-10T00:00:00",
          "2020-07-11T00:00:00",
          "2020-07-12T00:00:00",
          "2020-07-13T00:00:00",
          "2020-07-14T00:00:00",
          "2020-07-15T00:00:00",
          "2020-07-16T00:00:00",
          "2020-07-17T00:00:00",
          "2020-07-18T00:00:00",
          "2020-07-19T00:00:00",
          "2020-07-20T00:00:00",
          "2020-07-21T00:00:00",
          "2020-07-22T00:00:00",
          "2020-07-23T00:00:00",
          "2020-07-24T00:00:00",
          "2020-07-25T00:00:00",
          "2020-07-26T00:00:00",
          "2020-07-27T00:00:00",
          "2020-07-28T00:00:00",
          "2020-07-29T00:00:00",
          "2020-07-30T00:00:00",
          "2020-07-31T00:00:00",
          "2020-08-01T00:00:00",
          "2020-08-02T00:00:00",
          "2020-08-03T00:00:00",
          "2020-08-04T00:00:00",
          "2020-08-05T00:00:00",
          "2020-08-06T00:00:00",
          "2020-08-07T00:00:00",
          "2020-08-08T00:00:00",
          "2020-08-09T00:00:00",
          "2020-08-10T00:00:00",
          "2020-08-11T00:00:00",
          "2020-08-12T00:00:00",
          "2020-08-13T00:00:00",
          "2020-08-14T00:00:00",
          "2020-08-15T00:00:00",
          "2020-08-16T00:00:00",
          "2020-08-17T00:00:00",
          "2020-08-18T00:00:00",
          "2020-08-19T00:00:00",
          "2020-08-20T00:00:00",
          "2020-08-21T00:00:00",
          "2020-08-22T00:00:00",
          "2020-08-23T00:00:00",
          "2020-08-24T00:00:00",
          "2020-08-25T00:00:00"
         ],
         "y": [
          121.07900689948683,
          120.50862297377385,
          128.57150770556984,
          121.33864749010708,
          124.09617716568337,
          122.29076817912528,
          125.85447472182707,
          124.70471709238312,
          126.01566264150631,
          122.81086206405773,
          128.11833584475562,
          126.52653548796216,
          126.46218850928923,
          126.71731655128758,
          129.2511362999456,
          132.4475423192407,
          136.03768446161627,
          134.48176851589085,
          124.28584876758961,
          128.49746906288138,
          139.17945304308523,
          116.49280659417423,
          128.57654626193897,
          132.34222385560255,
          118.09885196340136,
          157.14034882004958,
          199.25211105953179,
          237.56668706906456,
          272.36315649260723,
          310.6822446948437,
          347.0806619531073,
          386.401858792523,
          425.1232694284201,
          453.6191699689758,
          1062.1068643793055,
          1658.0858040975602,
          2264.8173153212847,
          2860.0281572467584,
          3464.845252569341,
          4069.292214686437,
          4666.302548089563,
          5266.167865433578,
          5625.687594295272,
          5975.820000502725,
          6330.575028947884,
          6687.680710580758,
          7034.8472866028505,
          7399.907642965624,
          7769.154349806784,
          8115.635975530728,
          8170.27040909043,
          8247.794051168306,
          8309.62585227366,
          8376.346039307462,
          8437.6212883787,
          8497.670335409284,
          8568.71567093272,
          8629.014064655834,
          8736.583877685222,
          8852.553186772799,
          8958.944342252313,
          9057.743862271916,
          9170.439799277168,
          9270.514451859417,
          9382.911887278411,
          9478.76882870951,
          9575.428382948652,
          9689.190648489544,
          9792.884090243548,
          9894.235490177618,
          9992.317111648317,
          10093.808044074003,
          10198.004144467872,
          10303.01316456349,
          10344.247622578781,
          10389.088118190763,
          10433.764275186511,
          10471.801683225453,
          10516.721444084025,
          10556.00353655335,
          10599.472229628333,
          10627.66583841691,
          10681.971754743545,
          10691.445798577097,
          10708.411517911605,
          10727.053659729161,
          10738.205951207588,
          10753.45307602186,
          10782.049022109744,
          10791.68459308336,
          10806.286723279176,
          10806.390871022722,
          10821.696310179452,
          10829.461434421592,
          10840.920364067493,
          10848.30996972038,
          10861.53373998046,
          10870.384746280066,
          10877.492560394205,
          10893.06218311079,
          10907.37968371072,
          10915.81379043061,
          10915.718826930946,
          10933.532690331507,
          10939.435507985227,
          10938.063379602238,
          10963.085736023548,
          10985.872193709163,
          10999.937525348612,
          11025.360749126625,
          11037.307390544589,
          11053.958477796103,
          11093.927790554877,
          11104.973003707952,
          11130.318559565152,
          11154.727026259527,
          11166.18461808742,
          11186.831317127888,
          11220.299977854085,
          11238.537156799825,
          11251.384361687235,
          11286.545900240795,
          11300.037402171338,
          11344.493782376581,
          11385.58718373073,
          11420.987962935109,
          11461.484406099806,
          11502.53691674925,
          11544.366785719974,
          11586.407066608477,
          11622.460345879592,
          11659.167226155052,
          11705.271849512696,
          11746.757647232513,
          11796.02954639821,
          11833.571966060961,
          11887.269913828508,
          11934.799445885565,
          11971.62197731031,
          12015.493221613455,
          12071.934321544979,
          12100.00757460638,
          12149.983945410819,
          12203.671593765397,
          12249.321295620073,
          12298.10840681428,
          12331.092767623737,
          12379.36674861106,
          12427.744073643305,
          12467.366187358308,
          12512.037837474412,
          12562.641955801422,
          12613.779393254614,
          12653.198397492293,
          12697.575482145265,
          12729.171387967004,
          12786.010466292617,
          12838.546931703255,
          12887.179192975253,
          12930.51787702135,
          12977.136160698323,
          13036.549754551725,
          13084.002618380153,
          13137.995853377519,
          13184.600601490121,
          13231.067402135164,
          13291.845197714523,
          13334.786426232793,
          13387.080860159636,
          13437.507069969719,
          13489.63200147715,
          13527.268399278675,
          13596.516789480922,
          13635.007380112496,
          13684.855533579816,
          13730.69183228258,
          13778.755325203843,
          13820.303385535033,
          13871.909565439877,
          13919.15232651293,
          13973.677887136066,
          14018.53112982768,
          14074.31685303718,
          14123.629639883504,
          14163.467284208467,
          14221.95583560941,
          14264.092653088373,
          14314.651983483796,
          14371.58770122423,
          14383.531935440185,
          14412.762198664024,
          14435.908312730702,
          14483.590616595233,
          14506.579185677185,
          14533.879494554554,
          14565.048991885134,
          14600.45908578152,
          14634.803626273933,
          14683.720800711795,
          14732.53897197199,
          14769.092029705072,
          14820.198664326903,
          14861.122559533113,
          14902.971801943266,
          14960.002948271962,
          15187.996088449889,
          15425.974659252846,
          15646.644026074364,
          15876.19540921797,
          16116.190955220196,
          16339.935626652423,
          16576.522348524944,
          16810.580903715538,
          17051.88399868155,
          17311.149574215273,
          17578.153814343375,
          17852.01316860715
         ]
        }
       ],
       "layout": {
        "height": 600,
        "showlegend": false,
        "template": {
         "data": {
          "bar": [
           {
            "error_x": {
             "color": "#2a3f5f"
            },
            "error_y": {
             "color": "#2a3f5f"
            },
            "marker": {
             "line": {
              "color": "#E5ECF6",
              "width": 0.5
             }
            },
            "type": "bar"
           }
          ],
          "barpolar": [
           {
            "marker": {
             "line": {
              "color": "#E5ECF6",
              "width": 0.5
             }
            },
            "type": "barpolar"
           }
          ],
          "carpet": [
           {
            "aaxis": {
             "endlinecolor": "#2a3f5f",
             "gridcolor": "white",
             "linecolor": "white",
             "minorgridcolor": "white",
             "startlinecolor": "#2a3f5f"
            },
            "baxis": {
             "endlinecolor": "#2a3f5f",
             "gridcolor": "white",
             "linecolor": "white",
             "minorgridcolor": "white",
             "startlinecolor": "#2a3f5f"
            },
            "type": "carpet"
           }
          ],
          "choropleth": [
           {
            "colorbar": {
             "outlinewidth": 0,
             "ticks": ""
            },
            "type": "choropleth"
           }
          ],
          "contour": [
           {
            "colorbar": {
             "outlinewidth": 0,
             "ticks": ""
            },
            "colorscale": [
             [
              0,
              "#0d0887"
             ],
             [
              0.1111111111111111,
              "#46039f"
             ],
             [
              0.2222222222222222,
              "#7201a8"
             ],
             [
              0.3333333333333333,
              "#9c179e"
             ],
             [
              0.4444444444444444,
              "#bd3786"
             ],
             [
              0.5555555555555556,
              "#d8576b"
             ],
             [
              0.6666666666666666,
              "#ed7953"
             ],
             [
              0.7777777777777778,
              "#fb9f3a"
             ],
             [
              0.8888888888888888,
              "#fdca26"
             ],
             [
              1,
              "#f0f921"
             ]
            ],
            "type": "contour"
           }
          ],
          "contourcarpet": [
           {
            "colorbar": {
             "outlinewidth": 0,
             "ticks": ""
            },
            "type": "contourcarpet"
           }
          ],
          "heatmap": [
           {
            "colorbar": {
             "outlinewidth": 0,
             "ticks": ""
            },
            "colorscale": [
             [
              0,
              "#0d0887"
             ],
             [
              0.1111111111111111,
              "#46039f"
             ],
             [
              0.2222222222222222,
              "#7201a8"
             ],
             [
              0.3333333333333333,
              "#9c179e"
             ],
             [
              0.4444444444444444,
              "#bd3786"
             ],
             [
              0.5555555555555556,
              "#d8576b"
             ],
             [
              0.6666666666666666,
              "#ed7953"
             ],
             [
              0.7777777777777778,
              "#fb9f3a"
             ],
             [
              0.8888888888888888,
              "#fdca26"
             ],
             [
              1,
              "#f0f921"
             ]
            ],
            "type": "heatmap"
           }
          ],
          "heatmapgl": [
           {
            "colorbar": {
             "outlinewidth": 0,
             "ticks": ""
            },
            "colorscale": [
             [
              0,
              "#0d0887"
             ],
             [
              0.1111111111111111,
              "#46039f"
             ],
             [
              0.2222222222222222,
              "#7201a8"
             ],
             [
              0.3333333333333333,
              "#9c179e"
             ],
             [
              0.4444444444444444,
              "#bd3786"
             ],
             [
              0.5555555555555556,
              "#d8576b"
             ],
             [
              0.6666666666666666,
              "#ed7953"
             ],
             [
              0.7777777777777778,
              "#fb9f3a"
             ],
             [
              0.8888888888888888,
              "#fdca26"
             ],
             [
              1,
              "#f0f921"
             ]
            ],
            "type": "heatmapgl"
           }
          ],
          "histogram": [
           {
            "marker": {
             "colorbar": {
              "outlinewidth": 0,
              "ticks": ""
             }
            },
            "type": "histogram"
           }
          ],
          "histogram2d": [
           {
            "colorbar": {
             "outlinewidth": 0,
             "ticks": ""
            },
            "colorscale": [
             [
              0,
              "#0d0887"
             ],
             [
              0.1111111111111111,
              "#46039f"
             ],
             [
              0.2222222222222222,
              "#7201a8"
             ],
             [
              0.3333333333333333,
              "#9c179e"
             ],
             [
              0.4444444444444444,
              "#bd3786"
             ],
             [
              0.5555555555555556,
              "#d8576b"
             ],
             [
              0.6666666666666666,
              "#ed7953"
             ],
             [
              0.7777777777777778,
              "#fb9f3a"
             ],
             [
              0.8888888888888888,
              "#fdca26"
             ],
             [
              1,
              "#f0f921"
             ]
            ],
            "type": "histogram2d"
           }
          ],
          "histogram2dcontour": [
           {
            "colorbar": {
             "outlinewidth": 0,
             "ticks": ""
            },
            "colorscale": [
             [
              0,
              "#0d0887"
             ],
             [
              0.1111111111111111,
              "#46039f"
             ],
             [
              0.2222222222222222,
              "#7201a8"
             ],
             [
              0.3333333333333333,
              "#9c179e"
             ],
             [
              0.4444444444444444,
              "#bd3786"
             ],
             [
              0.5555555555555556,
              "#d8576b"
             ],
             [
              0.6666666666666666,
              "#ed7953"
             ],
             [
              0.7777777777777778,
              "#fb9f3a"
             ],
             [
              0.8888888888888888,
              "#fdca26"
             ],
             [
              1,
              "#f0f921"
             ]
            ],
            "type": "histogram2dcontour"
           }
          ],
          "mesh3d": [
           {
            "colorbar": {
             "outlinewidth": 0,
             "ticks": ""
            },
            "type": "mesh3d"
           }
          ],
          "parcoords": [
           {
            "line": {
             "colorbar": {
              "outlinewidth": 0,
              "ticks": ""
             }
            },
            "type": "parcoords"
           }
          ],
          "pie": [
           {
            "automargin": true,
            "type": "pie"
           }
          ],
          "scatter": [
           {
            "marker": {
             "colorbar": {
              "outlinewidth": 0,
              "ticks": ""
             }
            },
            "type": "scatter"
           }
          ],
          "scatter3d": [
           {
            "line": {
             "colorbar": {
              "outlinewidth": 0,
              "ticks": ""
             }
            },
            "marker": {
             "colorbar": {
              "outlinewidth": 0,
              "ticks": ""
             }
            },
            "type": "scatter3d"
           }
          ],
          "scattercarpet": [
           {
            "marker": {
             "colorbar": {
              "outlinewidth": 0,
              "ticks": ""
             }
            },
            "type": "scattercarpet"
           }
          ],
          "scattergeo": [
           {
            "marker": {
             "colorbar": {
              "outlinewidth": 0,
              "ticks": ""
             }
            },
            "type": "scattergeo"
           }
          ],
          "scattergl": [
           {
            "marker": {
             "colorbar": {
              "outlinewidth": 0,
              "ticks": ""
             }
            },
            "type": "scattergl"
           }
          ],
          "scattermapbox": [
           {
            "marker": {
             "colorbar": {
              "outlinewidth": 0,
              "ticks": ""
             }
            },
            "type": "scattermapbox"
           }
          ],
          "scatterpolar": [
           {
            "marker": {
             "colorbar": {
              "outlinewidth": 0,
              "ticks": ""
             }
            },
            "type": "scatterpolar"
           }
          ],
          "scatterpolargl": [
           {
            "marker": {
             "colorbar": {
              "outlinewidth": 0,
              "ticks": ""
             }
            },
            "type": "scatterpolargl"
           }
          ],
          "scatterternary": [
           {
            "marker": {
             "colorbar": {
              "outlinewidth": 0,
              "ticks": ""
             }
            },
            "type": "scatterternary"
           }
          ],
          "surface": [
           {
            "colorbar": {
             "outlinewidth": 0,
             "ticks": ""
            },
            "colorscale": [
             [
              0,
              "#0d0887"
             ],
             [
              0.1111111111111111,
              "#46039f"
             ],
             [
              0.2222222222222222,
              "#7201a8"
             ],
             [
              0.3333333333333333,
              "#9c179e"
             ],
             [
              0.4444444444444444,
              "#bd3786"
             ],
             [
              0.5555555555555556,
              "#d8576b"
             ],
             [
              0.6666666666666666,
              "#ed7953"
             ],
             [
              0.7777777777777778,
              "#fb9f3a"
             ],
             [
              0.8888888888888888,
              "#fdca26"
             ],
             [
              1,
              "#f0f921"
             ]
            ],
            "type": "surface"
           }
          ],
          "table": [
           {
            "cells": {
             "fill": {
              "color": "#EBF0F8"
             },
             "line": {
              "color": "white"
             }
            },
            "header": {
             "fill": {
              "color": "#C8D4E3"
             },
             "line": {
              "color": "white"
             }
            },
            "type": "table"
           }
          ]
         },
         "layout": {
          "annotationdefaults": {
           "arrowcolor": "#2a3f5f",
           "arrowhead": 0,
           "arrowwidth": 1
          },
          "coloraxis": {
           "colorbar": {
            "outlinewidth": 0,
            "ticks": ""
           }
          },
          "colorscale": {
           "diverging": [
            [
             0,
             "#8e0152"
            ],
            [
             0.1,
             "#c51b7d"
            ],
            [
             0.2,
             "#de77ae"
            ],
            [
             0.3,
             "#f1b6da"
            ],
            [
             0.4,
             "#fde0ef"
            ],
            [
             0.5,
             "#f7f7f7"
            ],
            [
             0.6,
             "#e6f5d0"
            ],
            [
             0.7,
             "#b8e186"
            ],
            [
             0.8,
             "#7fbc41"
            ],
            [
             0.9,
             "#4d9221"
            ],
            [
             1,
             "#276419"
            ]
           ],
           "sequential": [
            [
             0,
             "#0d0887"
            ],
            [
             0.1111111111111111,
             "#46039f"
            ],
            [
             0.2222222222222222,
             "#7201a8"
            ],
            [
             0.3333333333333333,
             "#9c179e"
            ],
            [
             0.4444444444444444,
             "#bd3786"
            ],
            [
             0.5555555555555556,
             "#d8576b"
            ],
            [
             0.6666666666666666,
             "#ed7953"
            ],
            [
             0.7777777777777778,
             "#fb9f3a"
            ],
            [
             0.8888888888888888,
             "#fdca26"
            ],
            [
             1,
             "#f0f921"
            ]
           ],
           "sequentialminus": [
            [
             0,
             "#0d0887"
            ],
            [
             0.1111111111111111,
             "#46039f"
            ],
            [
             0.2222222222222222,
             "#7201a8"
            ],
            [
             0.3333333333333333,
             "#9c179e"
            ],
            [
             0.4444444444444444,
             "#bd3786"
            ],
            [
             0.5555555555555556,
             "#d8576b"
            ],
            [
             0.6666666666666666,
             "#ed7953"
            ],
            [
             0.7777777777777778,
             "#fb9f3a"
            ],
            [
             0.8888888888888888,
             "#fdca26"
            ],
            [
             1,
             "#f0f921"
            ]
           ]
          },
          "colorway": [
           "#636efa",
           "#EF553B",
           "#00cc96",
           "#ab63fa",
           "#FFA15A",
           "#19d3f3",
           "#FF6692",
           "#B6E880",
           "#FF97FF",
           "#FECB52"
          ],
          "font": {
           "color": "#2a3f5f"
          },
          "geo": {
           "bgcolor": "white",
           "lakecolor": "white",
           "landcolor": "#E5ECF6",
           "showlakes": true,
           "showland": true,
           "subunitcolor": "white"
          },
          "hoverlabel": {
           "align": "left"
          },
          "hovermode": "closest",
          "mapbox": {
           "style": "light"
          },
          "paper_bgcolor": "white",
          "plot_bgcolor": "#E5ECF6",
          "polar": {
           "angularaxis": {
            "gridcolor": "white",
            "linecolor": "white",
            "ticks": ""
           },
           "bgcolor": "#E5ECF6",
           "radialaxis": {
            "gridcolor": "white",
            "linecolor": "white",
            "ticks": ""
           }
          },
          "scene": {
           "xaxis": {
            "backgroundcolor": "#E5ECF6",
            "gridcolor": "white",
            "gridwidth": 2,
            "linecolor": "white",
            "showbackground": true,
            "ticks": "",
            "zerolinecolor": "white"
           },
           "yaxis": {
            "backgroundcolor": "#E5ECF6",
            "gridcolor": "white",
            "gridwidth": 2,
            "linecolor": "white",
            "showbackground": true,
            "ticks": "",
            "zerolinecolor": "white"
           },
           "zaxis": {
            "backgroundcolor": "#E5ECF6",
            "gridcolor": "white",
            "gridwidth": 2,
            "linecolor": "white",
            "showbackground": true,
            "ticks": "",
            "zerolinecolor": "white"
           }
          },
          "shapedefaults": {
           "line": {
            "color": "#2a3f5f"
           }
          },
          "ternary": {
           "aaxis": {
            "gridcolor": "white",
            "linecolor": "white",
            "ticks": ""
           },
           "baxis": {
            "gridcolor": "white",
            "linecolor": "white",
            "ticks": ""
           },
           "bgcolor": "#E5ECF6",
           "caxis": {
            "gridcolor": "white",
            "linecolor": "white",
            "ticks": ""
           }
          },
          "title": {
           "x": 0.05
          },
          "xaxis": {
           "automargin": true,
           "gridcolor": "white",
           "linecolor": "white",
           "ticks": "",
           "title": {
            "standoff": 15
           },
           "zerolinecolor": "white",
           "zerolinewidth": 2
          },
          "yaxis": {
           "automargin": true,
           "gridcolor": "white",
           "linecolor": "white",
           "ticks": "",
           "title": {
            "standoff": 15
           },
           "zerolinecolor": "white",
           "zerolinewidth": 2
          }
         }
        },
        "width": 900,
        "xaxis": {
         "rangeselector": {
          "buttons": [
           {
            "count": 7,
            "label": "1w",
            "step": "day",
            "stepmode": "backward"
           },
           {
            "count": 1,
            "label": "1m",
            "step": "month",
            "stepmode": "backward"
           },
           {
            "count": 6,
            "label": "6m",
            "step": "month",
            "stepmode": "backward"
           },
           {
            "count": 1,
            "label": "1y",
            "step": "year",
            "stepmode": "backward"
           },
           {
            "step": "all"
           }
          ]
         },
         "rangeslider": {
          "visible": true
         },
         "title": {
          "text": "ds"
         },
         "type": "date"
        },
        "yaxis": {
         "title": {
          "text": "y"
         }
        }
       }
      }
     },
     "metadata": {}
    }
   ],
   "source": [
    "# Make Prophet model including daily seasonality\n",
    "m = Prophet(\n",
    "    changepoint_prior_scale=0.5, # Increasing it will make the trend more flexible\n",
    "    changepoint_range=0.98, # place potential changepoints in the first 98% of the time series\n",
    "    yearly_seasonality=False,\n",
    "    weekly_seasonality=False,\n",
    "    daily_seasonality=True,\n",
    "    seasonality_mode=\"additive\"\n",
    ")\n",
    "\n",
    "history = m.fit(df_prophet)\n",
    "\n",
    "future = m.make_future_dataframe(periods=7)\n",
    "forecast = m.predict(future)\n",
    "\n",
    "fig = plot_plotly(m, forecast)\n",
    "py.iplot(fig)\n",
    "\n",
    "# conda install -c plotly plotly-orca\n",
    "fig.write_image(\".\\\\forcast_line.png\")"
   ]
  },
  {
   "cell_type": "markdown",
   "metadata": {},
   "source": [
    "## Plot change points"
   ]
  },
  {
   "cell_type": "code",
   "execution_count": 107,
   "metadata": {},
   "outputs": [
    {
     "output_type": "display_data",
     "data": {
      "text/plain": "<Figure size 720x432 with 1 Axes>",
      "image/svg+xml": "<?xml version=\"1.0\" encoding=\"utf-8\" standalone=\"no\"?>\r\n<!DOCTYPE svg PUBLIC \"-//W3C//DTD SVG 1.1//EN\"\r\n  \"http://www.w3.org/Graphics/SVG/1.1/DTD/svg11.dtd\">\r\n<!-- Created with matplotlib (https://matplotlib.org/) -->\r\n<svg height=\"424.15625pt\" version=\"1.1\" viewBox=\"0 0 711.161852 424.15625\" width=\"711.161852pt\" xmlns=\"http://www.w3.org/2000/svg\" xmlns:xlink=\"http://www.w3.org/1999/xlink\">\r\n <metadata>\r\n  <rdf:RDF xmlns:cc=\"http://creativecommons.org/ns#\" xmlns:dc=\"http://purl.org/dc/elements/1.1/\" xmlns:rdf=\"http://www.w3.org/1999/02/22-rdf-syntax-ns#\">\r\n   <cc:Work>\r\n    <dc:type rdf:resource=\"http://purl.org/dc/dcmitype/StillImage\"/>\r\n    <dc:date>2020-08-22T20:44:57.654210</dc:date>\r\n    <dc:format>image/svg+xml</dc:format>\r\n    <dc:creator>\r\n     <cc:Agent>\r\n      <dc:title>Matplotlib v3.3.1, https://matplotlib.org/</dc:title>\r\n     </cc:Agent>\r\n    </dc:creator>\r\n   </cc:Work>\r\n  </rdf:RDF>\r\n </metadata>\r\n <defs>\r\n  <style type=\"text/css\">*{stroke-linecap:butt;stroke-linejoin:round;}</style>\r\n </defs>\r\n <g id=\"figure_1\">\r\n  <g id=\"patch_1\">\r\n   <path d=\"M 0 424.15625 \r\nL 711.161852 424.15625 \r\nL 711.161852 0 \r\nL 0 0 \r\nz\r\n\" style=\"fill:#ffffff;\"/>\r\n  </g>\r\n  <g id=\"axes_1\">\r\n   <g id=\"patch_2\">\r\n    <path d=\"M 59.690625 386.6 \r\nL 693.202367 386.6 \r\nL 693.202367 7.2 \r\nL 59.690625 7.2 \r\nz\r\n\" style=\"fill:#ffffff;\"/>\r\n   </g>\r\n   <g id=\"PolyCollection_1\">\r\n    <defs>\r\n     <path d=\"M 88.486613 -59.451513 \r\nL 88.486613 -54.865572 \r\nL 91.152909 -54.801705 \r\nL 93.819204 -54.81832 \r\nL 96.485499 -54.977009 \r\nL 99.151794 -55.038101 \r\nL 101.818089 -54.902586 \r\nL 104.484385 -54.983991 \r\nL 107.15068 -55.165177 \r\nL 109.816975 -55.088178 \r\nL 112.48327 -55.036355 \r\nL 115.149565 -55.0784 \r\nL 117.815861 -55.11616 \r\nL 120.482156 -54.905622 \r\nL 123.148451 -54.953376 \r\nL 125.814746 -55.315838 \r\nL 128.481041 -55.026777 \r\nL 131.147337 -55.339152 \r\nL 133.813632 -55.267766 \r\nL 136.479927 -55.118281 \r\nL 139.146222 -55.09537 \r\nL 141.812518 -55.079718 \r\nL 144.478813 -54.980167 \r\nL 147.145108 -55.135392 \r\nL 149.811403 -54.853498 \r\nL 152.477698 -54.873338 \r\nL 155.143994 -55.62188 \r\nL 157.810289 -56.38941 \r\nL 160.476584 -56.981135 \r\nL 163.142879 -57.911269 \r\nL 165.809174 -58.598314 \r\nL 168.47547 -59.201191 \r\nL 171.141765 -60.187133 \r\nL 173.80806 -60.661004 \r\nL 176.474355 -61.462979 \r\nL 179.140651 -72.917294 \r\nL 181.806946 -84.621289 \r\nL 184.473241 -96.118985 \r\nL 187.139536 -107.526238 \r\nL 189.805831 -119.14336 \r\nL 192.472127 -130.690933 \r\nL 195.138422 -142.13159 \r\nL 197.804717 -153.740696 \r\nL 200.471012 -160.657472 \r\nL 203.137307 -167.426535 \r\nL 205.803603 -174.306276 \r\nL 208.469898 -181.005504 \r\nL 211.136193 -187.779984 \r\nL 213.802488 -194.617001 \r\nL 216.468783 -201.461941 \r\nL 219.135079 -208.291416 \r\nL 221.801374 -209.488963 \r\nL 224.467669 -210.750967 \r\nL 227.133964 -212.124916 \r\nL 229.80026 -213.133086 \r\nL 232.466555 -214.587396 \r\nL 235.13285 -215.860565 \r\nL 237.799145 -217.063785 \r\nL 240.46544 -218.224231 \r\nL 243.131736 -220.436971 \r\nL 245.798031 -222.193475 \r\nL 248.464326 -224.397447 \r\nL 251.130621 -226.514536 \r\nL 253.796916 -228.515191 \r\nL 256.463212 -230.565665 \r\nL 259.129507 -232.534732 \r\nL 261.795802 -234.50154 \r\nL 264.462097 -236.531012 \r\nL 267.128393 -238.476035 \r\nL 269.794688 -240.548958 \r\nL 272.460983 -242.614406 \r\nL 275.127278 -244.355229 \r\nL 277.793573 -246.432527 \r\nL 280.459869 -248.203494 \r\nL 283.126164 -250.44346 \r\nL 285.792459 -251.180465 \r\nL 288.458754 -252.082647 \r\nL 291.125049 -252.735173 \r\nL 293.791345 -253.74031 \r\nL 296.45764 -254.543159 \r\nL 299.123935 -255.236615 \r\nL 301.79023 -255.987069 \r\nL 304.456525 -256.737085 \r\nL 307.122821 -257.765481 \r\nL 309.789116 -257.855682 \r\nL 312.455411 -258.188017 \r\nL 315.121706 -258.635532 \r\nL 317.788002 -258.716801 \r\nL 320.454297 -258.962621 \r\nL 323.120592 -259.452512 \r\nL 325.786887 -259.787436 \r\nL 328.453182 -260.128194 \r\nL 331.119478 -260.029245 \r\nL 333.785773 -260.222202 \r\nL 336.452068 -260.590798 \r\nL 339.118363 -260.742292 \r\nL 341.784658 -260.976517 \r\nL 344.450954 -261.060447 \r\nL 347.117249 -261.344546 \r\nL 349.783544 -261.176371 \r\nL 352.449839 -261.699203 \r\nL 355.116135 -261.951793 \r\nL 357.78243 -262.024109 \r\nL 360.448725 -262.340974 \r\nL 363.11502 -262.35566 \r\nL 365.781315 -262.492659 \r\nL 368.447611 -262.741498 \r\nL 371.113906 -263.107439 \r\nL 373.780201 -263.365414 \r\nL 376.446496 -263.667628 \r\nL 379.112791 -264.225039 \r\nL 381.779087 -264.588791 \r\nL 384.445382 -264.948891 \r\nL 387.111677 -265.44486 \r\nL 389.777972 -265.89151 \r\nL 392.444267 -266.264477 \r\nL 395.110563 -266.603397 \r\nL 397.776858 -267.027897 \r\nL 400.443153 -267.347505 \r\nL 403.109448 -267.811466 \r\nL 405.775744 -268.221271 \r\nL 408.442039 -268.683585 \r\nL 411.108334 -269.117133 \r\nL 413.774629 -269.68683 \r\nL 416.440924 -270.118956 \r\nL 419.10722 -271.113497 \r\nL 421.773515 -272.003385 \r\nL 424.43981 -272.564925 \r\nL 427.106105 -273.366939 \r\nL 429.7724 -274.038484 \r\nL 432.438696 -274.99897 \r\nL 435.104991 -275.87605 \r\nL 437.771286 -276.735256 \r\nL 440.437581 -277.28093 \r\nL 443.103877 -278.180203 \r\nL 445.770172 -278.814464 \r\nL 448.436467 -279.571587 \r\nL 451.102762 -280.589372 \r\nL 453.769057 -281.528273 \r\nL 456.435353 -282.467659 \r\nL 459.101648 -283.270468 \r\nL 461.767943 -284.303379 \r\nL 464.434238 -285.110859 \r\nL 467.100533 -285.922357 \r\nL 469.766829 -286.848868 \r\nL 472.433124 -287.584004 \r\nL 475.099419 -288.437207 \r\nL 477.765714 -289.238901 \r\nL 480.432009 -290.124926 \r\nL 483.098305 -291.037661 \r\nL 485.7646 -291.777694 \r\nL 488.430895 -292.81225 \r\nL 491.09719 -293.658772 \r\nL 493.763486 -294.445732 \r\nL 496.429781 -295.136891 \r\nL 499.096076 -296.283546 \r\nL 501.762371 -296.99067 \r\nL 504.428666 -297.928007 \r\nL 507.094962 -299.093556 \r\nL 509.761257 -300.178411 \r\nL 512.427552 -300.831621 \r\nL 515.093847 -301.705479 \r\nL 517.760142 -302.585682 \r\nL 520.426438 -303.765261 \r\nL 523.092733 -304.714842 \r\nL 525.759028 -305.690812 \r\nL 528.425323 -306.552481 \r\nL 531.091619 -307.792962 \r\nL 533.757914 -308.487123 \r\nL 536.424209 -309.491691 \r\nL 539.090504 -310.627213 \r\nL 541.756799 -311.458747 \r\nL 544.423095 -312.326233 \r\nL 547.08939 -313.400864 \r\nL 549.755685 -314.391641 \r\nL 552.42198 -315.216258 \r\nL 555.088275 -316.012086 \r\nL 557.754571 -317.124074 \r\nL 560.420866 -318.013249 \r\nL 563.087161 -318.850465 \r\nL 565.753456 -319.963576 \r\nL 568.419751 -320.910849 \r\nL 571.086047 -321.644109 \r\nL 573.752342 -322.774226 \r\nL 576.418637 -323.553096 \r\nL 579.084932 -324.558604 \r\nL 581.751228 -325.355814 \r\nL 584.417523 -326.389727 \r\nL 587.083818 -327.236323 \r\nL 589.750113 -328.373684 \r\nL 592.416408 -328.824632 \r\nL 595.082704 -329.409281 \r\nL 597.748999 -329.911122 \r\nL 600.415294 -330.637202 \r\nL 603.081589 -330.983592 \r\nL 605.747884 -331.469209 \r\nL 608.41418 -332.054207 \r\nL 611.080475 -332.64125 \r\nL 613.74677 -333.646096 \r\nL 616.413065 -334.504727 \r\nL 619.079361 -335.307127 \r\nL 621.745656 -336.014078 \r\nL 624.411951 -337.131371 \r\nL 627.078246 -338.034054 \r\nL 629.744541 -338.776815 \r\nL 632.410837 -339.674814 \r\nL 635.077132 -344.153971 \r\nL 637.743427 -348.518122 \r\nL 640.409722 -352.850427 \r\nL 643.076017 -357.34004 \r\nL 645.742313 -361.655067 \r\nL 648.408608 -366.087496 \r\nL 651.074903 -370.481512 \r\nL 653.741198 -374.64704 \r\nL 656.407493 -378.575415 \r\nL 659.073789 -382.582604 \r\nL 661.740084 -386.240147 \r\nL 664.406379 -389.384746 \r\nL 664.406379 -399.710795 \r\nL 664.406379 -399.710795 \r\nL 661.740084 -394.455393 \r\nL 659.073789 -389.331542 \r\nL 656.407493 -384.356197 \r\nL 653.741198 -379.725554 \r\nL 651.074903 -375.233936 \r\nL 648.408608 -370.693801 \r\nL 645.742313 -366.400107 \r\nL 643.076017 -361.794557 \r\nL 640.409722 -357.389431 \r\nL 637.743427 -353.154753 \r\nL 635.077132 -348.587909 \r\nL 632.410837 -344.212686 \r\nL 629.744541 -343.11825 \r\nL 627.078246 -342.315157 \r\nL 624.411951 -341.529821 \r\nL 621.745656 -340.549077 \r\nL 619.079361 -339.847618 \r\nL 616.413065 -338.91079 \r\nL 613.74677 -337.972063 \r\nL 611.080475 -337.312986 \r\nL 608.41418 -336.633461 \r\nL 605.747884 -336.035313 \r\nL 603.081589 -335.511416 \r\nL 600.415294 -335.070262 \r\nL 597.748999 -334.155232 \r\nL 595.082704 -333.711054 \r\nL 592.416408 -333.150121 \r\nL 589.750113 -332.920909 \r\nL 587.083818 -331.828305 \r\nL 584.417523 -330.858063 \r\nL 581.751228 -330.049452 \r\nL 579.084932 -328.927048 \r\nL 576.418637 -328.162557 \r\nL 573.752342 -327.216237 \r\nL 571.086047 -326.145701 \r\nL 568.419751 -325.284961 \r\nL 565.753456 -324.238607 \r\nL 563.087161 -323.332011 \r\nL 560.420866 -322.341681 \r\nL 557.754571 -321.544367 \r\nL 555.088275 -320.622022 \r\nL 552.42198 -319.742416 \r\nL 549.755685 -318.785823 \r\nL 547.08939 -318.047183 \r\nL 544.423095 -316.718296 \r\nL 541.756799 -315.996048 \r\nL 539.090504 -314.995762 \r\nL 536.424209 -314.028076 \r\nL 533.757914 -313.024538 \r\nL 531.091619 -312.200489 \r\nL 528.425323 -311.034154 \r\nL 525.759028 -310.142449 \r\nL 523.092733 -309.248097 \r\nL 520.426438 -308.211959 \r\nL 517.760142 -307.301331 \r\nL 515.093847 -306.161176 \r\nL 512.427552 -305.266564 \r\nL 509.761257 -304.434888 \r\nL 507.094962 -303.501628 \r\nL 504.428666 -302.493445 \r\nL 501.762371 -301.402694 \r\nL 499.096076 -300.796364 \r\nL 496.429781 -299.944761 \r\nL 493.763486 -299.188305 \r\nL 491.09719 -298.20697 \r\nL 488.430895 -297.235869 \r\nL 485.7646 -296.378613 \r\nL 483.098305 -295.618259 \r\nL 480.432009 -294.689891 \r\nL 477.765714 -293.763506 \r\nL 475.099419 -293.130531 \r\nL 472.433124 -292.194299 \r\nL 469.766829 -291.318275 \r\nL 467.100533 -290.288001 \r\nL 464.434238 -289.328947 \r\nL 461.767943 -288.790217 \r\nL 459.101648 -287.707104 \r\nL 456.435353 -286.865208 \r\nL 453.769057 -286.158578 \r\nL 451.102762 -285.246479 \r\nL 448.436467 -284.216007 \r\nL 445.770172 -283.495563 \r\nL 443.103877 -282.550028 \r\nL 440.437581 -281.753909 \r\nL 437.771286 -280.869154 \r\nL 435.104991 -280.164744 \r\nL 432.438696 -279.472876 \r\nL 429.7724 -278.666117 \r\nL 427.106105 -277.863395 \r\nL 424.43981 -277.075591 \r\nL 421.773515 -276.298459 \r\nL 419.10722 -275.619112 \r\nL 416.440924 -274.830524 \r\nL 413.774629 -273.977399 \r\nL 411.108334 -273.718495 \r\nL 408.442039 -273.04374 \r\nL 405.775744 -272.7972 \r\nL 403.109448 -272.447226 \r\nL 400.443153 -271.804958 \r\nL 397.776858 -271.408744 \r\nL 395.110563 -271.188871 \r\nL 392.444267 -270.720469 \r\nL 389.777972 -270.234084 \r\nL 387.111677 -270.022125 \r\nL 384.445382 -269.255108 \r\nL 381.779087 -268.935571 \r\nL 379.112791 -268.706313 \r\nL 376.446496 -268.218438 \r\nL 373.780201 -267.948522 \r\nL 371.113906 -267.511246 \r\nL 368.447611 -267.031064 \r\nL 365.781315 -267.057395 \r\nL 363.11502 -266.944119 \r\nL 360.448725 -266.602268 \r\nL 357.78243 -266.604091 \r\nL 355.116135 -266.442239 \r\nL 352.449839 -266.167484 \r\nL 349.783544 -265.8687 \r\nL 347.117249 -265.7323 \r\nL 344.450954 -265.562448 \r\nL 341.784658 -265.308682 \r\nL 339.118363 -265.166875 \r\nL 336.452068 -264.946976 \r\nL 333.785773 -264.797962 \r\nL 331.119478 -264.504248 \r\nL 328.453182 -264.50225 \r\nL 325.786887 -264.222033 \r\nL 323.120592 -264.037125 \r\nL 320.454297 -263.488364 \r\nL 317.788002 -263.19577 \r\nL 315.121706 -262.981755 \r\nL 312.455411 -262.62401 \r\nL 309.789116 -262.298435 \r\nL 307.122821 -262.116627 \r\nL 304.456525 -261.074488 \r\nL 301.79023 -260.533449 \r\nL 299.123935 -259.699278 \r\nL 296.45764 -258.945449 \r\nL 293.791345 -258.083432 \r\nL 291.125049 -257.353488 \r\nL 288.458754 -256.496146 \r\nL 285.792459 -255.63565 \r\nL 283.126164 -254.844355 \r\nL 280.459869 -252.829216 \r\nL 277.793573 -250.829677 \r\nL 275.127278 -248.882051 \r\nL 272.460983 -246.99985 \r\nL 269.794688 -245.054901 \r\nL 267.128393 -243.065009 \r\nL 264.462097 -240.881894 \r\nL 261.795802 -239.026983 \r\nL 259.129507 -237.187474 \r\nL 256.463212 -235.03055 \r\nL 253.796916 -233.110102 \r\nL 251.130621 -230.94745 \r\nL 248.464326 -229.051473 \r\nL 245.798031 -227.009811 \r\nL 243.131736 -224.784342 \r\nL 240.46544 -222.720061 \r\nL 237.799145 -221.562926 \r\nL 235.13285 -220.199556 \r\nL 232.466555 -219.047205 \r\nL 229.80026 -217.871324 \r\nL 227.133964 -216.590954 \r\nL 224.467669 -215.404392 \r\nL 221.801374 -213.916702 \r\nL 219.135079 -212.868259 \r\nL 216.468783 -206.219225 \r\nL 213.802488 -199.133325 \r\nL 211.136193 -192.127762 \r\nL 208.469898 -185.465584 \r\nL 205.803603 -178.612672 \r\nL 203.137307 -171.80487 \r\nL 200.471012 -165.085777 \r\nL 197.804717 -158.186539 \r\nL 195.138422 -146.675034 \r\nL 192.472127 -135.218316 \r\nL 189.805831 -123.618888 \r\nL 187.139536 -112.012358 \r\nL 184.473241 -100.590173 \r\nL 181.806946 -88.946904 \r\nL 179.140651 -77.509979 \r\nL 176.474355 -65.833009 \r\nL 173.80806 -65.286168 \r\nL 171.141765 -64.543099 \r\nL 168.47547 -63.788519 \r\nL 165.809174 -63.090028 \r\nL 163.142879 -62.354679 \r\nL 160.476584 -61.686929 \r\nL 157.810289 -60.951667 \r\nL 155.143994 -60.143536 \r\nL 152.477698 -59.394324 \r\nL 149.811403 -59.667656 \r\nL 147.145108 -59.595392 \r\nL 144.478813 -59.363504 \r\nL 141.812518 -59.798864 \r\nL 139.146222 -59.593875 \r\nL 136.479927 -59.513053 \r\nL 133.813632 -59.708714 \r\nL 131.147337 -59.738573 \r\nL 128.481041 -59.669677 \r\nL 125.814746 -59.608338 \r\nL 123.148451 -59.559713 \r\nL 120.482156 -59.554818 \r\nL 117.815861 -59.556052 \r\nL 115.149565 -59.586599 \r\nL 112.48327 -59.484748 \r\nL 109.816975 -59.546249 \r\nL 107.15068 -59.521091 \r\nL 104.484385 -59.543155 \r\nL 101.818089 -59.474767 \r\nL 99.151794 -59.509413 \r\nL 96.485499 -59.456496 \r\nL 93.819204 -59.595296 \r\nL 91.152909 -59.440568 \r\nL 88.486613 -59.451513 \r\nz\r\n\" id=\"m4e32edb4c6\" style=\"stroke:#0072b2;stroke-opacity:0.2;\"/>\r\n    </defs>\r\n    <g clip-path=\"url(#pd360a27ce2)\">\r\n     <use style=\"fill:#0072b2;fill-opacity:0.2;stroke:#0072b2;stroke-opacity:0.2;\" x=\"0\" xlink:href=\"#m4e32edb4c6\" y=\"424.15625\"/>\r\n    </g>\r\n   </g>\r\n   <g id=\"matplotlib.axis_1\">\r\n    <g id=\"xtick_1\">\r\n     <g id=\"line2d_1\">\r\n      <path clip-path=\"url(#pd360a27ce2)\" d=\"M 115.149565 386.6 \r\nL 115.149565 7.2 \r\n\" style=\"fill:none;stroke:#808080;stroke-linecap:square;stroke-opacity:0.2;\"/>\r\n     </g>\r\n     <g id=\"line2d_2\">\r\n      <defs>\r\n       <path d=\"M 0 0 \r\nL 0 3.5 \r\n\" id=\"m8699ece7a4\" style=\"stroke:#000000;stroke-width:0.8;\"/>\r\n      </defs>\r\n      <g>\r\n       <use style=\"stroke:#000000;stroke-width:0.8;\" x=\"115.149565\" xlink:href=\"#m8699ece7a4\" y=\"386.6\"/>\r\n      </g>\r\n     </g>\r\n     <g id=\"text_1\">\r\n      <!-- 2020-02 -->\r\n      <g transform=\"translate(94.258159 401.198437)scale(0.1 -0.1)\">\r\n       <defs>\r\n        <path d=\"M 19.1875 8.296875 \r\nL 53.609375 8.296875 \r\nL 53.609375 0 \r\nL 7.328125 0 \r\nL 7.328125 8.296875 \r\nQ 12.9375 14.109375 22.625 23.890625 \r\nQ 32.328125 33.6875 34.8125 36.53125 \r\nQ 39.546875 41.84375 41.421875 45.53125 \r\nQ 43.3125 49.21875 43.3125 52.78125 \r\nQ 43.3125 58.59375 39.234375 62.25 \r\nQ 35.15625 65.921875 28.609375 65.921875 \r\nQ 23.96875 65.921875 18.8125 64.3125 \r\nQ 13.671875 62.703125 7.8125 59.421875 \r\nL 7.8125 69.390625 \r\nQ 13.765625 71.78125 18.9375 73 \r\nQ 24.125 74.21875 28.421875 74.21875 \r\nQ 39.75 74.21875 46.484375 68.546875 \r\nQ 53.21875 62.890625 53.21875 53.421875 \r\nQ 53.21875 48.921875 51.53125 44.890625 \r\nQ 49.859375 40.875 45.40625 35.40625 \r\nQ 44.1875 33.984375 37.640625 27.21875 \r\nQ 31.109375 20.453125 19.1875 8.296875 \r\nz\r\n\" id=\"DejaVuSans-50\"/>\r\n        <path d=\"M 31.78125 66.40625 \r\nQ 24.171875 66.40625 20.328125 58.90625 \r\nQ 16.5 51.421875 16.5 36.375 \r\nQ 16.5 21.390625 20.328125 13.890625 \r\nQ 24.171875 6.390625 31.78125 6.390625 \r\nQ 39.453125 6.390625 43.28125 13.890625 \r\nQ 47.125 21.390625 47.125 36.375 \r\nQ 47.125 51.421875 43.28125 58.90625 \r\nQ 39.453125 66.40625 31.78125 66.40625 \r\nz\r\nM 31.78125 74.21875 \r\nQ 44.046875 74.21875 50.515625 64.515625 \r\nQ 56.984375 54.828125 56.984375 36.375 \r\nQ 56.984375 17.96875 50.515625 8.265625 \r\nQ 44.046875 -1.421875 31.78125 -1.421875 \r\nQ 19.53125 -1.421875 13.0625 8.265625 \r\nQ 6.59375 17.96875 6.59375 36.375 \r\nQ 6.59375 54.828125 13.0625 64.515625 \r\nQ 19.53125 74.21875 31.78125 74.21875 \r\nz\r\n\" id=\"DejaVuSans-48\"/>\r\n        <path d=\"M 4.890625 31.390625 \r\nL 31.203125 31.390625 \r\nL 31.203125 23.390625 \r\nL 4.890625 23.390625 \r\nz\r\n\" id=\"DejaVuSans-45\"/>\r\n       </defs>\r\n       <use xlink:href=\"#DejaVuSans-50\"/>\r\n       <use x=\"63.623047\" xlink:href=\"#DejaVuSans-48\"/>\r\n       <use x=\"127.246094\" xlink:href=\"#DejaVuSans-50\"/>\r\n       <use x=\"190.869141\" xlink:href=\"#DejaVuSans-48\"/>\r\n       <use x=\"254.492188\" xlink:href=\"#DejaVuSans-45\"/>\r\n       <use x=\"290.576172\" xlink:href=\"#DejaVuSans-48\"/>\r\n       <use x=\"354.199219\" xlink:href=\"#DejaVuSans-50\"/>\r\n      </g>\r\n     </g>\r\n    </g>\r\n    <g id=\"xtick_2\">\r\n     <g id=\"line2d_3\">\r\n      <path clip-path=\"url(#pd360a27ce2)\" d=\"M 192.472127 386.6 \r\nL 192.472127 7.2 \r\n\" style=\"fill:none;stroke:#808080;stroke-linecap:square;stroke-opacity:0.2;\"/>\r\n     </g>\r\n     <g id=\"line2d_4\">\r\n      <g>\r\n       <use style=\"stroke:#000000;stroke-width:0.8;\" x=\"192.472127\" xlink:href=\"#m8699ece7a4\" y=\"386.6\"/>\r\n      </g>\r\n     </g>\r\n     <g id=\"text_2\">\r\n      <!-- 2020-03 -->\r\n      <g transform=\"translate(171.58072 401.198437)scale(0.1 -0.1)\">\r\n       <defs>\r\n        <path d=\"M 40.578125 39.3125 \r\nQ 47.65625 37.796875 51.625 33 \r\nQ 55.609375 28.21875 55.609375 21.1875 \r\nQ 55.609375 10.40625 48.1875 4.484375 \r\nQ 40.765625 -1.421875 27.09375 -1.421875 \r\nQ 22.515625 -1.421875 17.65625 -0.515625 \r\nQ 12.796875 0.390625 7.625 2.203125 \r\nL 7.625 11.71875 \r\nQ 11.71875 9.328125 16.59375 8.109375 \r\nQ 21.484375 6.890625 26.8125 6.890625 \r\nQ 36.078125 6.890625 40.9375 10.546875 \r\nQ 45.796875 14.203125 45.796875 21.1875 \r\nQ 45.796875 27.640625 41.28125 31.265625 \r\nQ 36.765625 34.90625 28.71875 34.90625 \r\nL 20.21875 34.90625 \r\nL 20.21875 43.015625 \r\nL 29.109375 43.015625 \r\nQ 36.375 43.015625 40.234375 45.921875 \r\nQ 44.09375 48.828125 44.09375 54.296875 \r\nQ 44.09375 59.90625 40.109375 62.90625 \r\nQ 36.140625 65.921875 28.71875 65.921875 \r\nQ 24.65625 65.921875 20.015625 65.03125 \r\nQ 15.375 64.15625 9.8125 62.3125 \r\nL 9.8125 71.09375 \r\nQ 15.4375 72.65625 20.34375 73.4375 \r\nQ 25.25 74.21875 29.59375 74.21875 \r\nQ 40.828125 74.21875 47.359375 69.109375 \r\nQ 53.90625 64.015625 53.90625 55.328125 \r\nQ 53.90625 49.265625 50.4375 45.09375 \r\nQ 46.96875 40.921875 40.578125 39.3125 \r\nz\r\n\" id=\"DejaVuSans-51\"/>\r\n       </defs>\r\n       <use xlink:href=\"#DejaVuSans-50\"/>\r\n       <use x=\"63.623047\" xlink:href=\"#DejaVuSans-48\"/>\r\n       <use x=\"127.246094\" xlink:href=\"#DejaVuSans-50\"/>\r\n       <use x=\"190.869141\" xlink:href=\"#DejaVuSans-48\"/>\r\n       <use x=\"254.492188\" xlink:href=\"#DejaVuSans-45\"/>\r\n       <use x=\"290.576172\" xlink:href=\"#DejaVuSans-48\"/>\r\n       <use x=\"354.199219\" xlink:href=\"#DejaVuSans-51\"/>\r\n      </g>\r\n     </g>\r\n    </g>\r\n    <g id=\"xtick_3\">\r\n     <g id=\"line2d_5\">\r\n      <path clip-path=\"url(#pd360a27ce2)\" d=\"M 275.127278 386.6 \r\nL 275.127278 7.2 \r\n\" style=\"fill:none;stroke:#808080;stroke-linecap:square;stroke-opacity:0.2;\"/>\r\n     </g>\r\n     <g id=\"line2d_6\">\r\n      <g>\r\n       <use style=\"stroke:#000000;stroke-width:0.8;\" x=\"275.127278\" xlink:href=\"#m8699ece7a4\" y=\"386.6\"/>\r\n      </g>\r\n     </g>\r\n     <g id=\"text_3\">\r\n      <!-- 2020-04 -->\r\n      <g transform=\"translate(254.235872 401.198437)scale(0.1 -0.1)\">\r\n       <defs>\r\n        <path d=\"M 37.796875 64.3125 \r\nL 12.890625 25.390625 \r\nL 37.796875 25.390625 \r\nz\r\nM 35.203125 72.90625 \r\nL 47.609375 72.90625 \r\nL 47.609375 25.390625 \r\nL 58.015625 25.390625 \r\nL 58.015625 17.1875 \r\nL 47.609375 17.1875 \r\nL 47.609375 0 \r\nL 37.796875 0 \r\nL 37.796875 17.1875 \r\nL 4.890625 17.1875 \r\nL 4.890625 26.703125 \r\nz\r\n\" id=\"DejaVuSans-52\"/>\r\n       </defs>\r\n       <use xlink:href=\"#DejaVuSans-50\"/>\r\n       <use x=\"63.623047\" xlink:href=\"#DejaVuSans-48\"/>\r\n       <use x=\"127.246094\" xlink:href=\"#DejaVuSans-50\"/>\r\n       <use x=\"190.869141\" xlink:href=\"#DejaVuSans-48\"/>\r\n       <use x=\"254.492188\" xlink:href=\"#DejaVuSans-45\"/>\r\n       <use x=\"290.576172\" xlink:href=\"#DejaVuSans-48\"/>\r\n       <use x=\"354.199219\" xlink:href=\"#DejaVuSans-52\"/>\r\n      </g>\r\n     </g>\r\n    </g>\r\n    <g id=\"xtick_4\">\r\n     <g id=\"line2d_7\">\r\n      <path clip-path=\"url(#pd360a27ce2)\" d=\"M 355.116135 386.6 \r\nL 355.116135 7.2 \r\n\" style=\"fill:none;stroke:#808080;stroke-linecap:square;stroke-opacity:0.2;\"/>\r\n     </g>\r\n     <g id=\"line2d_8\">\r\n      <g>\r\n       <use style=\"stroke:#000000;stroke-width:0.8;\" x=\"355.116135\" xlink:href=\"#m8699ece7a4\" y=\"386.6\"/>\r\n      </g>\r\n     </g>\r\n     <g id=\"text_4\">\r\n      <!-- 2020-05 -->\r\n      <g transform=\"translate(334.224728 401.198437)scale(0.1 -0.1)\">\r\n       <defs>\r\n        <path d=\"M 10.796875 72.90625 \r\nL 49.515625 72.90625 \r\nL 49.515625 64.59375 \r\nL 19.828125 64.59375 \r\nL 19.828125 46.734375 \r\nQ 21.96875 47.46875 24.109375 47.828125 \r\nQ 26.265625 48.1875 28.421875 48.1875 \r\nQ 40.625 48.1875 47.75 41.5 \r\nQ 54.890625 34.8125 54.890625 23.390625 \r\nQ 54.890625 11.625 47.5625 5.09375 \r\nQ 40.234375 -1.421875 26.90625 -1.421875 \r\nQ 22.3125 -1.421875 17.546875 -0.640625 \r\nQ 12.796875 0.140625 7.71875 1.703125 \r\nL 7.71875 11.625 \r\nQ 12.109375 9.234375 16.796875 8.0625 \r\nQ 21.484375 6.890625 26.703125 6.890625 \r\nQ 35.15625 6.890625 40.078125 11.328125 \r\nQ 45.015625 15.765625 45.015625 23.390625 \r\nQ 45.015625 31 40.078125 35.4375 \r\nQ 35.15625 39.890625 26.703125 39.890625 \r\nQ 22.75 39.890625 18.8125 39.015625 \r\nQ 14.890625 38.140625 10.796875 36.28125 \r\nz\r\n\" id=\"DejaVuSans-53\"/>\r\n       </defs>\r\n       <use xlink:href=\"#DejaVuSans-50\"/>\r\n       <use x=\"63.623047\" xlink:href=\"#DejaVuSans-48\"/>\r\n       <use x=\"127.246094\" xlink:href=\"#DejaVuSans-50\"/>\r\n       <use x=\"190.869141\" xlink:href=\"#DejaVuSans-48\"/>\r\n       <use x=\"254.492188\" xlink:href=\"#DejaVuSans-45\"/>\r\n       <use x=\"290.576172\" xlink:href=\"#DejaVuSans-48\"/>\r\n       <use x=\"354.199219\" xlink:href=\"#DejaVuSans-53\"/>\r\n      </g>\r\n     </g>\r\n    </g>\r\n    <g id=\"xtick_5\">\r\n     <g id=\"line2d_9\">\r\n      <path clip-path=\"url(#pd360a27ce2)\" d=\"M 437.771286 386.6 \r\nL 437.771286 7.2 \r\n\" style=\"fill:none;stroke:#808080;stroke-linecap:square;stroke-opacity:0.2;\"/>\r\n     </g>\r\n     <g id=\"line2d_10\">\r\n      <g>\r\n       <use style=\"stroke:#000000;stroke-width:0.8;\" x=\"437.771286\" xlink:href=\"#m8699ece7a4\" y=\"386.6\"/>\r\n      </g>\r\n     </g>\r\n     <g id=\"text_5\">\r\n      <!-- 2020-06 -->\r\n      <g transform=\"translate(416.87988 401.198437)scale(0.1 -0.1)\">\r\n       <defs>\r\n        <path d=\"M 33.015625 40.375 \r\nQ 26.375 40.375 22.484375 35.828125 \r\nQ 18.609375 31.296875 18.609375 23.390625 \r\nQ 18.609375 15.53125 22.484375 10.953125 \r\nQ 26.375 6.390625 33.015625 6.390625 \r\nQ 39.65625 6.390625 43.53125 10.953125 \r\nQ 47.40625 15.53125 47.40625 23.390625 \r\nQ 47.40625 31.296875 43.53125 35.828125 \r\nQ 39.65625 40.375 33.015625 40.375 \r\nz\r\nM 52.59375 71.296875 \r\nL 52.59375 62.3125 \r\nQ 48.875 64.0625 45.09375 64.984375 \r\nQ 41.3125 65.921875 37.59375 65.921875 \r\nQ 27.828125 65.921875 22.671875 59.328125 \r\nQ 17.53125 52.734375 16.796875 39.40625 \r\nQ 19.671875 43.65625 24.015625 45.921875 \r\nQ 28.375 48.1875 33.59375 48.1875 \r\nQ 44.578125 48.1875 50.953125 41.515625 \r\nQ 57.328125 34.859375 57.328125 23.390625 \r\nQ 57.328125 12.15625 50.6875 5.359375 \r\nQ 44.046875 -1.421875 33.015625 -1.421875 \r\nQ 20.359375 -1.421875 13.671875 8.265625 \r\nQ 6.984375 17.96875 6.984375 36.375 \r\nQ 6.984375 53.65625 15.1875 63.9375 \r\nQ 23.390625 74.21875 37.203125 74.21875 \r\nQ 40.921875 74.21875 44.703125 73.484375 \r\nQ 48.484375 72.75 52.59375 71.296875 \r\nz\r\n\" id=\"DejaVuSans-54\"/>\r\n       </defs>\r\n       <use xlink:href=\"#DejaVuSans-50\"/>\r\n       <use x=\"63.623047\" xlink:href=\"#DejaVuSans-48\"/>\r\n       <use x=\"127.246094\" xlink:href=\"#DejaVuSans-50\"/>\r\n       <use x=\"190.869141\" xlink:href=\"#DejaVuSans-48\"/>\r\n       <use x=\"254.492188\" xlink:href=\"#DejaVuSans-45\"/>\r\n       <use x=\"290.576172\" xlink:href=\"#DejaVuSans-48\"/>\r\n       <use x=\"354.199219\" xlink:href=\"#DejaVuSans-54\"/>\r\n      </g>\r\n     </g>\r\n    </g>\r\n    <g id=\"xtick_6\">\r\n     <g id=\"line2d_11\">\r\n      <path clip-path=\"url(#pd360a27ce2)\" d=\"M 517.760142 386.6 \r\nL 517.760142 7.2 \r\n\" style=\"fill:none;stroke:#808080;stroke-linecap:square;stroke-opacity:0.2;\"/>\r\n     </g>\r\n     <g id=\"line2d_12\">\r\n      <g>\r\n       <use style=\"stroke:#000000;stroke-width:0.8;\" x=\"517.760142\" xlink:href=\"#m8699ece7a4\" y=\"386.6\"/>\r\n      </g>\r\n     </g>\r\n     <g id=\"text_6\">\r\n      <!-- 2020-07 -->\r\n      <g transform=\"translate(496.868736 401.198437)scale(0.1 -0.1)\">\r\n       <defs>\r\n        <path d=\"M 8.203125 72.90625 \r\nL 55.078125 72.90625 \r\nL 55.078125 68.703125 \r\nL 28.609375 0 \r\nL 18.3125 0 \r\nL 43.21875 64.59375 \r\nL 8.203125 64.59375 \r\nz\r\n\" id=\"DejaVuSans-55\"/>\r\n       </defs>\r\n       <use xlink:href=\"#DejaVuSans-50\"/>\r\n       <use x=\"63.623047\" xlink:href=\"#DejaVuSans-48\"/>\r\n       <use x=\"127.246094\" xlink:href=\"#DejaVuSans-50\"/>\r\n       <use x=\"190.869141\" xlink:href=\"#DejaVuSans-48\"/>\r\n       <use x=\"254.492188\" xlink:href=\"#DejaVuSans-45\"/>\r\n       <use x=\"290.576172\" xlink:href=\"#DejaVuSans-48\"/>\r\n       <use x=\"354.199219\" xlink:href=\"#DejaVuSans-55\"/>\r\n      </g>\r\n     </g>\r\n    </g>\r\n    <g id=\"xtick_7\">\r\n     <g id=\"line2d_13\">\r\n      <path clip-path=\"url(#pd360a27ce2)\" d=\"M 600.415294 386.6 \r\nL 600.415294 7.2 \r\n\" style=\"fill:none;stroke:#808080;stroke-linecap:square;stroke-opacity:0.2;\"/>\r\n     </g>\r\n     <g id=\"line2d_14\">\r\n      <g>\r\n       <use style=\"stroke:#000000;stroke-width:0.8;\" x=\"600.415294\" xlink:href=\"#m8699ece7a4\" y=\"386.6\"/>\r\n      </g>\r\n     </g>\r\n     <g id=\"text_7\">\r\n      <!-- 2020-08 -->\r\n      <g transform=\"translate(579.523888 401.198437)scale(0.1 -0.1)\">\r\n       <defs>\r\n        <path d=\"M 31.78125 34.625 \r\nQ 24.75 34.625 20.71875 30.859375 \r\nQ 16.703125 27.09375 16.703125 20.515625 \r\nQ 16.703125 13.921875 20.71875 10.15625 \r\nQ 24.75 6.390625 31.78125 6.390625 \r\nQ 38.8125 6.390625 42.859375 10.171875 \r\nQ 46.921875 13.96875 46.921875 20.515625 \r\nQ 46.921875 27.09375 42.890625 30.859375 \r\nQ 38.875 34.625 31.78125 34.625 \r\nz\r\nM 21.921875 38.8125 \r\nQ 15.578125 40.375 12.03125 44.71875 \r\nQ 8.5 49.078125 8.5 55.328125 \r\nQ 8.5 64.0625 14.71875 69.140625 \r\nQ 20.953125 74.21875 31.78125 74.21875 \r\nQ 42.671875 74.21875 48.875 69.140625 \r\nQ 55.078125 64.0625 55.078125 55.328125 \r\nQ 55.078125 49.078125 51.53125 44.71875 \r\nQ 48 40.375 41.703125 38.8125 \r\nQ 48.828125 37.15625 52.796875 32.3125 \r\nQ 56.78125 27.484375 56.78125 20.515625 \r\nQ 56.78125 9.90625 50.3125 4.234375 \r\nQ 43.84375 -1.421875 31.78125 -1.421875 \r\nQ 19.734375 -1.421875 13.25 4.234375 \r\nQ 6.78125 9.90625 6.78125 20.515625 \r\nQ 6.78125 27.484375 10.78125 32.3125 \r\nQ 14.796875 37.15625 21.921875 38.8125 \r\nz\r\nM 18.3125 54.390625 \r\nQ 18.3125 48.734375 21.84375 45.5625 \r\nQ 25.390625 42.390625 31.78125 42.390625 \r\nQ 38.140625 42.390625 41.71875 45.5625 \r\nQ 45.3125 48.734375 45.3125 54.390625 \r\nQ 45.3125 60.0625 41.71875 63.234375 \r\nQ 38.140625 66.40625 31.78125 66.40625 \r\nQ 25.390625 66.40625 21.84375 63.234375 \r\nQ 18.3125 60.0625 18.3125 54.390625 \r\nz\r\n\" id=\"DejaVuSans-56\"/>\r\n       </defs>\r\n       <use xlink:href=\"#DejaVuSans-50\"/>\r\n       <use x=\"63.623047\" xlink:href=\"#DejaVuSans-48\"/>\r\n       <use x=\"127.246094\" xlink:href=\"#DejaVuSans-50\"/>\r\n       <use x=\"190.869141\" xlink:href=\"#DejaVuSans-48\"/>\r\n       <use x=\"254.492188\" xlink:href=\"#DejaVuSans-45\"/>\r\n       <use x=\"290.576172\" xlink:href=\"#DejaVuSans-48\"/>\r\n       <use x=\"354.199219\" xlink:href=\"#DejaVuSans-56\"/>\r\n      </g>\r\n     </g>\r\n    </g>\r\n    <g id=\"xtick_8\">\r\n     <g id=\"line2d_15\">\r\n      <path clip-path=\"url(#pd360a27ce2)\" d=\"M 683.070446 386.6 \r\nL 683.070446 7.2 \r\n\" style=\"fill:none;stroke:#808080;stroke-linecap:square;stroke-opacity:0.2;\"/>\r\n     </g>\r\n     <g id=\"line2d_16\">\r\n      <g>\r\n       <use style=\"stroke:#000000;stroke-width:0.8;\" x=\"683.070446\" xlink:href=\"#m8699ece7a4\" y=\"386.6\"/>\r\n      </g>\r\n     </g>\r\n     <g id=\"text_8\">\r\n      <!-- 2020-09 -->\r\n      <g transform=\"translate(662.179039 401.198437)scale(0.1 -0.1)\">\r\n       <defs>\r\n        <path d=\"M 10.984375 1.515625 \r\nL 10.984375 10.5 \r\nQ 14.703125 8.734375 18.5 7.8125 \r\nQ 22.3125 6.890625 25.984375 6.890625 \r\nQ 35.75 6.890625 40.890625 13.453125 \r\nQ 46.046875 20.015625 46.78125 33.40625 \r\nQ 43.953125 29.203125 39.59375 26.953125 \r\nQ 35.25 24.703125 29.984375 24.703125 \r\nQ 19.046875 24.703125 12.671875 31.3125 \r\nQ 6.296875 37.9375 6.296875 49.421875 \r\nQ 6.296875 60.640625 12.9375 67.421875 \r\nQ 19.578125 74.21875 30.609375 74.21875 \r\nQ 43.265625 74.21875 49.921875 64.515625 \r\nQ 56.59375 54.828125 56.59375 36.375 \r\nQ 56.59375 19.140625 48.40625 8.859375 \r\nQ 40.234375 -1.421875 26.421875 -1.421875 \r\nQ 22.703125 -1.421875 18.890625 -0.6875 \r\nQ 15.09375 0.046875 10.984375 1.515625 \r\nz\r\nM 30.609375 32.421875 \r\nQ 37.25 32.421875 41.125 36.953125 \r\nQ 45.015625 41.5 45.015625 49.421875 \r\nQ 45.015625 57.28125 41.125 61.84375 \r\nQ 37.25 66.40625 30.609375 66.40625 \r\nQ 23.96875 66.40625 20.09375 61.84375 \r\nQ 16.21875 57.28125 16.21875 49.421875 \r\nQ 16.21875 41.5 20.09375 36.953125 \r\nQ 23.96875 32.421875 30.609375 32.421875 \r\nz\r\n\" id=\"DejaVuSans-57\"/>\r\n       </defs>\r\n       <use xlink:href=\"#DejaVuSans-50\"/>\r\n       <use x=\"63.623047\" xlink:href=\"#DejaVuSans-48\"/>\r\n       <use x=\"127.246094\" xlink:href=\"#DejaVuSans-50\"/>\r\n       <use x=\"190.869141\" xlink:href=\"#DejaVuSans-48\"/>\r\n       <use x=\"254.492188\" xlink:href=\"#DejaVuSans-45\"/>\r\n       <use x=\"290.576172\" xlink:href=\"#DejaVuSans-48\"/>\r\n       <use x=\"354.199219\" xlink:href=\"#DejaVuSans-57\"/>\r\n      </g>\r\n     </g>\r\n    </g>\r\n    <g id=\"text_9\">\r\n     <!-- ds -->\r\n     <g transform=\"translate(370.66759 414.876562)scale(0.1 -0.1)\">\r\n      <defs>\r\n       <path d=\"M 45.40625 46.390625 \r\nL 45.40625 75.984375 \r\nL 54.390625 75.984375 \r\nL 54.390625 0 \r\nL 45.40625 0 \r\nL 45.40625 8.203125 \r\nQ 42.578125 3.328125 38.25 0.953125 \r\nQ 33.9375 -1.421875 27.875 -1.421875 \r\nQ 17.96875 -1.421875 11.734375 6.484375 \r\nQ 5.515625 14.40625 5.515625 27.296875 \r\nQ 5.515625 40.1875 11.734375 48.09375 \r\nQ 17.96875 56 27.875 56 \r\nQ 33.9375 56 38.25 53.625 \r\nQ 42.578125 51.265625 45.40625 46.390625 \r\nz\r\nM 14.796875 27.296875 \r\nQ 14.796875 17.390625 18.875 11.75 \r\nQ 22.953125 6.109375 30.078125 6.109375 \r\nQ 37.203125 6.109375 41.296875 11.75 \r\nQ 45.40625 17.390625 45.40625 27.296875 \r\nQ 45.40625 37.203125 41.296875 42.84375 \r\nQ 37.203125 48.484375 30.078125 48.484375 \r\nQ 22.953125 48.484375 18.875 42.84375 \r\nQ 14.796875 37.203125 14.796875 27.296875 \r\nz\r\n\" id=\"DejaVuSans-100\"/>\r\n       <path d=\"M 44.28125 53.078125 \r\nL 44.28125 44.578125 \r\nQ 40.484375 46.53125 36.375 47.5 \r\nQ 32.28125 48.484375 27.875 48.484375 \r\nQ 21.1875 48.484375 17.84375 46.4375 \r\nQ 14.5 44.390625 14.5 40.28125 \r\nQ 14.5 37.15625 16.890625 35.375 \r\nQ 19.28125 33.59375 26.515625 31.984375 \r\nL 29.59375 31.296875 \r\nQ 39.15625 29.25 43.1875 25.515625 \r\nQ 47.21875 21.78125 47.21875 15.09375 \r\nQ 47.21875 7.46875 41.1875 3.015625 \r\nQ 35.15625 -1.421875 24.609375 -1.421875 \r\nQ 20.21875 -1.421875 15.453125 -0.5625 \r\nQ 10.6875 0.296875 5.421875 2 \r\nL 5.421875 11.28125 \r\nQ 10.40625 8.6875 15.234375 7.390625 \r\nQ 20.0625 6.109375 24.8125 6.109375 \r\nQ 31.15625 6.109375 34.5625 8.28125 \r\nQ 37.984375 10.453125 37.984375 14.40625 \r\nQ 37.984375 18.0625 35.515625 20.015625 \r\nQ 33.0625 21.96875 24.703125 23.78125 \r\nL 21.578125 24.515625 \r\nQ 13.234375 26.265625 9.515625 29.90625 \r\nQ 5.8125 33.546875 5.8125 39.890625 \r\nQ 5.8125 47.609375 11.28125 51.796875 \r\nQ 16.75 56 26.8125 56 \r\nQ 31.78125 56 36.171875 55.265625 \r\nQ 40.578125 54.546875 44.28125 53.078125 \r\nz\r\n\" id=\"DejaVuSans-115\"/>\r\n      </defs>\r\n      <use xlink:href=\"#DejaVuSans-100\"/>\r\n      <use x=\"63.476562\" xlink:href=\"#DejaVuSans-115\"/>\r\n     </g>\r\n    </g>\r\n   </g>\r\n   <g id=\"matplotlib.axis_2\">\r\n    <g id=\"ytick_1\">\r\n     <g id=\"line2d_17\">\r\n      <path clip-path=\"url(#pd360a27ce2)\" d=\"M 59.690625 367.028261 \r\nL 693.202367 367.028261 \r\n\" style=\"fill:none;stroke:#808080;stroke-linecap:square;stroke-opacity:0.2;\"/>\r\n     </g>\r\n     <g id=\"line2d_18\">\r\n      <defs>\r\n       <path d=\"M 0 0 \r\nL -3.5 0 \r\n\" id=\"m4778e570c9\" style=\"stroke:#000000;stroke-width:0.8;\"/>\r\n      </defs>\r\n      <g>\r\n       <use style=\"stroke:#000000;stroke-width:0.8;\" x=\"59.690625\" xlink:href=\"#m4778e570c9\" y=\"367.028261\"/>\r\n      </g>\r\n     </g>\r\n     <g id=\"text_10\">\r\n      <!-- 0 -->\r\n      <g transform=\"translate(46.328125 370.82748)scale(0.1 -0.1)\">\r\n       <use xlink:href=\"#DejaVuSans-48\"/>\r\n      </g>\r\n     </g>\r\n    </g>\r\n    <g id=\"ytick_2\">\r\n     <g id=\"line2d_19\">\r\n      <path clip-path=\"url(#pd360a27ce2)\" d=\"M 59.690625 319.052886 \r\nL 693.202367 319.052886 \r\n\" style=\"fill:none;stroke:#808080;stroke-linecap:square;stroke-opacity:0.2;\"/>\r\n     </g>\r\n     <g id=\"line2d_20\">\r\n      <g>\r\n       <use style=\"stroke:#000000;stroke-width:0.8;\" x=\"59.690625\" xlink:href=\"#m4778e570c9\" y=\"319.052886\"/>\r\n      </g>\r\n     </g>\r\n     <g id=\"text_11\">\r\n      <!-- 2500 -->\r\n      <g transform=\"translate(27.240625 322.852105)scale(0.1 -0.1)\">\r\n       <use xlink:href=\"#DejaVuSans-50\"/>\r\n       <use x=\"63.623047\" xlink:href=\"#DejaVuSans-53\"/>\r\n       <use x=\"127.246094\" xlink:href=\"#DejaVuSans-48\"/>\r\n       <use x=\"190.869141\" xlink:href=\"#DejaVuSans-48\"/>\r\n      </g>\r\n     </g>\r\n    </g>\r\n    <g id=\"ytick_3\">\r\n     <g id=\"line2d_21\">\r\n      <path clip-path=\"url(#pd360a27ce2)\" d=\"M 59.690625 271.077512 \r\nL 693.202367 271.077512 \r\n\" style=\"fill:none;stroke:#808080;stroke-linecap:square;stroke-opacity:0.2;\"/>\r\n     </g>\r\n     <g id=\"line2d_22\">\r\n      <g>\r\n       <use style=\"stroke:#000000;stroke-width:0.8;\" x=\"59.690625\" xlink:href=\"#m4778e570c9\" y=\"271.077512\"/>\r\n      </g>\r\n     </g>\r\n     <g id=\"text_12\">\r\n      <!-- 5000 -->\r\n      <g transform=\"translate(27.240625 274.876731)scale(0.1 -0.1)\">\r\n       <use xlink:href=\"#DejaVuSans-53\"/>\r\n       <use x=\"63.623047\" xlink:href=\"#DejaVuSans-48\"/>\r\n       <use x=\"127.246094\" xlink:href=\"#DejaVuSans-48\"/>\r\n       <use x=\"190.869141\" xlink:href=\"#DejaVuSans-48\"/>\r\n      </g>\r\n     </g>\r\n    </g>\r\n    <g id=\"ytick_4\">\r\n     <g id=\"line2d_23\">\r\n      <path clip-path=\"url(#pd360a27ce2)\" d=\"M 59.690625 223.102138 \r\nL 693.202367 223.102138 \r\n\" style=\"fill:none;stroke:#808080;stroke-linecap:square;stroke-opacity:0.2;\"/>\r\n     </g>\r\n     <g id=\"line2d_24\">\r\n      <g>\r\n       <use style=\"stroke:#000000;stroke-width:0.8;\" x=\"59.690625\" xlink:href=\"#m4778e570c9\" y=\"223.102138\"/>\r\n      </g>\r\n     </g>\r\n     <g id=\"text_13\">\r\n      <!-- 7500 -->\r\n      <g transform=\"translate(27.240625 226.901356)scale(0.1 -0.1)\">\r\n       <use xlink:href=\"#DejaVuSans-55\"/>\r\n       <use x=\"63.623047\" xlink:href=\"#DejaVuSans-53\"/>\r\n       <use x=\"127.246094\" xlink:href=\"#DejaVuSans-48\"/>\r\n       <use x=\"190.869141\" xlink:href=\"#DejaVuSans-48\"/>\r\n      </g>\r\n     </g>\r\n    </g>\r\n    <g id=\"ytick_5\">\r\n     <g id=\"line2d_25\">\r\n      <path clip-path=\"url(#pd360a27ce2)\" d=\"M 59.690625 175.126763 \r\nL 693.202367 175.126763 \r\n\" style=\"fill:none;stroke:#808080;stroke-linecap:square;stroke-opacity:0.2;\"/>\r\n     </g>\r\n     <g id=\"line2d_26\">\r\n      <g>\r\n       <use style=\"stroke:#000000;stroke-width:0.8;\" x=\"59.690625\" xlink:href=\"#m4778e570c9\" y=\"175.126763\"/>\r\n      </g>\r\n     </g>\r\n     <g id=\"text_14\">\r\n      <!-- 10000 -->\r\n      <g transform=\"translate(20.878125 178.925982)scale(0.1 -0.1)\">\r\n       <defs>\r\n        <path d=\"M 12.40625 8.296875 \r\nL 28.515625 8.296875 \r\nL 28.515625 63.921875 \r\nL 10.984375 60.40625 \r\nL 10.984375 69.390625 \r\nL 28.421875 72.90625 \r\nL 38.28125 72.90625 \r\nL 38.28125 8.296875 \r\nL 54.390625 8.296875 \r\nL 54.390625 0 \r\nL 12.40625 0 \r\nz\r\n\" id=\"DejaVuSans-49\"/>\r\n       </defs>\r\n       <use xlink:href=\"#DejaVuSans-49\"/>\r\n       <use x=\"63.623047\" xlink:href=\"#DejaVuSans-48\"/>\r\n       <use x=\"127.246094\" xlink:href=\"#DejaVuSans-48\"/>\r\n       <use x=\"190.869141\" xlink:href=\"#DejaVuSans-48\"/>\r\n       <use x=\"254.492188\" xlink:href=\"#DejaVuSans-48\"/>\r\n      </g>\r\n     </g>\r\n    </g>\r\n    <g id=\"ytick_6\">\r\n     <g id=\"line2d_27\">\r\n      <path clip-path=\"url(#pd360a27ce2)\" d=\"M 59.690625 127.151389 \r\nL 693.202367 127.151389 \r\n\" style=\"fill:none;stroke:#808080;stroke-linecap:square;stroke-opacity:0.2;\"/>\r\n     </g>\r\n     <g id=\"line2d_28\">\r\n      <g>\r\n       <use style=\"stroke:#000000;stroke-width:0.8;\" x=\"59.690625\" xlink:href=\"#m4778e570c9\" y=\"127.151389\"/>\r\n      </g>\r\n     </g>\r\n     <g id=\"text_15\">\r\n      <!-- 12500 -->\r\n      <g transform=\"translate(20.878125 130.950608)scale(0.1 -0.1)\">\r\n       <use xlink:href=\"#DejaVuSans-49\"/>\r\n       <use x=\"63.623047\" xlink:href=\"#DejaVuSans-50\"/>\r\n       <use x=\"127.246094\" xlink:href=\"#DejaVuSans-53\"/>\r\n       <use x=\"190.869141\" xlink:href=\"#DejaVuSans-48\"/>\r\n       <use x=\"254.492188\" xlink:href=\"#DejaVuSans-48\"/>\r\n      </g>\r\n     </g>\r\n    </g>\r\n    <g id=\"ytick_7\">\r\n     <g id=\"line2d_29\">\r\n      <path clip-path=\"url(#pd360a27ce2)\" d=\"M 59.690625 79.176014 \r\nL 693.202367 79.176014 \r\n\" style=\"fill:none;stroke:#808080;stroke-linecap:square;stroke-opacity:0.2;\"/>\r\n     </g>\r\n     <g id=\"line2d_30\">\r\n      <g>\r\n       <use style=\"stroke:#000000;stroke-width:0.8;\" x=\"59.690625\" xlink:href=\"#m4778e570c9\" y=\"79.176014\"/>\r\n      </g>\r\n     </g>\r\n     <g id=\"text_16\">\r\n      <!-- 15000 -->\r\n      <g transform=\"translate(20.878125 82.975233)scale(0.1 -0.1)\">\r\n       <use xlink:href=\"#DejaVuSans-49\"/>\r\n       <use x=\"63.623047\" xlink:href=\"#DejaVuSans-53\"/>\r\n       <use x=\"127.246094\" xlink:href=\"#DejaVuSans-48\"/>\r\n       <use x=\"190.869141\" xlink:href=\"#DejaVuSans-48\"/>\r\n       <use x=\"254.492188\" xlink:href=\"#DejaVuSans-48\"/>\r\n      </g>\r\n     </g>\r\n    </g>\r\n    <g id=\"ytick_8\">\r\n     <g id=\"line2d_31\">\r\n      <path clip-path=\"url(#pd360a27ce2)\" d=\"M 59.690625 31.20064 \r\nL 693.202367 31.20064 \r\n\" style=\"fill:none;stroke:#808080;stroke-linecap:square;stroke-opacity:0.2;\"/>\r\n     </g>\r\n     <g id=\"line2d_32\">\r\n      <g>\r\n       <use style=\"stroke:#000000;stroke-width:0.8;\" x=\"59.690625\" xlink:href=\"#m4778e570c9\" y=\"31.20064\"/>\r\n      </g>\r\n     </g>\r\n     <g id=\"text_17\">\r\n      <!-- 17500 -->\r\n      <g transform=\"translate(20.878125 34.999859)scale(0.1 -0.1)\">\r\n       <use xlink:href=\"#DejaVuSans-49\"/>\r\n       <use x=\"63.623047\" xlink:href=\"#DejaVuSans-55\"/>\r\n       <use x=\"127.246094\" xlink:href=\"#DejaVuSans-53\"/>\r\n       <use x=\"190.869141\" xlink:href=\"#DejaVuSans-48\"/>\r\n       <use x=\"254.492188\" xlink:href=\"#DejaVuSans-48\"/>\r\n      </g>\r\n     </g>\r\n    </g>\r\n    <g id=\"text_18\">\r\n     <!-- y -->\r\n     <g transform=\"translate(14.798438 199.859375)rotate(-90)scale(0.1 -0.1)\">\r\n      <defs>\r\n       <path d=\"M 32.171875 -5.078125 \r\nQ 28.375 -14.84375 24.75 -17.8125 \r\nQ 21.140625 -20.796875 15.09375 -20.796875 \r\nL 7.90625 -20.796875 \r\nL 7.90625 -13.28125 \r\nL 13.1875 -13.28125 \r\nQ 16.890625 -13.28125 18.9375 -11.515625 \r\nQ 21 -9.765625 23.484375 -3.21875 \r\nL 25.09375 0.875 \r\nL 2.984375 54.6875 \r\nL 12.5 54.6875 \r\nL 29.59375 11.921875 \r\nL 46.6875 54.6875 \r\nL 56.203125 54.6875 \r\nz\r\n\" id=\"DejaVuSans-121\"/>\r\n      </defs>\r\n      <use xlink:href=\"#DejaVuSans-121\"/>\r\n     </g>\r\n    </g>\r\n   </g>\r\n   <g id=\"line2d_33\">\r\n    <defs>\r\n     <path d=\"M 0 1.5 \r\nC 0.397805 1.5 0.77937 1.341951 1.06066 1.06066 \r\nC 1.341951 0.77937 1.5 0.397805 1.5 0 \r\nC 1.5 -0.397805 1.341951 -0.77937 1.06066 -1.06066 \r\nC 0.77937 -1.341951 0.397805 -1.5 0 -1.5 \r\nC -0.397805 -1.5 -0.77937 -1.341951 -1.06066 -1.06066 \r\nC -1.341951 -0.77937 -1.5 -0.397805 -1.5 0 \r\nC -1.5 0.397805 -1.341951 0.77937 -1.06066 1.06066 \r\nC -0.77937 1.341951 -0.397805 1.5 0 1.5 \r\nz\r\n\" id=\"m8e1c589a52\" style=\"stroke:#000000;\"/>\r\n    </defs>\r\n    <g clip-path=\"url(#pd360a27ce2)\">\r\n     <use style=\"stroke:#000000;\" x=\"88.486613\" xlink:href=\"#m8e1c589a52\" y=\"367.009071\"/>\r\n     <use style=\"stroke:#000000;\" x=\"91.152909\" xlink:href=\"#m8e1c589a52\" y=\"367.009071\"/>\r\n     <use style=\"stroke:#000000;\" x=\"93.819204\" xlink:href=\"#m8e1c589a52\" y=\"366.989881\"/>\r\n     <use style=\"stroke:#000000;\" x=\"96.485499\" xlink:href=\"#m8e1c589a52\" y=\"366.989881\"/>\r\n     <use style=\"stroke:#000000;\" x=\"99.151794\" xlink:href=\"#m8e1c589a52\" y=\"366.97069\"/>\r\n     <use style=\"stroke:#000000;\" x=\"101.818089\" xlink:href=\"#m8e1c589a52\" y=\"366.9515\"/>\r\n     <use style=\"stroke:#000000;\" x=\"104.484385\" xlink:href=\"#m8e1c589a52\" y=\"366.9515\"/>\r\n     <use style=\"stroke:#000000;\" x=\"107.15068\" xlink:href=\"#m8e1c589a52\" y=\"366.9515\"/>\r\n     <use style=\"stroke:#000000;\" x=\"109.816975\" xlink:href=\"#m8e1c589a52\" y=\"366.9515\"/>\r\n     <use style=\"stroke:#000000;\" x=\"112.48327\" xlink:href=\"#m8e1c589a52\" y=\"366.817169\"/>\r\n     <use style=\"stroke:#000000;\" x=\"115.149565\" xlink:href=\"#m8e1c589a52\" y=\"366.797979\"/>\r\n     <use style=\"stroke:#000000;\" x=\"117.815861\" xlink:href=\"#m8e1c589a52\" y=\"366.740409\"/>\r\n     <use style=\"stroke:#000000;\" x=\"120.482156\" xlink:href=\"#m8e1c589a52\" y=\"366.740409\"/>\r\n     <use style=\"stroke:#000000;\" x=\"123.148451\" xlink:href=\"#m8e1c589a52\" y=\"366.721218\"/>\r\n     <use style=\"stroke:#000000;\" x=\"125.814746\" xlink:href=\"#m8e1c589a52\" y=\"366.663648\"/>\r\n     <use style=\"stroke:#000000;\" x=\"128.481041\" xlink:href=\"#m8e1c589a52\" y=\"366.586887\"/>\r\n     <use style=\"stroke:#000000;\" x=\"131.147337\" xlink:href=\"#m8e1c589a52\" y=\"366.567697\"/>\r\n     <use style=\"stroke:#000000;\" x=\"133.813632\" xlink:href=\"#m8e1c589a52\" y=\"366.567697\"/>\r\n     <use style=\"stroke:#000000;\" x=\"136.479927\" xlink:href=\"#m8e1c589a52\" y=\"366.548507\"/>\r\n     <use style=\"stroke:#000000;\" x=\"139.146222\" xlink:href=\"#m8e1c589a52\" y=\"366.510127\"/>\r\n     <use style=\"stroke:#000000;\" x=\"141.812518\" xlink:href=\"#m8e1c589a52\" y=\"366.490937\"/>\r\n     <use style=\"stroke:#000000;\" x=\"144.478813\" xlink:href=\"#m8e1c589a52\" y=\"366.490937\"/>\r\n     <use style=\"stroke:#000000;\" x=\"147.145108\" xlink:href=\"#m8e1c589a52\" y=\"366.490937\"/>\r\n     <use style=\"stroke:#000000;\" x=\"149.811403\" xlink:href=\"#m8e1c589a52\" y=\"366.490937\"/>\r\n     <use style=\"stroke:#000000;\" x=\"152.477698\" xlink:href=\"#m8e1c589a52\" y=\"366.490937\"/>\r\n     <use style=\"stroke:#000000;\" x=\"155.143994\" xlink:href=\"#m8e1c589a52\" y=\"366.471746\"/>\r\n     <use style=\"stroke:#000000;\" x=\"157.810289\" xlink:href=\"#m8e1c589a52\" y=\"366.452556\"/>\r\n     <use style=\"stroke:#000000;\" x=\"160.476584\" xlink:href=\"#m8e1c589a52\" y=\"366.433366\"/>\r\n     <use style=\"stroke:#000000;\" x=\"163.142879\" xlink:href=\"#m8e1c589a52\" y=\"366.433366\"/>\r\n     <use style=\"stroke:#000000;\" x=\"165.809174\" xlink:href=\"#m8e1c589a52\" y=\"365.032485\"/>\r\n     <use style=\"stroke:#000000;\" x=\"168.47547\" xlink:href=\"#m8e1c589a52\" y=\"363.11347\"/>\r\n     <use style=\"stroke:#000000;\" x=\"171.141765\" xlink:href=\"#m8e1c589a52\" y=\"358.718926\"/>\r\n     <use style=\"stroke:#000000;\" x=\"173.80806\" xlink:href=\"#m8e1c589a52\" y=\"355.475791\"/>\r\n     <use style=\"stroke:#000000;\" x=\"176.474355\" xlink:href=\"#m8e1c589a52\" y=\"351.042866\"/>\r\n     <use style=\"stroke:#000000;\" x=\"179.140651\" xlink:href=\"#m8e1c589a52\" y=\"348.279484\"/>\r\n     <use style=\"stroke:#000000;\" x=\"181.806946\" xlink:href=\"#m8e1c589a52\" y=\"342.829482\"/>\r\n     <use style=\"stroke:#000000;\" x=\"184.473241\" xlink:href=\"#m8e1c589a52\" y=\"333.138456\"/>\r\n     <use style=\"stroke:#000000;\" x=\"187.139536\" xlink:href=\"#m8e1c589a52\" y=\"322.180881\"/>\r\n     <use style=\"stroke:#000000;\" x=\"189.805831\" xlink:href=\"#m8e1c589a52\" y=\"306.579289\"/>\r\n     <use style=\"stroke:#000000;\" x=\"192.472127\" xlink:href=\"#m8e1c589a52\" y=\"295.333861\"/>\r\n     <use style=\"stroke:#000000;\" x=\"195.138422\" xlink:href=\"#m8e1c589a52\" y=\"283.838962\"/>\r\n     <use style=\"stroke:#000000;\" x=\"197.804717\" xlink:href=\"#m8e1c589a52\" y=\"267.508144\"/>\r\n     <use style=\"stroke:#000000;\" x=\"200.471012\" xlink:href=\"#m8e1c589a52\" y=\"259.160429\"/>\r\n     <use style=\"stroke:#000000;\" x=\"203.137307\" xlink:href=\"#m8e1c589a52\" y=\"250.198629\"/>\r\n     <use style=\"stroke:#000000;\" x=\"205.803603\" xlink:href=\"#m8e1c589a52\" y=\"240.507603\"/>\r\n     <use style=\"stroke:#000000;\" x=\"208.469898\" xlink:href=\"#m8e1c589a52\" y=\"231.910416\"/>\r\n     <use style=\"stroke:#000000;\" x=\"211.136193\" xlink:href=\"#m8e1c589a52\" y=\"226.671505\"/>\r\n     <use style=\"stroke:#000000;\" x=\"213.802488\" xlink:href=\"#m8e1c589a52\" y=\"223.524321\"/>\r\n     <use style=\"stroke:#000000;\" x=\"216.468783\" xlink:href=\"#m8e1c589a52\" y=\"222.852666\"/>\r\n     <use style=\"stroke:#000000;\" x=\"219.135079\" xlink:href=\"#m8e1c589a52\" y=\"218.208649\"/>\r\n     <use style=\"stroke:#000000;\" x=\"221.801374\" xlink:href=\"#m8e1c589a52\" y=\"216.020972\"/>\r\n     <use style=\"stroke:#000000;\" x=\"224.467669\" xlink:href=\"#m8e1c589a52\" y=\"213.910056\"/>\r\n     <use style=\"stroke:#000000;\" x=\"227.133964\" xlink:href=\"#m8e1c589a52\" y=\"211.85671\"/>\r\n     <use style=\"stroke:#000000;\" x=\"229.80026\" xlink:href=\"#m8e1c589a52\" y=\"210.398258\"/>\r\n     <use style=\"stroke:#000000;\" x=\"232.466555\" xlink:href=\"#m8e1c589a52\" y=\"208.978187\"/>\r\n     <use style=\"stroke:#000000;\" x=\"235.13285\" xlink:href=\"#m8e1c589a52\" y=\"207.366215\"/>\r\n     <use style=\"stroke:#000000;\" x=\"237.799145\" xlink:href=\"#m8e1c589a52\" y=\"205.581531\"/>\r\n     <use style=\"stroke:#000000;\" x=\"240.46544\" xlink:href=\"#m8e1c589a52\" y=\"202.664628\"/>\r\n     <use style=\"stroke:#000000;\" x=\"243.131736\" xlink:href=\"#m8e1c589a52\" y=\"200.995085\"/>\r\n     <use style=\"stroke:#000000;\" x=\"245.798031\" xlink:href=\"#m8e1c589a52\" y=\"198.174133\"/>\r\n     <use style=\"stroke:#000000;\" x=\"248.464326\" xlink:href=\"#m8e1c589a52\" y=\"195.065329\"/>\r\n     <use style=\"stroke:#000000;\" x=\"251.130621\" xlink:href=\"#m8e1c589a52\" y=\"195.065329\"/>\r\n     <use style=\"stroke:#000000;\" x=\"253.796916\" xlink:href=\"#m8e1c589a52\" y=\"193.606877\"/>\r\n     <use style=\"stroke:#000000;\" x=\"256.463212\" xlink:href=\"#m8e1c589a52\" y=\"191.687862\"/>\r\n     <use style=\"stroke:#000000;\" x=\"259.129507\" xlink:href=\"#m8e1c589a52\" y=\"189.692087\"/>\r\n     <use style=\"stroke:#000000;\" x=\"261.795802\" xlink:href=\"#m8e1c589a52\" y=\"187.945783\"/>\r\n     <use style=\"stroke:#000000;\" x=\"264.462097\" xlink:href=\"#m8e1c589a52\" y=\"185.144021\"/>\r\n     <use style=\"stroke:#000000;\" x=\"267.128393\" xlink:href=\"#m8e1c589a52\" y=\"183.129056\"/>\r\n     <use style=\"stroke:#000000;\" x=\"269.794688\" xlink:href=\"#m8e1c589a52\" y=\"181.632224\"/>\r\n     <use style=\"stroke:#000000;\" x=\"272.460983\" xlink:href=\"#m8e1c589a52\" y=\"179.233455\"/>\r\n     <use style=\"stroke:#000000;\" x=\"275.127278\" xlink:href=\"#m8e1c589a52\" y=\"177.29525\"/>\r\n     <use style=\"stroke:#000000;\" x=\"277.793573\" xlink:href=\"#m8e1c589a52\" y=\"175.587327\"/>\r\n     <use style=\"stroke:#000000;\" x=\"280.459869\" xlink:href=\"#m8e1c589a52\" y=\"173.936974\"/>\r\n     <use style=\"stroke:#000000;\" x=\"283.126164\" xlink:href=\"#m8e1c589a52\" y=\"172.1331\"/>\r\n     <use style=\"stroke:#000000;\" x=\"285.792459\" xlink:href=\"#m8e1c589a52\" y=\"170.578698\"/>\r\n     <use style=\"stroke:#000000;\" x=\"288.458754\" xlink:href=\"#m8e1c589a52\" y=\"169.676761\"/>\r\n     <use style=\"stroke:#000000;\" x=\"291.125049\" xlink:href=\"#m8e1c589a52\" y=\"168.774824\"/>\r\n     <use style=\"stroke:#000000;\" x=\"293.791345\" xlink:href=\"#m8e1c589a52\" y=\"167.757746\"/>\r\n     <use style=\"stroke:#000000;\" x=\"296.45764\" xlink:href=\"#m8e1c589a52\" y=\"167.00933\"/>\r\n     <use style=\"stroke:#000000;\" x=\"299.123935\" xlink:href=\"#m8e1c589a52\" y=\"166.491196\"/>\r\n     <use style=\"stroke:#000000;\" x=\"301.79023\" xlink:href=\"#m8e1c589a52\" y=\"165.915491\"/>\r\n     <use style=\"stroke:#000000;\" x=\"304.456525\" xlink:href=\"#m8e1c589a52\" y=\"165.301407\"/>\r\n     <use style=\"stroke:#000000;\" x=\"307.122821\" xlink:href=\"#m8e1c589a52\" y=\"164.821653\"/>\r\n     <use style=\"stroke:#000000;\" x=\"309.789116\" xlink:href=\"#m8e1c589a52\" y=\"164.303519\"/>\r\n     <use style=\"stroke:#000000;\" x=\"312.455411\" xlink:href=\"#m8e1c589a52\" y=\"163.785385\"/>\r\n     <use style=\"stroke:#000000;\" x=\"315.121706\" xlink:href=\"#m8e1c589a52\" y=\"163.363201\"/>\r\n     <use style=\"stroke:#000000;\" x=\"317.788002\" xlink:href=\"#m8e1c589a52\" y=\"162.941018\"/>\r\n     <use style=\"stroke:#000000;\" x=\"320.454297\" xlink:href=\"#m8e1c589a52\" y=\"162.595595\"/>\r\n     <use style=\"stroke:#000000;\" x=\"323.120592\" xlink:href=\"#m8e1c589a52\" y=\"162.442074\"/>\r\n     <use style=\"stroke:#000000;\" x=\"325.786887\" xlink:href=\"#m8e1c589a52\" y=\"162.192602\"/>\r\n     <use style=\"stroke:#000000;\" x=\"328.453182\" xlink:href=\"#m8e1c589a52\" y=\"162.019891\"/>\r\n     <use style=\"stroke:#000000;\" x=\"331.119478\" xlink:href=\"#m8e1c589a52\" y=\"161.808799\"/>\r\n     <use style=\"stroke:#000000;\" x=\"333.785773\" xlink:href=\"#m8e1c589a52\" y=\"161.540137\"/>\r\n     <use style=\"stroke:#000000;\" x=\"336.452068\" xlink:href=\"#m8e1c589a52\" y=\"161.348236\"/>\r\n     <use style=\"stroke:#000000;\" x=\"339.118363\" xlink:href=\"#m8e1c589a52\" y=\"161.156334\"/>\r\n     <use style=\"stroke:#000000;\" x=\"341.784658\" xlink:href=\"#m8e1c589a52\" y=\"160.964433\"/>\r\n     <use style=\"stroke:#000000;\" x=\"344.450954\" xlink:href=\"#m8e1c589a52\" y=\"160.695771\"/>\r\n     <use style=\"stroke:#000000;\" x=\"347.117249\" xlink:href=\"#m8e1c589a52\" y=\"160.523059\"/>\r\n     <use style=\"stroke:#000000;\" x=\"349.783544\" xlink:href=\"#m8e1c589a52\" y=\"160.446299\"/>\r\n     <use style=\"stroke:#000000;\" x=\"352.449839\" xlink:href=\"#m8e1c589a52\" y=\"160.273587\"/>\r\n     <use style=\"stroke:#000000;\" x=\"355.116135\" xlink:href=\"#m8e1c589a52\" y=\"160.158446\"/>\r\n     <use style=\"stroke:#000000;\" x=\"357.78243\" xlink:href=\"#m8e1c589a52\" y=\"159.908974\"/>\r\n     <use style=\"stroke:#000000;\" x=\"360.448725\" xlink:href=\"#m8e1c589a52\" y=\"159.755453\"/>\r\n     <use style=\"stroke:#000000;\" x=\"363.11502\" xlink:href=\"#m8e1c589a52\" y=\"159.697883\"/>\r\n     <use style=\"stroke:#000000;\" x=\"365.781315\" xlink:href=\"#m8e1c589a52\" y=\"159.659502\"/>\r\n     <use style=\"stroke:#000000;\" x=\"368.447611\" xlink:href=\"#m8e1c589a52\" y=\"159.582742\"/>\r\n     <use style=\"stroke:#000000;\" x=\"371.113906\" xlink:href=\"#m8e1c589a52\" y=\"159.35246\"/>\r\n     <use style=\"stroke:#000000;\" x=\"373.780201\" xlink:href=\"#m8e1c589a52\" y=\"159.007037\"/>\r\n     <use style=\"stroke:#000000;\" x=\"376.446496\" xlink:href=\"#m8e1c589a52\" y=\"158.354572\"/>\r\n     <use style=\"stroke:#000000;\" x=\"379.112791\" xlink:href=\"#m8e1c589a52\" y=\"157.682917\"/>\r\n     <use style=\"stroke:#000000;\" x=\"381.779087\" xlink:href=\"#m8e1c589a52\" y=\"157.164783\"/>\r\n     <use style=\"stroke:#000000;\" x=\"384.445382\" xlink:href=\"#m8e1c589a52\" y=\"156.665839\"/>\r\n     <use style=\"stroke:#000000;\" x=\"387.111677\" xlink:href=\"#m8e1c589a52\" y=\"156.109325\"/>\r\n     <use style=\"stroke:#000000;\" x=\"389.777972\" xlink:href=\"#m8e1c589a52\" y=\"155.591191\"/>\r\n     <use style=\"stroke:#000000;\" x=\"392.444267\" xlink:href=\"#m8e1c589a52\" y=\"155.226578\"/>\r\n     <use style=\"stroke:#000000;\" x=\"395.110563\" xlink:href=\"#m8e1c589a52\" y=\"154.977106\"/>\r\n     <use style=\"stroke:#000000;\" x=\"397.776858\" xlink:href=\"#m8e1c589a52\" y=\"154.689254\"/>\r\n     <use style=\"stroke:#000000;\" x=\"400.443153\" xlink:href=\"#m8e1c589a52\" y=\"154.439782\"/>\r\n     <use style=\"stroke:#000000;\" x=\"403.109448\" xlink:href=\"#m8e1c589a52\" y=\"153.825697\"/>\r\n     <use style=\"stroke:#000000;\" x=\"405.775744\" xlink:href=\"#m8e1c589a52\" y=\"153.595415\"/>\r\n     <use style=\"stroke:#000000;\" x=\"408.442039\" xlink:href=\"#m8e1c589a52\" y=\"153.211612\"/>\r\n     <use style=\"stroke:#000000;\" x=\"411.108334\" xlink:href=\"#m8e1c589a52\" y=\"152.770239\"/>\r\n     <use style=\"stroke:#000000;\" x=\"413.774629\" xlink:href=\"#m8e1c589a52\" y=\"152.290485\"/>\r\n     <use style=\"stroke:#000000;\" x=\"416.440924\" xlink:href=\"#m8e1c589a52\" y=\"151.983443\"/>\r\n     <use style=\"stroke:#000000;\" x=\"419.10722\" xlink:href=\"#m8e1c589a52\" y=\"151.61883\"/>\r\n     <use style=\"stroke:#000000;\" x=\"421.773515\" xlink:href=\"#m8e1c589a52\" y=\"150.851224\"/>\r\n     <use style=\"stroke:#000000;\" x=\"424.43981\" xlink:href=\"#m8e1c589a52\" y=\"149.335202\"/>\r\n     <use style=\"stroke:#000000;\" x=\"427.106105\" xlink:href=\"#m8e1c589a52\" y=\"148.222173\"/>\r\n     <use style=\"stroke:#000000;\" x=\"429.7724\" xlink:href=\"#m8e1c589a52\" y=\"147.473757\"/>\r\n     <use style=\"stroke:#000000;\" x=\"432.438696\" xlink:href=\"#m8e1c589a52\" y=\"146.955623\"/>\r\n     <use style=\"stroke:#000000;\" x=\"435.104991\" xlink:href=\"#m8e1c589a52\" y=\"146.283968\"/>\r\n     <use style=\"stroke:#000000;\" x=\"437.771286\" xlink:href=\"#m8e1c589a52\" y=\"145.554742\"/>\r\n     <use style=\"stroke:#000000;\" x=\"440.437581\" xlink:href=\"#m8e1c589a52\" y=\"144.614425\"/>\r\n     <use style=\"stroke:#000000;\" x=\"443.103877\" xlink:href=\"#m8e1c589a52\" y=\"143.866009\"/>\r\n     <use style=\"stroke:#000000;\" x=\"445.770172\" xlink:href=\"#m8e1c589a52\" y=\"143.117593\"/>\r\n     <use style=\"stroke:#000000;\" x=\"448.436467\" xlink:href=\"#m8e1c589a52\" y=\"142.138896\"/>\r\n     <use style=\"stroke:#000000;\" x=\"451.102762\" xlink:href=\"#m8e1c589a52\" y=\"141.045057\"/>\r\n     <use style=\"stroke:#000000;\" x=\"453.769057\" xlink:href=\"#m8e1c589a52\" y=\"140.315832\"/>\r\n     <use style=\"stroke:#000000;\" x=\"456.435353\" xlink:href=\"#m8e1c589a52\" y=\"139.586606\"/>\r\n     <use style=\"stroke:#000000;\" x=\"459.101648\" xlink:href=\"#m8e1c589a52\" y=\"138.627098\"/>\r\n     <use style=\"stroke:#000000;\" x=\"461.767943\" xlink:href=\"#m8e1c589a52\" y=\"137.763542\"/>\r\n     <use style=\"stroke:#000000;\" x=\"464.434238\" xlink:href=\"#m8e1c589a52\" y=\"136.688893\"/>\r\n     <use style=\"stroke:#000000;\" x=\"467.100533\" xlink:href=\"#m8e1c589a52\" y=\"135.767766\"/>\r\n     <use style=\"stroke:#000000;\" x=\"469.766829\" xlink:href=\"#m8e1c589a52\" y=\"135.115301\"/>\r\n     <use style=\"stroke:#000000;\" x=\"472.433124\" xlink:href=\"#m8e1c589a52\" y=\"134.424456\"/>\r\n     <use style=\"stroke:#000000;\" x=\"475.099419\" xlink:href=\"#m8e1c589a52\" y=\"133.77199\"/>\r\n     <use style=\"stroke:#000000;\" x=\"477.765714\" xlink:href=\"#m8e1c589a52\" y=\"132.946814\"/>\r\n     <use style=\"stroke:#000000;\" x=\"480.432009\" xlink:href=\"#m8e1c589a52\" y=\"131.814595\"/>\r\n     <use style=\"stroke:#000000;\" x=\"483.098305\" xlink:href=\"#m8e1c589a52\" y=\"130.874278\"/>\r\n     <use style=\"stroke:#000000;\" x=\"485.7646\" xlink:href=\"#m8e1c589a52\" y=\"129.588538\"/>\r\n     <use style=\"stroke:#000000;\" x=\"488.430895\" xlink:href=\"#m8e1c589a52\" y=\"128.667411\"/>\r\n     <use style=\"stroke:#000000;\" x=\"491.09719\" xlink:href=\"#m8e1c589a52\" y=\"128.341178\"/>\r\n     <use style=\"stroke:#000000;\" x=\"493.763486\" xlink:href=\"#m8e1c589a52\" y=\"127.458431\"/>\r\n     <use style=\"stroke:#000000;\" x=\"496.429781\" xlink:href=\"#m8e1c589a52\" y=\"126.479734\"/>\r\n     <use style=\"stroke:#000000;\" x=\"499.096076\" xlink:href=\"#m8e1c589a52\" y=\"125.942409\"/>\r\n     <use style=\"stroke:#000000;\" x=\"501.762371\" xlink:href=\"#m8e1c589a52\" y=\"125.193994\"/>\r\n     <use style=\"stroke:#000000;\" x=\"504.428666\" xlink:href=\"#m8e1c589a52\" y=\"124.215296\"/>\r\n     <use style=\"stroke:#000000;\" x=\"507.094962\" xlink:href=\"#m8e1c589a52\" y=\"123.025507\"/>\r\n     <use style=\"stroke:#000000;\" x=\"509.761257\" xlink:href=\"#m8e1c589a52\" y=\"122.21952\"/>\r\n     <use style=\"stroke:#000000;\" x=\"512.427552\" xlink:href=\"#m8e1c589a52\" y=\"121.394344\"/>\r\n     <use style=\"stroke:#000000;\" x=\"515.093847\" xlink:href=\"#m8e1c589a52\" y=\"120.434836\"/>\r\n     <use style=\"stroke:#000000;\" x=\"517.760142\" xlink:href=\"#m8e1c589a52\" y=\"119.398568\"/>\r\n     <use style=\"stroke:#000000;\" x=\"520.426438\" xlink:href=\"#m8e1c589a52\" y=\"118.189589\"/>\r\n     <use style=\"stroke:#000000;\" x=\"523.092733\" xlink:href=\"#m8e1c589a52\" y=\"116.980609\"/>\r\n     <use style=\"stroke:#000000;\" x=\"525.759028\" xlink:href=\"#m8e1c589a52\" y=\"115.81001\"/>\r\n     <use style=\"stroke:#000000;\" x=\"528.425323\" xlink:href=\"#m8e1c589a52\" y=\"114.927263\"/>\r\n     <use style=\"stroke:#000000;\" x=\"531.091619\" xlink:href=\"#m8e1c589a52\" y=\"114.082897\"/>\r\n     <use style=\"stroke:#000000;\" x=\"533.757914\" xlink:href=\"#m8e1c589a52\" y=\"112.873917\"/>\r\n     <use style=\"stroke:#000000;\" x=\"536.424209\" xlink:href=\"#m8e1c589a52\" y=\"111.9336\"/>\r\n     <use style=\"stroke:#000000;\" x=\"539.090504\" xlink:href=\"#m8e1c589a52\" y=\"111.070043\"/>\r\n     <use style=\"stroke:#000000;\" x=\"541.756799\" xlink:href=\"#m8e1c589a52\" y=\"110.398388\"/>\r\n     <use style=\"stroke:#000000;\" x=\"544.423095\" xlink:href=\"#m8e1c589a52\" y=\"109.554021\"/>\r\n     <use style=\"stroke:#000000;\" x=\"547.08939\" xlink:href=\"#m8e1c589a52\" y=\"108.364232\"/>\r\n     <use style=\"stroke:#000000;\" x=\"549.755685\" xlink:href=\"#m8e1c589a52\" y=\"107.730957\"/>\r\n     <use style=\"stroke:#000000;\" x=\"552.42198\" xlink:href=\"#m8e1c589a52\" y=\"106.982541\"/>\r\n     <use style=\"stroke:#000000;\" x=\"555.088275\" xlink:href=\"#m8e1c589a52\" y=\"105.811942\"/>\r\n     <use style=\"stroke:#000000;\" x=\"557.754571\" xlink:href=\"#m8e1c589a52\" y=\"104.660533\"/>\r\n     <use style=\"stroke:#000000;\" x=\"560.420866\" xlink:href=\"#m8e1c589a52\" y=\"103.912117\"/>\r\n     <use style=\"stroke:#000000;\" x=\"563.087161\" xlink:href=\"#m8e1c589a52\" y=\"103.259652\"/>\r\n     <use style=\"stroke:#000000;\" x=\"565.753456\" xlink:href=\"#m8e1c589a52\" y=\"102.760708\"/>\r\n     <use style=\"stroke:#000000;\" x=\"568.419751\" xlink:href=\"#m8e1c589a52\" y=\"101.897152\"/>\r\n     <use style=\"stroke:#000000;\" x=\"571.086047\" xlink:href=\"#m8e1c589a52\" y=\"100.688172\"/>\r\n     <use style=\"stroke:#000000;\" x=\"573.752342\" xlink:href=\"#m8e1c589a52\" y=\"99.555953\"/>\r\n     <use style=\"stroke:#000000;\" x=\"576.418637\" xlink:href=\"#m8e1c589a52\" y=\"98.769157\"/>\r\n     <use style=\"stroke:#000000;\" x=\"579.084932\" xlink:href=\"#m8e1c589a52\" y=\"96.60067\"/>\r\n     <use style=\"stroke:#000000;\" x=\"581.751228\" xlink:href=\"#m8e1c589a52\" y=\"95.487642\"/>\r\n     <use style=\"stroke:#000000;\" x=\"584.417523\" xlink:href=\"#m8e1c589a52\" y=\"95.007888\"/>\r\n     <use style=\"stroke:#000000;\" x=\"587.083818\" xlink:href=\"#m8e1c589a52\" y=\"94.470564\"/>\r\n     <use style=\"stroke:#000000;\" x=\"589.750113\" xlink:href=\"#m8e1c589a52\" y=\"93.549437\"/>\r\n     <use style=\"stroke:#000000;\" x=\"592.416408\" xlink:href=\"#m8e1c589a52\" y=\"93.204014\"/>\r\n     <use style=\"stroke:#000000;\" x=\"595.082704\" xlink:href=\"#m8e1c589a52\" y=\"92.513168\"/>\r\n     <use style=\"stroke:#000000;\" x=\"597.748999\" xlink:href=\"#m8e1c589a52\" y=\"91.918274\"/>\r\n     <use style=\"stroke:#000000;\" x=\"600.415294\" xlink:href=\"#m8e1c589a52\" y=\"91.342569\"/>\r\n     <use style=\"stroke:#000000;\" x=\"603.081589\" xlink:href=\"#m8e1c589a52\" y=\"90.901196\"/>\r\n     <use style=\"stroke:#000000;\" x=\"605.747884\" xlink:href=\"#m8e1c589a52\" y=\"90.248731\"/>\r\n     <use style=\"stroke:#000000;\" x=\"608.41418\" xlink:href=\"#m8e1c589a52\" y=\"89.615456\"/>\r\n     <use style=\"stroke:#000000;\" x=\"611.080475\" xlink:href=\"#m8e1c589a52\" y=\"88.790279\"/>\r\n     <use style=\"stroke:#000000;\" x=\"613.74677\" xlink:href=\"#m8e1c589a52\" y=\"88.406476\"/>\r\n     <use style=\"stroke:#000000;\" x=\"616.413065\" xlink:href=\"#m8e1c589a52\" y=\"87.5813\"/>\r\n     <use style=\"stroke:#000000;\" x=\"619.079361\" xlink:href=\"#m8e1c589a52\" y=\"86.890455\"/>\r\n     <use style=\"stroke:#000000;\" x=\"621.745656\" xlink:href=\"#m8e1c589a52\" y=\"86.35313\"/>\r\n     <use style=\"stroke:#000000;\" x=\"624.411951\" xlink:href=\"#m8e1c589a52\" y=\"85.700665\"/>\r\n     <use style=\"stroke:#000000;\" x=\"627.078246\" xlink:href=\"#m8e1c589a52\" y=\"84.664397\"/>\r\n     <use style=\"stroke:#000000;\" x=\"629.744541\" xlink:href=\"#m8e1c589a52\" y=\"83.589749\"/>\r\n     <use style=\"stroke:#000000;\" x=\"632.410837\" xlink:href=\"#m8e1c589a52\" y=\"81.613163\"/>\r\n     <use style=\"stroke:#000000;\" x=\"635.077132\" xlink:href=\"#m8e1c589a52\" y=\"78.427599\"/>\r\n     <use style=\"stroke:#000000;\" x=\"637.743427\" xlink:href=\"#m8e1c589a52\" y=\"73.073547\"/>\r\n     <use style=\"stroke:#000000;\" x=\"640.409722\" xlink:href=\"#m8e1c589a52\" y=\"69.293087\"/>\r\n     <use style=\"stroke:#000000;\" x=\"643.076017\" xlink:href=\"#m8e1c589a52\" y=\"64.57231\"/>\r\n     <use style=\"stroke:#000000;\" x=\"645.742313\" xlink:href=\"#m8e1c589a52\" y=\"58.872836\"/>\r\n    </g>\r\n   </g>\r\n   <g id=\"line2d_34\">\r\n    <path clip-path=\"url(#pd360a27ce2)\" d=\"M 88.486613 366.959359 \r\nL 141.812518 366.828426 \r\nL 152.477698 366.888263 \r\nL 176.474355 360.529015 \r\nL 197.804717 268.13762 \r\nL 219.135079 213.590173 \r\nL 240.46544 203.589367 \r\nL 267.128393 183.378609 \r\nL 283.126164 171.536006 \r\nL 307.122821 164.270926 \r\nL 331.119478 161.782449 \r\nL 371.113906 158.946487 \r\nL 413.774629 152.402832 \r\nL 440.437581 144.642411 \r\nL 501.762371 124.863857 \r\nL 555.088275 105.787855 \r\nL 589.750113 93.667989 \r\nL 611.080475 89.250532 \r\nL 632.410837 82.263597 \r\nL 664.406379 29.225768 \r\nL 664.406379 29.225768 \r\n\" style=\"fill:none;stroke:#0072b2;stroke-linecap:square;stroke-width:1.5;\"/>\r\n   </g>\r\n   <g id=\"line2d_35\">\r\n    <path clip-path=\"url(#pd360a27ce2)\" d=\"M 88.486613 366.984962 \r\nL 141.812518 366.854029 \r\nL 152.477698 366.913866 \r\nL 176.474355 360.554617 \r\nL 197.804717 268.163223 \r\nL 219.135079 213.615776 \r\nL 240.46544 203.61497 \r\nL 267.128393 183.404211 \r\nL 283.126164 171.561608 \r\nL 307.122821 164.296528 \r\nL 331.119478 161.808052 \r\nL 371.113906 158.972089 \r\nL 413.774629 152.428434 \r\nL 440.437581 144.668013 \r\nL 501.762371 124.889459 \r\nL 555.088275 105.813458 \r\nL 589.750113 93.693591 \r\nL 611.080475 89.276135 \r\nL 632.410837 82.2892 \r\nL 664.406379 29.251371 \r\nL 664.406379 29.251371 \r\n\" style=\"fill:none;stroke:#ff0000;stroke-linecap:square;stroke-width:1.5;\"/>\r\n   </g>\r\n   <g id=\"line2d_36\">\r\n    <path clip-path=\"url(#pd360a27ce2)\" d=\"M 131.147337 386.6 \r\nL 131.147337 7.2 \r\n\" style=\"fill:none;stroke:#ff0000;stroke-dasharray:5.55,2.4;stroke-dashoffset:0;stroke-width:1.5;\"/>\r\n   </g>\r\n   <g id=\"line2d_37\">\r\n    <path clip-path=\"url(#pd360a27ce2)\" d=\"M 152.477698 386.6 \r\nL 152.477698 7.2 \r\n\" style=\"fill:none;stroke:#ff0000;stroke-dasharray:5.55,2.4;stroke-dashoffset:0;stroke-width:1.5;\"/>\r\n   </g>\r\n   <g id=\"line2d_38\">\r\n    <path clip-path=\"url(#pd360a27ce2)\" d=\"M 176.474355 386.6 \r\nL 176.474355 7.2 \r\n\" style=\"fill:none;stroke:#ff0000;stroke-dasharray:5.55,2.4;stroke-dashoffset:0;stroke-width:1.5;\"/>\r\n   </g>\r\n   <g id=\"line2d_39\">\r\n    <path clip-path=\"url(#pd360a27ce2)\" d=\"M 197.804717 386.6 \r\nL 197.804717 7.2 \r\n\" style=\"fill:none;stroke:#ff0000;stroke-dasharray:5.55,2.4;stroke-dashoffset:0;stroke-width:1.5;\"/>\r\n   </g>\r\n   <g id=\"line2d_40\">\r\n    <path clip-path=\"url(#pd360a27ce2)\" d=\"M 219.135079 386.6 \r\nL 219.135079 7.2 \r\n\" style=\"fill:none;stroke:#ff0000;stroke-dasharray:5.55,2.4;stroke-dashoffset:0;stroke-width:1.5;\"/>\r\n   </g>\r\n   <g id=\"line2d_41\">\r\n    <path clip-path=\"url(#pd360a27ce2)\" d=\"M 240.46544 386.6 \r\nL 240.46544 7.2 \r\n\" style=\"fill:none;stroke:#ff0000;stroke-dasharray:5.55,2.4;stroke-dashoffset:0;stroke-width:1.5;\"/>\r\n   </g>\r\n   <g id=\"line2d_42\">\r\n    <path clip-path=\"url(#pd360a27ce2)\" d=\"M 261.795802 386.6 \r\nL 261.795802 7.2 \r\n\" style=\"fill:none;stroke:#ff0000;stroke-dasharray:5.55,2.4;stroke-dashoffset:0;stroke-width:1.5;\"/>\r\n   </g>\r\n   <g id=\"line2d_43\">\r\n    <path clip-path=\"url(#pd360a27ce2)\" d=\"M 283.126164 386.6 \r\nL 283.126164 7.2 \r\n\" style=\"fill:none;stroke:#ff0000;stroke-dasharray:5.55,2.4;stroke-dashoffset:0;stroke-width:1.5;\"/>\r\n   </g>\r\n   <g id=\"line2d_44\">\r\n    <path clip-path=\"url(#pd360a27ce2)\" d=\"M 307.122821 386.6 \r\nL 307.122821 7.2 \r\n\" style=\"fill:none;stroke:#ff0000;stroke-dasharray:5.55,2.4;stroke-dashoffset:0;stroke-width:1.5;\"/>\r\n   </g>\r\n   <g id=\"line2d_45\">\r\n    <path clip-path=\"url(#pd360a27ce2)\" d=\"M 328.453182 386.6 \r\nL 328.453182 7.2 \r\n\" style=\"fill:none;stroke:#ff0000;stroke-dasharray:5.55,2.4;stroke-dashoffset:0;stroke-width:1.5;\"/>\r\n   </g>\r\n   <g id=\"line2d_46\">\r\n    <path clip-path=\"url(#pd360a27ce2)\" d=\"M 371.113906 386.6 \r\nL 371.113906 7.2 \r\n\" style=\"fill:none;stroke:#ff0000;stroke-dasharray:5.55,2.4;stroke-dashoffset:0;stroke-width:1.5;\"/>\r\n   </g>\r\n   <g id=\"line2d_47\">\r\n    <path clip-path=\"url(#pd360a27ce2)\" d=\"M 413.774629 386.6 \r\nL 413.774629 7.2 \r\n\" style=\"fill:none;stroke:#ff0000;stroke-dasharray:5.55,2.4;stroke-dashoffset:0;stroke-width:1.5;\"/>\r\n   </g>\r\n   <g id=\"line2d_48\">\r\n    <path clip-path=\"url(#pd360a27ce2)\" d=\"M 437.771286 386.6 \r\nL 437.771286 7.2 \r\n\" style=\"fill:none;stroke:#ff0000;stroke-dasharray:5.55,2.4;stroke-dashoffset:0;stroke-width:1.5;\"/>\r\n   </g>\r\n   <g id=\"line2d_49\">\r\n    <path clip-path=\"url(#pd360a27ce2)\" d=\"M 501.762371 386.6 \r\nL 501.762371 7.2 \r\n\" style=\"fill:none;stroke:#ff0000;stroke-dasharray:5.55,2.4;stroke-dashoffset:0;stroke-width:1.5;\"/>\r\n   </g>\r\n   <g id=\"line2d_50\">\r\n    <path clip-path=\"url(#pd360a27ce2)\" d=\"M 544.423095 386.6 \r\nL 544.423095 7.2 \r\n\" style=\"fill:none;stroke:#ff0000;stroke-dasharray:5.55,2.4;stroke-dashoffset:0;stroke-width:1.5;\"/>\r\n   </g>\r\n   <g id=\"line2d_51\">\r\n    <path clip-path=\"url(#pd360a27ce2)\" d=\"M 589.750113 386.6 \r\nL 589.750113 7.2 \r\n\" style=\"fill:none;stroke:#ff0000;stroke-dasharray:5.55,2.4;stroke-dashoffset:0;stroke-width:1.5;\"/>\r\n   </g>\r\n   <g id=\"line2d_52\">\r\n    <path clip-path=\"url(#pd360a27ce2)\" d=\"M 611.080475 386.6 \r\nL 611.080475 7.2 \r\n\" style=\"fill:none;stroke:#ff0000;stroke-dasharray:5.55,2.4;stroke-dashoffset:0;stroke-width:1.5;\"/>\r\n   </g>\r\n   <g id=\"line2d_53\">\r\n    <path clip-path=\"url(#pd360a27ce2)\" d=\"M 632.410837 386.6 \r\nL 632.410837 7.2 \r\n\" style=\"fill:none;stroke:#ff0000;stroke-dasharray:5.55,2.4;stroke-dashoffset:0;stroke-width:1.5;\"/>\r\n   </g>\r\n   <g id=\"patch_3\">\r\n    <path d=\"M 59.690625 386.6 \r\nL 59.690625 7.2 \r\n\" style=\"fill:none;stroke:#000000;stroke-linecap:square;stroke-linejoin:miter;stroke-width:0.8;\"/>\r\n   </g>\r\n   <g id=\"patch_4\">\r\n    <path d=\"M 693.202367 386.6 \r\nL 693.202367 7.2 \r\n\" style=\"fill:none;stroke:#000000;stroke-linecap:square;stroke-linejoin:miter;stroke-width:0.8;\"/>\r\n   </g>\r\n   <g id=\"patch_5\">\r\n    <path d=\"M 59.690625 386.6 \r\nL 693.202367 386.6 \r\n\" style=\"fill:none;stroke:#000000;stroke-linecap:square;stroke-linejoin:miter;stroke-width:0.8;\"/>\r\n   </g>\r\n   <g id=\"patch_6\">\r\n    <path d=\"M 59.690625 7.2 \r\nL 693.202367 7.2 \r\n\" style=\"fill:none;stroke:#000000;stroke-linecap:square;stroke-linejoin:miter;stroke-width:0.8;\"/>\r\n   </g>\r\n  </g>\r\n </g>\r\n <defs>\r\n  <clipPath id=\"pd360a27ce2\">\r\n   <rect height=\"379.4\" width=\"633.511742\" x=\"59.690625\" y=\"7.2\"/>\r\n  </clipPath>\r\n </defs>\r\n</svg>\r\n",
      "image/png": "[encoded data removed]"
     },
     "metadata": {}
    }
   ],
   "source": [
    "# Display changepoints as red dotted line on the plot\n",
    "\n",
    "fig = m.plot(forecast)\n",
    "a = add_changepoints_to_plot(fig.gca(), m, forecast)\n",
    "fig.savefig(\"changepoints.png\")"
   ]
  },
  {
   "cell_type": "code",
   "execution_count": null,
   "metadata": {},
   "outputs": [],
   "source": []
  }
 ]
}